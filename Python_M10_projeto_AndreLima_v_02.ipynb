{
  "nbformat": 4,
  "nbformat_minor": 0,
  "metadata": {
    "colab": {
      "provenance": []
    },
    "kernelspec": {
      "name": "python3",
      "display_name": "Python 3"
    }
  },
  "cells": [
    {
      "cell_type": "markdown",
      "metadata": {
        "id": "KJqp9AANOCtf"
      },
      "source": [
        "<img src=\"https://raw.githubusercontent.com/andre-marcos-perez/ebac-course-utils/main/media/logo/newebac_logo_black_half.png\" alt=\"ebac-logo\">\n",
        "\n",
        "---\n",
        "\n",
        "# **Módulo** | Python: Projeto Final\n",
        "Caderno de **Aula**<br>\n",
        "Professor [André Perez](https://www.linkedin.com/in/andremarcosperez/)<br>\n",
        "Aluno: André Lima\n",
        "\n",
        "---"
      ]
    },
    {
      "cell_type": "markdown",
      "metadata": {
        "id": "d9jDtUbDOE1-"
      },
      "source": [
        "# **Tópicos**\n",
        "\n",
        "<ol type=\"1\">\n",
        "  <li>Projeto Final do Módulo Python;</li>\n",
        "  <li>Exploração de dados;</li>\n",
        "  <li>Transformação e limpeza de dados;</li>\n",
        "  <li>Visualização de dados;</li>\n",
        "  <li>Storytelling.</li>\n",
        "</ol>\n"
      ]
    },
    {
      "cell_type": "markdown",
      "metadata": {
        "id": "SmoHgt-lwkpD"
      },
      "source": [
        "---"
      ]
    },
    {
      "cell_type": "markdown",
      "metadata": {
        "id": "GABI6OW8OfQ2"
      },
      "source": [
        "# **Storytelling**"
      ]
    },
    {
      "cell_type": "markdown",
      "metadata": {
        "id": "muD1vxozykSC"
      },
      "source": [
        "## 1\\. Projeto Final do Módulo Python"
      ]
    },
    {
      "cell_type": "markdown",
      "metadata": {
        "id": "xnsoZc_wI0sl"
      },
      "source": [
        "O objetivo desse Módulo, organizado pela [EBAC](https://ebaconline.com.br), é fazer o aluno publicar seu projeto no [Kaggle](https://www.kaggle.com/), que é a maior comunidade online de ciência de dados e aprendizado de máquina.."
      ]
    },
    {
      "cell_type": "markdown",
      "metadata": {
        "id": "7BqRKqRGJ0i2"
      },
      "source": [
        "> Ao final, será publicado o notebook de exercícios na plataforma web do Kaggle, e, dessa forma, compartilhar tudo o que se aprendeu neste curso e compor o portfólio do futuro profissional."
      ]
    },
    {
      "cell_type": "markdown",
      "metadata": {
        "id": "4rRCvy_UURrM"
      },
      "source": [
        "## 2\\. Breve Descrição do Problema"
      ]
    },
    {
      "cell_type": "markdown",
      "metadata": {
        "id": "ByX7SUjNKk2K"
      },
      "source": [
        "Vamos explorar dados de crédito presentes neste neste [link](https://raw.githubusercontent.com/andre-marcos-perez/ebac-course-utils/develop/dataset/credito.csv). Os dados estão no formato CSV e contém informações sobre clientes de uma instituição financeira. Em especial, estamos interessados em explicar a segunda coluna, chamada de **default**, que indica se um cliente é adimplente(`default = 0`), ou inadimplente (`default = 1`), ou seja, queremos entender o porque um cliente deixa de honrar com suas dívidas baseado no comportamento de outros atributos, como salário, escolaridade e movimentação financeira. Uma descrição completa dos atributos está abaixo."
      ]
    },
    {
      "cell_type": "markdown",
      "metadata": {
        "id": "34x6dra_9Hjq"
      },
      "source": [
        "> O atributo de interesse (`default`) é conhecido como **variável resposta** ou **variável dependente**, já os demais atributos que buscam explicá-la (`idade`, `salário`, etc.) são conhecidas como **variáveis explicatívas**, **variáveis independentes** ou até **variáveis preditoras**."
      ]
    },
    {
      "cell_type": "markdown",
      "metadata": {
        "id": "Z5Fd0NSVLnwE"
      },
      "source": [
        "\n",
        "\n",
        "| Coluna  | Descrição |\n",
        "| ------- | --------- |\n",
        "| id      | Número da conta |\n",
        "| default | Indica se o cliente é adimplente (0) ou inadimplente (1) |\n",
        "| idade   | --- |\n",
        "| sexo    | --- |\n",
        "| depedentes | --- |\n",
        "| escolaridade | --- |\n",
        "| estado_civil | --- |\n",
        "| salario_anual | Faixa do salario mensal multiplicado por 12 |\n",
        "| tipo_cartao | Categoria do cartao: blue, silver, gold e platinium |\n",
        "| meses_de_relacionamento | Quantidade de meses desde a abertura da conta |\n",
        "| qtd_produtos | Quantidade de produtos contratados |\n",
        "| iteracoes_12m | Quantidade de iteracoes com o cliente no último ano |\n",
        "| meses_inatico_12m | Quantidade de meses que o cliente ficou inativo no último ano |\n",
        "| limite_credito | Valor do limite do cartão de crédito |\n",
        "| valor_transacoes_12m | Soma total do valor das transações no cartão de crédito no último ano |\n",
        "| qtd_transacoes_12m | Quantidade total de transações no cartão de crédito no último ano |\n",
        "\n"
      ]
    },
    {
      "cell_type": "markdown",
      "metadata": {
        "id": "qn84FpdD-Gmk"
      },
      "source": [
        "Vamos começar lendo os dados num dataframe `pandas`."
      ]
    },
    {
      "cell_type": "code",
      "metadata": {
        "id": "2y8zAhgFK1rs"
      },
      "source": [
        "import pandas as pd"
      ],
      "execution_count": null,
      "outputs": []
    },
    {
      "cell_type": "code",
      "metadata": {
        "id": "Oc1o3fzfKdhx"
      },
      "source": [
        "df = pd.read_csv('https://raw.githubusercontent.com/andre-marcos-perez/ebac-course-utils/develop/dataset/credito.csv', na_values='na')"
      ],
      "execution_count": null,
      "outputs": []
    },
    {
      "cell_type": "code",
      "metadata": {
        "id": "QCKDeFk_KtrW",
        "colab": {
          "base_uri": "https://localhost:8080/",
          "height": 452
        },
        "outputId": "374c0ab2-b85c-401a-c81a-702de6236382"
      },
      "source": [
        "df.head(n=10)"
      ],
      "execution_count": null,
      "outputs": [
        {
          "output_type": "execute_result",
          "data": {
            "text/plain": [
              "          id  default  idade sexo  dependentes         escolaridade  \\\n",
              "0  768805383        0     45    M            3         ensino medio   \n",
              "1  818770008        0     49    F            5             mestrado   \n",
              "2  713982108        0     51    M            3             mestrado   \n",
              "3  769911858        0     40    F            4         ensino medio   \n",
              "4  709106358        0     40    M            3  sem educacao formal   \n",
              "5  713061558        0     44    M            2             mestrado   \n",
              "6  810347208        0     51    M            4                  NaN   \n",
              "7  818906208        0     32    M            0         ensino medio   \n",
              "8  710930508        0     37    M            3  sem educacao formal   \n",
              "9  719661558        0     48    M            2             mestrado   \n",
              "\n",
              "  estado_civil   salario_anual tipo_cartao  meses_de_relacionamento  \\\n",
              "0       casado     $60K - $80K        blue                       39   \n",
              "1     solteiro  menos que $40K        blue                       44   \n",
              "2       casado    $80K - $120K        blue                       36   \n",
              "3          NaN  menos que $40K        blue                       34   \n",
              "4       casado     $60K - $80K        blue                       21   \n",
              "5       casado     $40K - $60K        blue                       36   \n",
              "6       casado         $120K +        gold                       46   \n",
              "7          NaN     $60K - $80K      silver                       27   \n",
              "8     solteiro     $60K - $80K        blue                       36   \n",
              "9     solteiro    $80K - $120K        blue                       36   \n",
              "\n",
              "   qtd_produtos  iteracoes_12m  meses_inativo_12m limite_credito  \\\n",
              "0             5              3                  1      12.691,51   \n",
              "1             6              2                  1       8.256,96   \n",
              "2             4              0                  1       3.418,56   \n",
              "3             3              1                  4       3.313,03   \n",
              "4             5              0                  1       4.716,22   \n",
              "5             3              2                  1       4.010,69   \n",
              "6             6              3                  1      34.516,72   \n",
              "7             2              2                  2      29.081,49   \n",
              "8             5              0                  2      22.352,50   \n",
              "9             6              3                  3      11.656,41   \n",
              "\n",
              "  valor_transacoes_12m  qtd_transacoes_12m  \n",
              "0             1.144,90                  42  \n",
              "1             1.291,45                  33  \n",
              "2             1.887,72                  20  \n",
              "3             1.171,56                  20  \n",
              "4               816,08                  28  \n",
              "5             1.088,07                  24  \n",
              "6             1.330,87                  31  \n",
              "7             1.538,32                  36  \n",
              "8             1.350,14                  24  \n",
              "9             1.441,73                  32  "
            ],
            "text/html": [
              "\n",
              "  <div id=\"df-a61be735-5629-4f2a-bc3c-e405444dcb91\" class=\"colab-df-container\">\n",
              "    <div>\n",
              "<style scoped>\n",
              "    .dataframe tbody tr th:only-of-type {\n",
              "        vertical-align: middle;\n",
              "    }\n",
              "\n",
              "    .dataframe tbody tr th {\n",
              "        vertical-align: top;\n",
              "    }\n",
              "\n",
              "    .dataframe thead th {\n",
              "        text-align: right;\n",
              "    }\n",
              "</style>\n",
              "<table border=\"1\" class=\"dataframe\">\n",
              "  <thead>\n",
              "    <tr style=\"text-align: right;\">\n",
              "      <th></th>\n",
              "      <th>id</th>\n",
              "      <th>default</th>\n",
              "      <th>idade</th>\n",
              "      <th>sexo</th>\n",
              "      <th>dependentes</th>\n",
              "      <th>escolaridade</th>\n",
              "      <th>estado_civil</th>\n",
              "      <th>salario_anual</th>\n",
              "      <th>tipo_cartao</th>\n",
              "      <th>meses_de_relacionamento</th>\n",
              "      <th>qtd_produtos</th>\n",
              "      <th>iteracoes_12m</th>\n",
              "      <th>meses_inativo_12m</th>\n",
              "      <th>limite_credito</th>\n",
              "      <th>valor_transacoes_12m</th>\n",
              "      <th>qtd_transacoes_12m</th>\n",
              "    </tr>\n",
              "  </thead>\n",
              "  <tbody>\n",
              "    <tr>\n",
              "      <th>0</th>\n",
              "      <td>768805383</td>\n",
              "      <td>0</td>\n",
              "      <td>45</td>\n",
              "      <td>M</td>\n",
              "      <td>3</td>\n",
              "      <td>ensino medio</td>\n",
              "      <td>casado</td>\n",
              "      <td>$60K - $80K</td>\n",
              "      <td>blue</td>\n",
              "      <td>39</td>\n",
              "      <td>5</td>\n",
              "      <td>3</td>\n",
              "      <td>1</td>\n",
              "      <td>12.691,51</td>\n",
              "      <td>1.144,90</td>\n",
              "      <td>42</td>\n",
              "    </tr>\n",
              "    <tr>\n",
              "      <th>1</th>\n",
              "      <td>818770008</td>\n",
              "      <td>0</td>\n",
              "      <td>49</td>\n",
              "      <td>F</td>\n",
              "      <td>5</td>\n",
              "      <td>mestrado</td>\n",
              "      <td>solteiro</td>\n",
              "      <td>menos que $40K</td>\n",
              "      <td>blue</td>\n",
              "      <td>44</td>\n",
              "      <td>6</td>\n",
              "      <td>2</td>\n",
              "      <td>1</td>\n",
              "      <td>8.256,96</td>\n",
              "      <td>1.291,45</td>\n",
              "      <td>33</td>\n",
              "    </tr>\n",
              "    <tr>\n",
              "      <th>2</th>\n",
              "      <td>713982108</td>\n",
              "      <td>0</td>\n",
              "      <td>51</td>\n",
              "      <td>M</td>\n",
              "      <td>3</td>\n",
              "      <td>mestrado</td>\n",
              "      <td>casado</td>\n",
              "      <td>$80K - $120K</td>\n",
              "      <td>blue</td>\n",
              "      <td>36</td>\n",
              "      <td>4</td>\n",
              "      <td>0</td>\n",
              "      <td>1</td>\n",
              "      <td>3.418,56</td>\n",
              "      <td>1.887,72</td>\n",
              "      <td>20</td>\n",
              "    </tr>\n",
              "    <tr>\n",
              "      <th>3</th>\n",
              "      <td>769911858</td>\n",
              "      <td>0</td>\n",
              "      <td>40</td>\n",
              "      <td>F</td>\n",
              "      <td>4</td>\n",
              "      <td>ensino medio</td>\n",
              "      <td>NaN</td>\n",
              "      <td>menos que $40K</td>\n",
              "      <td>blue</td>\n",
              "      <td>34</td>\n",
              "      <td>3</td>\n",
              "      <td>1</td>\n",
              "      <td>4</td>\n",
              "      <td>3.313,03</td>\n",
              "      <td>1.171,56</td>\n",
              "      <td>20</td>\n",
              "    </tr>\n",
              "    <tr>\n",
              "      <th>4</th>\n",
              "      <td>709106358</td>\n",
              "      <td>0</td>\n",
              "      <td>40</td>\n",
              "      <td>M</td>\n",
              "      <td>3</td>\n",
              "      <td>sem educacao formal</td>\n",
              "      <td>casado</td>\n",
              "      <td>$60K - $80K</td>\n",
              "      <td>blue</td>\n",
              "      <td>21</td>\n",
              "      <td>5</td>\n",
              "      <td>0</td>\n",
              "      <td>1</td>\n",
              "      <td>4.716,22</td>\n",
              "      <td>816,08</td>\n",
              "      <td>28</td>\n",
              "    </tr>\n",
              "    <tr>\n",
              "      <th>5</th>\n",
              "      <td>713061558</td>\n",
              "      <td>0</td>\n",
              "      <td>44</td>\n",
              "      <td>M</td>\n",
              "      <td>2</td>\n",
              "      <td>mestrado</td>\n",
              "      <td>casado</td>\n",
              "      <td>$40K - $60K</td>\n",
              "      <td>blue</td>\n",
              "      <td>36</td>\n",
              "      <td>3</td>\n",
              "      <td>2</td>\n",
              "      <td>1</td>\n",
              "      <td>4.010,69</td>\n",
              "      <td>1.088,07</td>\n",
              "      <td>24</td>\n",
              "    </tr>\n",
              "    <tr>\n",
              "      <th>6</th>\n",
              "      <td>810347208</td>\n",
              "      <td>0</td>\n",
              "      <td>51</td>\n",
              "      <td>M</td>\n",
              "      <td>4</td>\n",
              "      <td>NaN</td>\n",
              "      <td>casado</td>\n",
              "      <td>$120K +</td>\n",
              "      <td>gold</td>\n",
              "      <td>46</td>\n",
              "      <td>6</td>\n",
              "      <td>3</td>\n",
              "      <td>1</td>\n",
              "      <td>34.516,72</td>\n",
              "      <td>1.330,87</td>\n",
              "      <td>31</td>\n",
              "    </tr>\n",
              "    <tr>\n",
              "      <th>7</th>\n",
              "      <td>818906208</td>\n",
              "      <td>0</td>\n",
              "      <td>32</td>\n",
              "      <td>M</td>\n",
              "      <td>0</td>\n",
              "      <td>ensino medio</td>\n",
              "      <td>NaN</td>\n",
              "      <td>$60K - $80K</td>\n",
              "      <td>silver</td>\n",
              "      <td>27</td>\n",
              "      <td>2</td>\n",
              "      <td>2</td>\n",
              "      <td>2</td>\n",
              "      <td>29.081,49</td>\n",
              "      <td>1.538,32</td>\n",
              "      <td>36</td>\n",
              "    </tr>\n",
              "    <tr>\n",
              "      <th>8</th>\n",
              "      <td>710930508</td>\n",
              "      <td>0</td>\n",
              "      <td>37</td>\n",
              "      <td>M</td>\n",
              "      <td>3</td>\n",
              "      <td>sem educacao formal</td>\n",
              "      <td>solteiro</td>\n",
              "      <td>$60K - $80K</td>\n",
              "      <td>blue</td>\n",
              "      <td>36</td>\n",
              "      <td>5</td>\n",
              "      <td>0</td>\n",
              "      <td>2</td>\n",
              "      <td>22.352,50</td>\n",
              "      <td>1.350,14</td>\n",
              "      <td>24</td>\n",
              "    </tr>\n",
              "    <tr>\n",
              "      <th>9</th>\n",
              "      <td>719661558</td>\n",
              "      <td>0</td>\n",
              "      <td>48</td>\n",
              "      <td>M</td>\n",
              "      <td>2</td>\n",
              "      <td>mestrado</td>\n",
              "      <td>solteiro</td>\n",
              "      <td>$80K - $120K</td>\n",
              "      <td>blue</td>\n",
              "      <td>36</td>\n",
              "      <td>6</td>\n",
              "      <td>3</td>\n",
              "      <td>3</td>\n",
              "      <td>11.656,41</td>\n",
              "      <td>1.441,73</td>\n",
              "      <td>32</td>\n",
              "    </tr>\n",
              "  </tbody>\n",
              "</table>\n",
              "</div>\n",
              "    <div class=\"colab-df-buttons\">\n",
              "\n",
              "  <div class=\"colab-df-container\">\n",
              "    <button class=\"colab-df-convert\" onclick=\"convertToInteractive('df-a61be735-5629-4f2a-bc3c-e405444dcb91')\"\n",
              "            title=\"Convert this dataframe to an interactive table.\"\n",
              "            style=\"display:none;\">\n",
              "\n",
              "  <svg xmlns=\"http://www.w3.org/2000/svg\" height=\"24px\" viewBox=\"0 -960 960 960\">\n",
              "    <path d=\"M120-120v-720h720v720H120Zm60-500h600v-160H180v160Zm220 220h160v-160H400v160Zm0 220h160v-160H400v160ZM180-400h160v-160H180v160Zm440 0h160v-160H620v160ZM180-180h160v-160H180v160Zm440 0h160v-160H620v160Z\"/>\n",
              "  </svg>\n",
              "    </button>\n",
              "\n",
              "  <style>\n",
              "    .colab-df-container {\n",
              "      display:flex;\n",
              "      gap: 12px;\n",
              "    }\n",
              "\n",
              "    .colab-df-convert {\n",
              "      background-color: #E8F0FE;\n",
              "      border: none;\n",
              "      border-radius: 50%;\n",
              "      cursor: pointer;\n",
              "      display: none;\n",
              "      fill: #1967D2;\n",
              "      height: 32px;\n",
              "      padding: 0 0 0 0;\n",
              "      width: 32px;\n",
              "    }\n",
              "\n",
              "    .colab-df-convert:hover {\n",
              "      background-color: #E2EBFA;\n",
              "      box-shadow: 0px 1px 2px rgba(60, 64, 67, 0.3), 0px 1px 3px 1px rgba(60, 64, 67, 0.15);\n",
              "      fill: #174EA6;\n",
              "    }\n",
              "\n",
              "    .colab-df-buttons div {\n",
              "      margin-bottom: 4px;\n",
              "    }\n",
              "\n",
              "    [theme=dark] .colab-df-convert {\n",
              "      background-color: #3B4455;\n",
              "      fill: #D2E3FC;\n",
              "    }\n",
              "\n",
              "    [theme=dark] .colab-df-convert:hover {\n",
              "      background-color: #434B5C;\n",
              "      box-shadow: 0px 1px 3px 1px rgba(0, 0, 0, 0.15);\n",
              "      filter: drop-shadow(0px 1px 2px rgba(0, 0, 0, 0.3));\n",
              "      fill: #FFFFFF;\n",
              "    }\n",
              "  </style>\n",
              "\n",
              "    <script>\n",
              "      const buttonEl =\n",
              "        document.querySelector('#df-a61be735-5629-4f2a-bc3c-e405444dcb91 button.colab-df-convert');\n",
              "      buttonEl.style.display =\n",
              "        google.colab.kernel.accessAllowed ? 'block' : 'none';\n",
              "\n",
              "      async function convertToInteractive(key) {\n",
              "        const element = document.querySelector('#df-a61be735-5629-4f2a-bc3c-e405444dcb91');\n",
              "        const dataTable =\n",
              "          await google.colab.kernel.invokeFunction('convertToInteractive',\n",
              "                                                    [key], {});\n",
              "        if (!dataTable) return;\n",
              "\n",
              "        const docLinkHtml = 'Like what you see? Visit the ' +\n",
              "          '<a target=\"_blank\" href=https://colab.research.google.com/notebooks/data_table.ipynb>data table notebook</a>'\n",
              "          + ' to learn more about interactive tables.';\n",
              "        element.innerHTML = '';\n",
              "        dataTable['output_type'] = 'display_data';\n",
              "        await google.colab.output.renderOutput(dataTable, element);\n",
              "        const docLink = document.createElement('div');\n",
              "        docLink.innerHTML = docLinkHtml;\n",
              "        element.appendChild(docLink);\n",
              "      }\n",
              "    </script>\n",
              "  </div>\n",
              "\n",
              "\n",
              "<div id=\"df-418accf3-2213-444f-a366-dfd01116cbe3\">\n",
              "  <button class=\"colab-df-quickchart\" onclick=\"quickchart('df-418accf3-2213-444f-a366-dfd01116cbe3')\"\n",
              "            title=\"Suggest charts.\"\n",
              "            style=\"display:none;\">\n",
              "\n",
              "<svg xmlns=\"http://www.w3.org/2000/svg\" height=\"24px\"viewBox=\"0 0 24 24\"\n",
              "     width=\"24px\">\n",
              "    <g>\n",
              "        <path d=\"M19 3H5c-1.1 0-2 .9-2 2v14c0 1.1.9 2 2 2h14c1.1 0 2-.9 2-2V5c0-1.1-.9-2-2-2zM9 17H7v-7h2v7zm4 0h-2V7h2v10zm4 0h-2v-4h2v4z\"/>\n",
              "    </g>\n",
              "</svg>\n",
              "  </button>\n",
              "\n",
              "<style>\n",
              "  .colab-df-quickchart {\n",
              "      --bg-color: #E8F0FE;\n",
              "      --fill-color: #1967D2;\n",
              "      --hover-bg-color: #E2EBFA;\n",
              "      --hover-fill-color: #174EA6;\n",
              "      --disabled-fill-color: #AAA;\n",
              "      --disabled-bg-color: #DDD;\n",
              "  }\n",
              "\n",
              "  [theme=dark] .colab-df-quickchart {\n",
              "      --bg-color: #3B4455;\n",
              "      --fill-color: #D2E3FC;\n",
              "      --hover-bg-color: #434B5C;\n",
              "      --hover-fill-color: #FFFFFF;\n",
              "      --disabled-bg-color: #3B4455;\n",
              "      --disabled-fill-color: #666;\n",
              "  }\n",
              "\n",
              "  .colab-df-quickchart {\n",
              "    background-color: var(--bg-color);\n",
              "    border: none;\n",
              "    border-radius: 50%;\n",
              "    cursor: pointer;\n",
              "    display: none;\n",
              "    fill: var(--fill-color);\n",
              "    height: 32px;\n",
              "    padding: 0;\n",
              "    width: 32px;\n",
              "  }\n",
              "\n",
              "  .colab-df-quickchart:hover {\n",
              "    background-color: var(--hover-bg-color);\n",
              "    box-shadow: 0 1px 2px rgba(60, 64, 67, 0.3), 0 1px 3px 1px rgba(60, 64, 67, 0.15);\n",
              "    fill: var(--button-hover-fill-color);\n",
              "  }\n",
              "\n",
              "  .colab-df-quickchart-complete:disabled,\n",
              "  .colab-df-quickchart-complete:disabled:hover {\n",
              "    background-color: var(--disabled-bg-color);\n",
              "    fill: var(--disabled-fill-color);\n",
              "    box-shadow: none;\n",
              "  }\n",
              "\n",
              "  .colab-df-spinner {\n",
              "    border: 2px solid var(--fill-color);\n",
              "    border-color: transparent;\n",
              "    border-bottom-color: var(--fill-color);\n",
              "    animation:\n",
              "      spin 1s steps(1) infinite;\n",
              "  }\n",
              "\n",
              "  @keyframes spin {\n",
              "    0% {\n",
              "      border-color: transparent;\n",
              "      border-bottom-color: var(--fill-color);\n",
              "      border-left-color: var(--fill-color);\n",
              "    }\n",
              "    20% {\n",
              "      border-color: transparent;\n",
              "      border-left-color: var(--fill-color);\n",
              "      border-top-color: var(--fill-color);\n",
              "    }\n",
              "    30% {\n",
              "      border-color: transparent;\n",
              "      border-left-color: var(--fill-color);\n",
              "      border-top-color: var(--fill-color);\n",
              "      border-right-color: var(--fill-color);\n",
              "    }\n",
              "    40% {\n",
              "      border-color: transparent;\n",
              "      border-right-color: var(--fill-color);\n",
              "      border-top-color: var(--fill-color);\n",
              "    }\n",
              "    60% {\n",
              "      border-color: transparent;\n",
              "      border-right-color: var(--fill-color);\n",
              "    }\n",
              "    80% {\n",
              "      border-color: transparent;\n",
              "      border-right-color: var(--fill-color);\n",
              "      border-bottom-color: var(--fill-color);\n",
              "    }\n",
              "    90% {\n",
              "      border-color: transparent;\n",
              "      border-bottom-color: var(--fill-color);\n",
              "    }\n",
              "  }\n",
              "</style>\n",
              "\n",
              "  <script>\n",
              "    async function quickchart(key) {\n",
              "      const quickchartButtonEl =\n",
              "        document.querySelector('#' + key + ' button');\n",
              "      quickchartButtonEl.disabled = true;  // To prevent multiple clicks.\n",
              "      quickchartButtonEl.classList.add('colab-df-spinner');\n",
              "      try {\n",
              "        const charts = await google.colab.kernel.invokeFunction(\n",
              "            'suggestCharts', [key], {});\n",
              "      } catch (error) {\n",
              "        console.error('Error during call to suggestCharts:', error);\n",
              "      }\n",
              "      quickchartButtonEl.classList.remove('colab-df-spinner');\n",
              "      quickchartButtonEl.classList.add('colab-df-quickchart-complete');\n",
              "    }\n",
              "    (() => {\n",
              "      let quickchartButtonEl =\n",
              "        document.querySelector('#df-418accf3-2213-444f-a366-dfd01116cbe3 button');\n",
              "      quickchartButtonEl.style.display =\n",
              "        google.colab.kernel.accessAllowed ? 'block' : 'none';\n",
              "    })();\n",
              "  </script>\n",
              "</div>\n",
              "    </div>\n",
              "  </div>\n"
            ]
          },
          "metadata": {},
          "execution_count": 3
        }
      ]
    },
    {
      "cell_type": "markdown",
      "metadata": {
        "id": "r7pm8Ar5-PBS"
      },
      "source": [
        "Com o dados em mãos, vamos conhecer um pouco melhor a estrutura do nosso conjunto de dados."
      ]
    },
    {
      "cell_type": "markdown",
      "metadata": {
        "id": "EuDUXAcU-bWl"
      },
      "source": [
        "### **2.1. Estrutura**"
      ]
    },
    {
      "cell_type": "code",
      "metadata": {
        "id": "TiHtowl0RzDj",
        "colab": {
          "base_uri": "https://localhost:8080/"
        },
        "outputId": "e6af775c-4d03-4e57-c157-bc32b1b307a4"
      },
      "source": [
        "df.shape # retorna uma tupla (qtd linhas, qtd colunas)"
      ],
      "execution_count": null,
      "outputs": [
        {
          "output_type": "execute_result",
          "data": {
            "text/plain": [
              "(10127, 16)"
            ]
          },
          "metadata": {},
          "execution_count": 4
        }
      ]
    },
    {
      "cell_type": "code",
      "metadata": {
        "id": "J1FI7JejBrXN",
        "colab": {
          "base_uri": "https://localhost:8080/"
        },
        "outputId": "310c730d-5330-4f96-d68a-7a40f5ea2641"
      },
      "source": [
        "df[df['default'] == 0].shape"
      ],
      "execution_count": null,
      "outputs": [
        {
          "output_type": "execute_result",
          "data": {
            "text/plain": [
              "(8500, 16)"
            ]
          },
          "metadata": {},
          "execution_count": 5
        }
      ]
    },
    {
      "cell_type": "code",
      "metadata": {
        "id": "G4RYP6btBriq",
        "colab": {
          "base_uri": "https://localhost:8080/"
        },
        "outputId": "fb704671-b9a5-4255-b68f-cebba06d165b"
      },
      "source": [
        "df[df['default'] == 1].shape"
      ],
      "execution_count": null,
      "outputs": [
        {
          "output_type": "execute_result",
          "data": {
            "text/plain": [
              "(1627, 16)"
            ]
          },
          "metadata": {},
          "execution_count": 6
        }
      ]
    },
    {
      "cell_type": "code",
      "metadata": {
        "id": "wH_CazQqB0Ju"
      },
      "source": [
        "qtd_total, _ = df.shape\n",
        "qtd_adimplentes, _ = df[df['default'] == 0].shape\n",
        "qtd_inadimplentes, _ = df[df['default'] == 1].shape"
      ],
      "execution_count": null,
      "outputs": []
    },
    {
      "cell_type": "code",
      "metadata": {
        "id": "oNt0s7YeCb3z",
        "colab": {
          "base_uri": "https://localhost:8080/"
        },
        "outputId": "e0d4b949-2c4f-4b6e-b18c-444315e7ffde"
      },
      "source": [
        "print(f\"A proporcão clientes adimplentes é de {round(100 * qtd_adimplentes / qtd_total, 2)}%\")\n",
        "print(f\"A proporcão clientes inadimplentes é de {round(100 * qtd_inadimplentes / qtd_total, 2)}%\")"
      ],
      "execution_count": null,
      "outputs": [
        {
          "output_type": "stream",
          "name": "stdout",
          "text": [
            "A proporcão clientes adimplentes é de 83.93%\n",
            "A proporcão clientes inadimplentes é de 16.07%\n"
          ]
        }
      ]
    },
    {
      "cell_type": "markdown",
      "metadata": {
        "id": "kwey_fNL-dko"
      },
      "source": [
        "### **2.2. Schema**"
      ]
    },
    {
      "cell_type": "code",
      "metadata": {
        "id": "nYYrLXUfHo_3",
        "colab": {
          "base_uri": "https://localhost:8080/",
          "height": 278
        },
        "outputId": "34c809ec-60c2-4756-9893-b83c175509bd"
      },
      "source": [
        "df.head(n=5)"
      ],
      "execution_count": null,
      "outputs": [
        {
          "output_type": "execute_result",
          "data": {
            "text/plain": [
              "          id  default  idade sexo  dependentes         escolaridade  \\\n",
              "0  768805383        0     45    M            3         ensino medio   \n",
              "1  818770008        0     49    F            5             mestrado   \n",
              "2  713982108        0     51    M            3             mestrado   \n",
              "3  769911858        0     40    F            4         ensino medio   \n",
              "4  709106358        0     40    M            3  sem educacao formal   \n",
              "\n",
              "  estado_civil   salario_anual tipo_cartao  meses_de_relacionamento  \\\n",
              "0       casado     $60K - $80K        blue                       39   \n",
              "1     solteiro  menos que $40K        blue                       44   \n",
              "2       casado    $80K - $120K        blue                       36   \n",
              "3          NaN  menos que $40K        blue                       34   \n",
              "4       casado     $60K - $80K        blue                       21   \n",
              "\n",
              "   qtd_produtos  iteracoes_12m  meses_inativo_12m limite_credito  \\\n",
              "0             5              3                  1      12.691,51   \n",
              "1             6              2                  1       8.256,96   \n",
              "2             4              0                  1       3.418,56   \n",
              "3             3              1                  4       3.313,03   \n",
              "4             5              0                  1       4.716,22   \n",
              "\n",
              "  valor_transacoes_12m  qtd_transacoes_12m  \n",
              "0             1.144,90                  42  \n",
              "1             1.291,45                  33  \n",
              "2             1.887,72                  20  \n",
              "3             1.171,56                  20  \n",
              "4               816,08                  28  "
            ],
            "text/html": [
              "\n",
              "  <div id=\"df-7195e3cc-ebdc-4efd-b845-645bb4848882\" class=\"colab-df-container\">\n",
              "    <div>\n",
              "<style scoped>\n",
              "    .dataframe tbody tr th:only-of-type {\n",
              "        vertical-align: middle;\n",
              "    }\n",
              "\n",
              "    .dataframe tbody tr th {\n",
              "        vertical-align: top;\n",
              "    }\n",
              "\n",
              "    .dataframe thead th {\n",
              "        text-align: right;\n",
              "    }\n",
              "</style>\n",
              "<table border=\"1\" class=\"dataframe\">\n",
              "  <thead>\n",
              "    <tr style=\"text-align: right;\">\n",
              "      <th></th>\n",
              "      <th>id</th>\n",
              "      <th>default</th>\n",
              "      <th>idade</th>\n",
              "      <th>sexo</th>\n",
              "      <th>dependentes</th>\n",
              "      <th>escolaridade</th>\n",
              "      <th>estado_civil</th>\n",
              "      <th>salario_anual</th>\n",
              "      <th>tipo_cartao</th>\n",
              "      <th>meses_de_relacionamento</th>\n",
              "      <th>qtd_produtos</th>\n",
              "      <th>iteracoes_12m</th>\n",
              "      <th>meses_inativo_12m</th>\n",
              "      <th>limite_credito</th>\n",
              "      <th>valor_transacoes_12m</th>\n",
              "      <th>qtd_transacoes_12m</th>\n",
              "    </tr>\n",
              "  </thead>\n",
              "  <tbody>\n",
              "    <tr>\n",
              "      <th>0</th>\n",
              "      <td>768805383</td>\n",
              "      <td>0</td>\n",
              "      <td>45</td>\n",
              "      <td>M</td>\n",
              "      <td>3</td>\n",
              "      <td>ensino medio</td>\n",
              "      <td>casado</td>\n",
              "      <td>$60K - $80K</td>\n",
              "      <td>blue</td>\n",
              "      <td>39</td>\n",
              "      <td>5</td>\n",
              "      <td>3</td>\n",
              "      <td>1</td>\n",
              "      <td>12.691,51</td>\n",
              "      <td>1.144,90</td>\n",
              "      <td>42</td>\n",
              "    </tr>\n",
              "    <tr>\n",
              "      <th>1</th>\n",
              "      <td>818770008</td>\n",
              "      <td>0</td>\n",
              "      <td>49</td>\n",
              "      <td>F</td>\n",
              "      <td>5</td>\n",
              "      <td>mestrado</td>\n",
              "      <td>solteiro</td>\n",
              "      <td>menos que $40K</td>\n",
              "      <td>blue</td>\n",
              "      <td>44</td>\n",
              "      <td>6</td>\n",
              "      <td>2</td>\n",
              "      <td>1</td>\n",
              "      <td>8.256,96</td>\n",
              "      <td>1.291,45</td>\n",
              "      <td>33</td>\n",
              "    </tr>\n",
              "    <tr>\n",
              "      <th>2</th>\n",
              "      <td>713982108</td>\n",
              "      <td>0</td>\n",
              "      <td>51</td>\n",
              "      <td>M</td>\n",
              "      <td>3</td>\n",
              "      <td>mestrado</td>\n",
              "      <td>casado</td>\n",
              "      <td>$80K - $120K</td>\n",
              "      <td>blue</td>\n",
              "      <td>36</td>\n",
              "      <td>4</td>\n",
              "      <td>0</td>\n",
              "      <td>1</td>\n",
              "      <td>3.418,56</td>\n",
              "      <td>1.887,72</td>\n",
              "      <td>20</td>\n",
              "    </tr>\n",
              "    <tr>\n",
              "      <th>3</th>\n",
              "      <td>769911858</td>\n",
              "      <td>0</td>\n",
              "      <td>40</td>\n",
              "      <td>F</td>\n",
              "      <td>4</td>\n",
              "      <td>ensino medio</td>\n",
              "      <td>NaN</td>\n",
              "      <td>menos que $40K</td>\n",
              "      <td>blue</td>\n",
              "      <td>34</td>\n",
              "      <td>3</td>\n",
              "      <td>1</td>\n",
              "      <td>4</td>\n",
              "      <td>3.313,03</td>\n",
              "      <td>1.171,56</td>\n",
              "      <td>20</td>\n",
              "    </tr>\n",
              "    <tr>\n",
              "      <th>4</th>\n",
              "      <td>709106358</td>\n",
              "      <td>0</td>\n",
              "      <td>40</td>\n",
              "      <td>M</td>\n",
              "      <td>3</td>\n",
              "      <td>sem educacao formal</td>\n",
              "      <td>casado</td>\n",
              "      <td>$60K - $80K</td>\n",
              "      <td>blue</td>\n",
              "      <td>21</td>\n",
              "      <td>5</td>\n",
              "      <td>0</td>\n",
              "      <td>1</td>\n",
              "      <td>4.716,22</td>\n",
              "      <td>816,08</td>\n",
              "      <td>28</td>\n",
              "    </tr>\n",
              "  </tbody>\n",
              "</table>\n",
              "</div>\n",
              "    <div class=\"colab-df-buttons\">\n",
              "\n",
              "  <div class=\"colab-df-container\">\n",
              "    <button class=\"colab-df-convert\" onclick=\"convertToInteractive('df-7195e3cc-ebdc-4efd-b845-645bb4848882')\"\n",
              "            title=\"Convert this dataframe to an interactive table.\"\n",
              "            style=\"display:none;\">\n",
              "\n",
              "  <svg xmlns=\"http://www.w3.org/2000/svg\" height=\"24px\" viewBox=\"0 -960 960 960\">\n",
              "    <path d=\"M120-120v-720h720v720H120Zm60-500h600v-160H180v160Zm220 220h160v-160H400v160Zm0 220h160v-160H400v160ZM180-400h160v-160H180v160Zm440 0h160v-160H620v160ZM180-180h160v-160H180v160Zm440 0h160v-160H620v160Z\"/>\n",
              "  </svg>\n",
              "    </button>\n",
              "\n",
              "  <style>\n",
              "    .colab-df-container {\n",
              "      display:flex;\n",
              "      gap: 12px;\n",
              "    }\n",
              "\n",
              "    .colab-df-convert {\n",
              "      background-color: #E8F0FE;\n",
              "      border: none;\n",
              "      border-radius: 50%;\n",
              "      cursor: pointer;\n",
              "      display: none;\n",
              "      fill: #1967D2;\n",
              "      height: 32px;\n",
              "      padding: 0 0 0 0;\n",
              "      width: 32px;\n",
              "    }\n",
              "\n",
              "    .colab-df-convert:hover {\n",
              "      background-color: #E2EBFA;\n",
              "      box-shadow: 0px 1px 2px rgba(60, 64, 67, 0.3), 0px 1px 3px 1px rgba(60, 64, 67, 0.15);\n",
              "      fill: #174EA6;\n",
              "    }\n",
              "\n",
              "    .colab-df-buttons div {\n",
              "      margin-bottom: 4px;\n",
              "    }\n",
              "\n",
              "    [theme=dark] .colab-df-convert {\n",
              "      background-color: #3B4455;\n",
              "      fill: #D2E3FC;\n",
              "    }\n",
              "\n",
              "    [theme=dark] .colab-df-convert:hover {\n",
              "      background-color: #434B5C;\n",
              "      box-shadow: 0px 1px 3px 1px rgba(0, 0, 0, 0.15);\n",
              "      filter: drop-shadow(0px 1px 2px rgba(0, 0, 0, 0.3));\n",
              "      fill: #FFFFFF;\n",
              "    }\n",
              "  </style>\n",
              "\n",
              "    <script>\n",
              "      const buttonEl =\n",
              "        document.querySelector('#df-7195e3cc-ebdc-4efd-b845-645bb4848882 button.colab-df-convert');\n",
              "      buttonEl.style.display =\n",
              "        google.colab.kernel.accessAllowed ? 'block' : 'none';\n",
              "\n",
              "      async function convertToInteractive(key) {\n",
              "        const element = document.querySelector('#df-7195e3cc-ebdc-4efd-b845-645bb4848882');\n",
              "        const dataTable =\n",
              "          await google.colab.kernel.invokeFunction('convertToInteractive',\n",
              "                                                    [key], {});\n",
              "        if (!dataTable) return;\n",
              "\n",
              "        const docLinkHtml = 'Like what you see? Visit the ' +\n",
              "          '<a target=\"_blank\" href=https://colab.research.google.com/notebooks/data_table.ipynb>data table notebook</a>'\n",
              "          + ' to learn more about interactive tables.';\n",
              "        element.innerHTML = '';\n",
              "        dataTable['output_type'] = 'display_data';\n",
              "        await google.colab.output.renderOutput(dataTable, element);\n",
              "        const docLink = document.createElement('div');\n",
              "        docLink.innerHTML = docLinkHtml;\n",
              "        element.appendChild(docLink);\n",
              "      }\n",
              "    </script>\n",
              "  </div>\n",
              "\n",
              "\n",
              "<div id=\"df-46857b76-96cc-479f-bb5e-3c0fa727507d\">\n",
              "  <button class=\"colab-df-quickchart\" onclick=\"quickchart('df-46857b76-96cc-479f-bb5e-3c0fa727507d')\"\n",
              "            title=\"Suggest charts.\"\n",
              "            style=\"display:none;\">\n",
              "\n",
              "<svg xmlns=\"http://www.w3.org/2000/svg\" height=\"24px\"viewBox=\"0 0 24 24\"\n",
              "     width=\"24px\">\n",
              "    <g>\n",
              "        <path d=\"M19 3H5c-1.1 0-2 .9-2 2v14c0 1.1.9 2 2 2h14c1.1 0 2-.9 2-2V5c0-1.1-.9-2-2-2zM9 17H7v-7h2v7zm4 0h-2V7h2v10zm4 0h-2v-4h2v4z\"/>\n",
              "    </g>\n",
              "</svg>\n",
              "  </button>\n",
              "\n",
              "<style>\n",
              "  .colab-df-quickchart {\n",
              "      --bg-color: #E8F0FE;\n",
              "      --fill-color: #1967D2;\n",
              "      --hover-bg-color: #E2EBFA;\n",
              "      --hover-fill-color: #174EA6;\n",
              "      --disabled-fill-color: #AAA;\n",
              "      --disabled-bg-color: #DDD;\n",
              "  }\n",
              "\n",
              "  [theme=dark] .colab-df-quickchart {\n",
              "      --bg-color: #3B4455;\n",
              "      --fill-color: #D2E3FC;\n",
              "      --hover-bg-color: #434B5C;\n",
              "      --hover-fill-color: #FFFFFF;\n",
              "      --disabled-bg-color: #3B4455;\n",
              "      --disabled-fill-color: #666;\n",
              "  }\n",
              "\n",
              "  .colab-df-quickchart {\n",
              "    background-color: var(--bg-color);\n",
              "    border: none;\n",
              "    border-radius: 50%;\n",
              "    cursor: pointer;\n",
              "    display: none;\n",
              "    fill: var(--fill-color);\n",
              "    height: 32px;\n",
              "    padding: 0;\n",
              "    width: 32px;\n",
              "  }\n",
              "\n",
              "  .colab-df-quickchart:hover {\n",
              "    background-color: var(--hover-bg-color);\n",
              "    box-shadow: 0 1px 2px rgba(60, 64, 67, 0.3), 0 1px 3px 1px rgba(60, 64, 67, 0.15);\n",
              "    fill: var(--button-hover-fill-color);\n",
              "  }\n",
              "\n",
              "  .colab-df-quickchart-complete:disabled,\n",
              "  .colab-df-quickchart-complete:disabled:hover {\n",
              "    background-color: var(--disabled-bg-color);\n",
              "    fill: var(--disabled-fill-color);\n",
              "    box-shadow: none;\n",
              "  }\n",
              "\n",
              "  .colab-df-spinner {\n",
              "    border: 2px solid var(--fill-color);\n",
              "    border-color: transparent;\n",
              "    border-bottom-color: var(--fill-color);\n",
              "    animation:\n",
              "      spin 1s steps(1) infinite;\n",
              "  }\n",
              "\n",
              "  @keyframes spin {\n",
              "    0% {\n",
              "      border-color: transparent;\n",
              "      border-bottom-color: var(--fill-color);\n",
              "      border-left-color: var(--fill-color);\n",
              "    }\n",
              "    20% {\n",
              "      border-color: transparent;\n",
              "      border-left-color: var(--fill-color);\n",
              "      border-top-color: var(--fill-color);\n",
              "    }\n",
              "    30% {\n",
              "      border-color: transparent;\n",
              "      border-left-color: var(--fill-color);\n",
              "      border-top-color: var(--fill-color);\n",
              "      border-right-color: var(--fill-color);\n",
              "    }\n",
              "    40% {\n",
              "      border-color: transparent;\n",
              "      border-right-color: var(--fill-color);\n",
              "      border-top-color: var(--fill-color);\n",
              "    }\n",
              "    60% {\n",
              "      border-color: transparent;\n",
              "      border-right-color: var(--fill-color);\n",
              "    }\n",
              "    80% {\n",
              "      border-color: transparent;\n",
              "      border-right-color: var(--fill-color);\n",
              "      border-bottom-color: var(--fill-color);\n",
              "    }\n",
              "    90% {\n",
              "      border-color: transparent;\n",
              "      border-bottom-color: var(--fill-color);\n",
              "    }\n",
              "  }\n",
              "</style>\n",
              "\n",
              "  <script>\n",
              "    async function quickchart(key) {\n",
              "      const quickchartButtonEl =\n",
              "        document.querySelector('#' + key + ' button');\n",
              "      quickchartButtonEl.disabled = true;  // To prevent multiple clicks.\n",
              "      quickchartButtonEl.classList.add('colab-df-spinner');\n",
              "      try {\n",
              "        const charts = await google.colab.kernel.invokeFunction(\n",
              "            'suggestCharts', [key], {});\n",
              "      } catch (error) {\n",
              "        console.error('Error during call to suggestCharts:', error);\n",
              "      }\n",
              "      quickchartButtonEl.classList.remove('colab-df-spinner');\n",
              "      quickchartButtonEl.classList.add('colab-df-quickchart-complete');\n",
              "    }\n",
              "    (() => {\n",
              "      let quickchartButtonEl =\n",
              "        document.querySelector('#df-46857b76-96cc-479f-bb5e-3c0fa727507d button');\n",
              "      quickchartButtonEl.style.display =\n",
              "        google.colab.kernel.accessAllowed ? 'block' : 'none';\n",
              "    })();\n",
              "  </script>\n",
              "</div>\n",
              "    </div>\n",
              "  </div>\n"
            ]
          },
          "metadata": {},
          "execution_count": 9
        }
      ]
    },
    {
      "cell_type": "markdown",
      "metadata": {
        "id": "sqxmut5iHPeF"
      },
      "source": [
        " - Colunas e seus respectivos tipos de dados."
      ]
    },
    {
      "cell_type": "code",
      "metadata": {
        "id": "llbDSkrwK8Yy",
        "colab": {
          "base_uri": "https://localhost:8080/"
        },
        "outputId": "05cb5dc8-ffde-4b22-ee70-87d2d6ff167f"
      },
      "source": [
        "df.dtypes"
      ],
      "execution_count": null,
      "outputs": [
        {
          "output_type": "execute_result",
          "data": {
            "text/plain": [
              "id                          int64\n",
              "default                     int64\n",
              "idade                       int64\n",
              "sexo                       object\n",
              "dependentes                 int64\n",
              "escolaridade               object\n",
              "estado_civil               object\n",
              "salario_anual              object\n",
              "tipo_cartao                object\n",
              "meses_de_relacionamento     int64\n",
              "qtd_produtos                int64\n",
              "iteracoes_12m               int64\n",
              "meses_inativo_12m           int64\n",
              "limite_credito             object\n",
              "valor_transacoes_12m       object\n",
              "qtd_transacoes_12m          int64\n",
              "dtype: object"
            ]
          },
          "metadata": {},
          "execution_count": 10
        }
      ]
    },
    {
      "cell_type": "markdown",
      "metadata": {
        "id": "aoW6ljPmHCiB"
      },
      "source": [
        " - Atributos **categóricos**."
      ]
    },
    {
      "cell_type": "code",
      "metadata": {
        "id": "Bk9ruKeCFiEn",
        "colab": {
          "base_uri": "https://localhost:8080/",
          "height": 269
        },
        "outputId": "ba8e078c-33df-420d-f606-ffd9efa4bb31"
      },
      "source": [
        "df.select_dtypes('object').describe().transpose()"
      ],
      "execution_count": null,
      "outputs": [
        {
          "output_type": "execute_result",
          "data": {
            "text/plain": [
              "                      count unique             top  freq\n",
              "sexo                  10127      2               F  5358\n",
              "escolaridade           8608      5        mestrado  3128\n",
              "estado_civil           9378      3          casado  4687\n",
              "salario_anual          9015      5  menos que $40K  3561\n",
              "tipo_cartao           10127      4            blue  9436\n",
              "limite_credito        10127   9272        1.438,21    11\n",
              "valor_transacoes_12m  10127  10035        3.851,51     3"
            ],
            "text/html": [
              "\n",
              "  <div id=\"df-e393acd9-4f17-4306-8a8e-1266a74c2c00\" class=\"colab-df-container\">\n",
              "    <div>\n",
              "<style scoped>\n",
              "    .dataframe tbody tr th:only-of-type {\n",
              "        vertical-align: middle;\n",
              "    }\n",
              "\n",
              "    .dataframe tbody tr th {\n",
              "        vertical-align: top;\n",
              "    }\n",
              "\n",
              "    .dataframe thead th {\n",
              "        text-align: right;\n",
              "    }\n",
              "</style>\n",
              "<table border=\"1\" class=\"dataframe\">\n",
              "  <thead>\n",
              "    <tr style=\"text-align: right;\">\n",
              "      <th></th>\n",
              "      <th>count</th>\n",
              "      <th>unique</th>\n",
              "      <th>top</th>\n",
              "      <th>freq</th>\n",
              "    </tr>\n",
              "  </thead>\n",
              "  <tbody>\n",
              "    <tr>\n",
              "      <th>sexo</th>\n",
              "      <td>10127</td>\n",
              "      <td>2</td>\n",
              "      <td>F</td>\n",
              "      <td>5358</td>\n",
              "    </tr>\n",
              "    <tr>\n",
              "      <th>escolaridade</th>\n",
              "      <td>8608</td>\n",
              "      <td>5</td>\n",
              "      <td>mestrado</td>\n",
              "      <td>3128</td>\n",
              "    </tr>\n",
              "    <tr>\n",
              "      <th>estado_civil</th>\n",
              "      <td>9378</td>\n",
              "      <td>3</td>\n",
              "      <td>casado</td>\n",
              "      <td>4687</td>\n",
              "    </tr>\n",
              "    <tr>\n",
              "      <th>salario_anual</th>\n",
              "      <td>9015</td>\n",
              "      <td>5</td>\n",
              "      <td>menos que $40K</td>\n",
              "      <td>3561</td>\n",
              "    </tr>\n",
              "    <tr>\n",
              "      <th>tipo_cartao</th>\n",
              "      <td>10127</td>\n",
              "      <td>4</td>\n",
              "      <td>blue</td>\n",
              "      <td>9436</td>\n",
              "    </tr>\n",
              "    <tr>\n",
              "      <th>limite_credito</th>\n",
              "      <td>10127</td>\n",
              "      <td>9272</td>\n",
              "      <td>1.438,21</td>\n",
              "      <td>11</td>\n",
              "    </tr>\n",
              "    <tr>\n",
              "      <th>valor_transacoes_12m</th>\n",
              "      <td>10127</td>\n",
              "      <td>10035</td>\n",
              "      <td>3.851,51</td>\n",
              "      <td>3</td>\n",
              "    </tr>\n",
              "  </tbody>\n",
              "</table>\n",
              "</div>\n",
              "    <div class=\"colab-df-buttons\">\n",
              "\n",
              "  <div class=\"colab-df-container\">\n",
              "    <button class=\"colab-df-convert\" onclick=\"convertToInteractive('df-e393acd9-4f17-4306-8a8e-1266a74c2c00')\"\n",
              "            title=\"Convert this dataframe to an interactive table.\"\n",
              "            style=\"display:none;\">\n",
              "\n",
              "  <svg xmlns=\"http://www.w3.org/2000/svg\" height=\"24px\" viewBox=\"0 -960 960 960\">\n",
              "    <path d=\"M120-120v-720h720v720H120Zm60-500h600v-160H180v160Zm220 220h160v-160H400v160Zm0 220h160v-160H400v160ZM180-400h160v-160H180v160Zm440 0h160v-160H620v160ZM180-180h160v-160H180v160Zm440 0h160v-160H620v160Z\"/>\n",
              "  </svg>\n",
              "    </button>\n",
              "\n",
              "  <style>\n",
              "    .colab-df-container {\n",
              "      display:flex;\n",
              "      gap: 12px;\n",
              "    }\n",
              "\n",
              "    .colab-df-convert {\n",
              "      background-color: #E8F0FE;\n",
              "      border: none;\n",
              "      border-radius: 50%;\n",
              "      cursor: pointer;\n",
              "      display: none;\n",
              "      fill: #1967D2;\n",
              "      height: 32px;\n",
              "      padding: 0 0 0 0;\n",
              "      width: 32px;\n",
              "    }\n",
              "\n",
              "    .colab-df-convert:hover {\n",
              "      background-color: #E2EBFA;\n",
              "      box-shadow: 0px 1px 2px rgba(60, 64, 67, 0.3), 0px 1px 3px 1px rgba(60, 64, 67, 0.15);\n",
              "      fill: #174EA6;\n",
              "    }\n",
              "\n",
              "    .colab-df-buttons div {\n",
              "      margin-bottom: 4px;\n",
              "    }\n",
              "\n",
              "    [theme=dark] .colab-df-convert {\n",
              "      background-color: #3B4455;\n",
              "      fill: #D2E3FC;\n",
              "    }\n",
              "\n",
              "    [theme=dark] .colab-df-convert:hover {\n",
              "      background-color: #434B5C;\n",
              "      box-shadow: 0px 1px 3px 1px rgba(0, 0, 0, 0.15);\n",
              "      filter: drop-shadow(0px 1px 2px rgba(0, 0, 0, 0.3));\n",
              "      fill: #FFFFFF;\n",
              "    }\n",
              "  </style>\n",
              "\n",
              "    <script>\n",
              "      const buttonEl =\n",
              "        document.querySelector('#df-e393acd9-4f17-4306-8a8e-1266a74c2c00 button.colab-df-convert');\n",
              "      buttonEl.style.display =\n",
              "        google.colab.kernel.accessAllowed ? 'block' : 'none';\n",
              "\n",
              "      async function convertToInteractive(key) {\n",
              "        const element = document.querySelector('#df-e393acd9-4f17-4306-8a8e-1266a74c2c00');\n",
              "        const dataTable =\n",
              "          await google.colab.kernel.invokeFunction('convertToInteractive',\n",
              "                                                    [key], {});\n",
              "        if (!dataTable) return;\n",
              "\n",
              "        const docLinkHtml = 'Like what you see? Visit the ' +\n",
              "          '<a target=\"_blank\" href=https://colab.research.google.com/notebooks/data_table.ipynb>data table notebook</a>'\n",
              "          + ' to learn more about interactive tables.';\n",
              "        element.innerHTML = '';\n",
              "        dataTable['output_type'] = 'display_data';\n",
              "        await google.colab.output.renderOutput(dataTable, element);\n",
              "        const docLink = document.createElement('div');\n",
              "        docLink.innerHTML = docLinkHtml;\n",
              "        element.appendChild(docLink);\n",
              "      }\n",
              "    </script>\n",
              "  </div>\n",
              "\n",
              "\n",
              "<div id=\"df-185591b8-5c6c-4c50-828f-46b09b4399f6\">\n",
              "  <button class=\"colab-df-quickchart\" onclick=\"quickchart('df-185591b8-5c6c-4c50-828f-46b09b4399f6')\"\n",
              "            title=\"Suggest charts.\"\n",
              "            style=\"display:none;\">\n",
              "\n",
              "<svg xmlns=\"http://www.w3.org/2000/svg\" height=\"24px\"viewBox=\"0 0 24 24\"\n",
              "     width=\"24px\">\n",
              "    <g>\n",
              "        <path d=\"M19 3H5c-1.1 0-2 .9-2 2v14c0 1.1.9 2 2 2h14c1.1 0 2-.9 2-2V5c0-1.1-.9-2-2-2zM9 17H7v-7h2v7zm4 0h-2V7h2v10zm4 0h-2v-4h2v4z\"/>\n",
              "    </g>\n",
              "</svg>\n",
              "  </button>\n",
              "\n",
              "<style>\n",
              "  .colab-df-quickchart {\n",
              "      --bg-color: #E8F0FE;\n",
              "      --fill-color: #1967D2;\n",
              "      --hover-bg-color: #E2EBFA;\n",
              "      --hover-fill-color: #174EA6;\n",
              "      --disabled-fill-color: #AAA;\n",
              "      --disabled-bg-color: #DDD;\n",
              "  }\n",
              "\n",
              "  [theme=dark] .colab-df-quickchart {\n",
              "      --bg-color: #3B4455;\n",
              "      --fill-color: #D2E3FC;\n",
              "      --hover-bg-color: #434B5C;\n",
              "      --hover-fill-color: #FFFFFF;\n",
              "      --disabled-bg-color: #3B4455;\n",
              "      --disabled-fill-color: #666;\n",
              "  }\n",
              "\n",
              "  .colab-df-quickchart {\n",
              "    background-color: var(--bg-color);\n",
              "    border: none;\n",
              "    border-radius: 50%;\n",
              "    cursor: pointer;\n",
              "    display: none;\n",
              "    fill: var(--fill-color);\n",
              "    height: 32px;\n",
              "    padding: 0;\n",
              "    width: 32px;\n",
              "  }\n",
              "\n",
              "  .colab-df-quickchart:hover {\n",
              "    background-color: var(--hover-bg-color);\n",
              "    box-shadow: 0 1px 2px rgba(60, 64, 67, 0.3), 0 1px 3px 1px rgba(60, 64, 67, 0.15);\n",
              "    fill: var(--button-hover-fill-color);\n",
              "  }\n",
              "\n",
              "  .colab-df-quickchart-complete:disabled,\n",
              "  .colab-df-quickchart-complete:disabled:hover {\n",
              "    background-color: var(--disabled-bg-color);\n",
              "    fill: var(--disabled-fill-color);\n",
              "    box-shadow: none;\n",
              "  }\n",
              "\n",
              "  .colab-df-spinner {\n",
              "    border: 2px solid var(--fill-color);\n",
              "    border-color: transparent;\n",
              "    border-bottom-color: var(--fill-color);\n",
              "    animation:\n",
              "      spin 1s steps(1) infinite;\n",
              "  }\n",
              "\n",
              "  @keyframes spin {\n",
              "    0% {\n",
              "      border-color: transparent;\n",
              "      border-bottom-color: var(--fill-color);\n",
              "      border-left-color: var(--fill-color);\n",
              "    }\n",
              "    20% {\n",
              "      border-color: transparent;\n",
              "      border-left-color: var(--fill-color);\n",
              "      border-top-color: var(--fill-color);\n",
              "    }\n",
              "    30% {\n",
              "      border-color: transparent;\n",
              "      border-left-color: var(--fill-color);\n",
              "      border-top-color: var(--fill-color);\n",
              "      border-right-color: var(--fill-color);\n",
              "    }\n",
              "    40% {\n",
              "      border-color: transparent;\n",
              "      border-right-color: var(--fill-color);\n",
              "      border-top-color: var(--fill-color);\n",
              "    }\n",
              "    60% {\n",
              "      border-color: transparent;\n",
              "      border-right-color: var(--fill-color);\n",
              "    }\n",
              "    80% {\n",
              "      border-color: transparent;\n",
              "      border-right-color: var(--fill-color);\n",
              "      border-bottom-color: var(--fill-color);\n",
              "    }\n",
              "    90% {\n",
              "      border-color: transparent;\n",
              "      border-bottom-color: var(--fill-color);\n",
              "    }\n",
              "  }\n",
              "</style>\n",
              "\n",
              "  <script>\n",
              "    async function quickchart(key) {\n",
              "      const quickchartButtonEl =\n",
              "        document.querySelector('#' + key + ' button');\n",
              "      quickchartButtonEl.disabled = true;  // To prevent multiple clicks.\n",
              "      quickchartButtonEl.classList.add('colab-df-spinner');\n",
              "      try {\n",
              "        const charts = await google.colab.kernel.invokeFunction(\n",
              "            'suggestCharts', [key], {});\n",
              "      } catch (error) {\n",
              "        console.error('Error during call to suggestCharts:', error);\n",
              "      }\n",
              "      quickchartButtonEl.classList.remove('colab-df-spinner');\n",
              "      quickchartButtonEl.classList.add('colab-df-quickchart-complete');\n",
              "    }\n",
              "    (() => {\n",
              "      let quickchartButtonEl =\n",
              "        document.querySelector('#df-185591b8-5c6c-4c50-828f-46b09b4399f6 button');\n",
              "      quickchartButtonEl.style.display =\n",
              "        google.colab.kernel.accessAllowed ? 'block' : 'none';\n",
              "    })();\n",
              "  </script>\n",
              "</div>\n",
              "    </div>\n",
              "  </div>\n"
            ]
          },
          "metadata": {},
          "execution_count": 11
        }
      ]
    },
    {
      "cell_type": "markdown",
      "metadata": {
        "id": "8mNLjb9qHIWr"
      },
      "source": [
        " - Atributos **numéricos**."
      ]
    },
    {
      "cell_type": "code",
      "metadata": {
        "id": "4JAFUYUfDSSR",
        "colab": {
          "base_uri": "https://localhost:8080/",
          "height": 300
        },
        "outputId": "2b451ff5-5fe7-4f77-c04c-295176786195"
      },
      "source": [
        "df.drop('id', axis=1).select_dtypes('number').describe().transpose()"
      ],
      "execution_count": null,
      "outputs": [
        {
          "output_type": "execute_result",
          "data": {
            "text/plain": [
              "                           count       mean        std   min   25%   50%  \\\n",
              "default                  10127.0   0.160660   0.367235   0.0   0.0   0.0   \n",
              "idade                    10127.0  46.325960   8.016814  26.0  41.0  46.0   \n",
              "dependentes              10127.0   2.346203   1.298908   0.0   1.0   2.0   \n",
              "meses_de_relacionamento  10127.0  35.928409   7.986416  13.0  31.0  36.0   \n",
              "qtd_produtos             10127.0   3.812580   1.554408   1.0   3.0   4.0   \n",
              "iteracoes_12m            10127.0   2.455317   1.106225   0.0   2.0   2.0   \n",
              "meses_inativo_12m        10127.0   2.341167   1.010622   0.0   2.0   2.0   \n",
              "qtd_transacoes_12m       10127.0  64.858695  23.472570  10.0  45.0  67.0   \n",
              "\n",
              "                          75%    max  \n",
              "default                   0.0    1.0  \n",
              "idade                    52.0   73.0  \n",
              "dependentes               3.0    5.0  \n",
              "meses_de_relacionamento  40.0   56.0  \n",
              "qtd_produtos              5.0    6.0  \n",
              "iteracoes_12m             3.0    6.0  \n",
              "meses_inativo_12m         3.0    6.0  \n",
              "qtd_transacoes_12m       81.0  139.0  "
            ],
            "text/html": [
              "\n",
              "  <div id=\"df-4a5ae313-9bdb-4c6d-9524-21bbc3cc4bf4\" class=\"colab-df-container\">\n",
              "    <div>\n",
              "<style scoped>\n",
              "    .dataframe tbody tr th:only-of-type {\n",
              "        vertical-align: middle;\n",
              "    }\n",
              "\n",
              "    .dataframe tbody tr th {\n",
              "        vertical-align: top;\n",
              "    }\n",
              "\n",
              "    .dataframe thead th {\n",
              "        text-align: right;\n",
              "    }\n",
              "</style>\n",
              "<table border=\"1\" class=\"dataframe\">\n",
              "  <thead>\n",
              "    <tr style=\"text-align: right;\">\n",
              "      <th></th>\n",
              "      <th>count</th>\n",
              "      <th>mean</th>\n",
              "      <th>std</th>\n",
              "      <th>min</th>\n",
              "      <th>25%</th>\n",
              "      <th>50%</th>\n",
              "      <th>75%</th>\n",
              "      <th>max</th>\n",
              "    </tr>\n",
              "  </thead>\n",
              "  <tbody>\n",
              "    <tr>\n",
              "      <th>default</th>\n",
              "      <td>10127.0</td>\n",
              "      <td>0.160660</td>\n",
              "      <td>0.367235</td>\n",
              "      <td>0.0</td>\n",
              "      <td>0.0</td>\n",
              "      <td>0.0</td>\n",
              "      <td>0.0</td>\n",
              "      <td>1.0</td>\n",
              "    </tr>\n",
              "    <tr>\n",
              "      <th>idade</th>\n",
              "      <td>10127.0</td>\n",
              "      <td>46.325960</td>\n",
              "      <td>8.016814</td>\n",
              "      <td>26.0</td>\n",
              "      <td>41.0</td>\n",
              "      <td>46.0</td>\n",
              "      <td>52.0</td>\n",
              "      <td>73.0</td>\n",
              "    </tr>\n",
              "    <tr>\n",
              "      <th>dependentes</th>\n",
              "      <td>10127.0</td>\n",
              "      <td>2.346203</td>\n",
              "      <td>1.298908</td>\n",
              "      <td>0.0</td>\n",
              "      <td>1.0</td>\n",
              "      <td>2.0</td>\n",
              "      <td>3.0</td>\n",
              "      <td>5.0</td>\n",
              "    </tr>\n",
              "    <tr>\n",
              "      <th>meses_de_relacionamento</th>\n",
              "      <td>10127.0</td>\n",
              "      <td>35.928409</td>\n",
              "      <td>7.986416</td>\n",
              "      <td>13.0</td>\n",
              "      <td>31.0</td>\n",
              "      <td>36.0</td>\n",
              "      <td>40.0</td>\n",
              "      <td>56.0</td>\n",
              "    </tr>\n",
              "    <tr>\n",
              "      <th>qtd_produtos</th>\n",
              "      <td>10127.0</td>\n",
              "      <td>3.812580</td>\n",
              "      <td>1.554408</td>\n",
              "      <td>1.0</td>\n",
              "      <td>3.0</td>\n",
              "      <td>4.0</td>\n",
              "      <td>5.0</td>\n",
              "      <td>6.0</td>\n",
              "    </tr>\n",
              "    <tr>\n",
              "      <th>iteracoes_12m</th>\n",
              "      <td>10127.0</td>\n",
              "      <td>2.455317</td>\n",
              "      <td>1.106225</td>\n",
              "      <td>0.0</td>\n",
              "      <td>2.0</td>\n",
              "      <td>2.0</td>\n",
              "      <td>3.0</td>\n",
              "      <td>6.0</td>\n",
              "    </tr>\n",
              "    <tr>\n",
              "      <th>meses_inativo_12m</th>\n",
              "      <td>10127.0</td>\n",
              "      <td>2.341167</td>\n",
              "      <td>1.010622</td>\n",
              "      <td>0.0</td>\n",
              "      <td>2.0</td>\n",
              "      <td>2.0</td>\n",
              "      <td>3.0</td>\n",
              "      <td>6.0</td>\n",
              "    </tr>\n",
              "    <tr>\n",
              "      <th>qtd_transacoes_12m</th>\n",
              "      <td>10127.0</td>\n",
              "      <td>64.858695</td>\n",
              "      <td>23.472570</td>\n",
              "      <td>10.0</td>\n",
              "      <td>45.0</td>\n",
              "      <td>67.0</td>\n",
              "      <td>81.0</td>\n",
              "      <td>139.0</td>\n",
              "    </tr>\n",
              "  </tbody>\n",
              "</table>\n",
              "</div>\n",
              "    <div class=\"colab-df-buttons\">\n",
              "\n",
              "  <div class=\"colab-df-container\">\n",
              "    <button class=\"colab-df-convert\" onclick=\"convertToInteractive('df-4a5ae313-9bdb-4c6d-9524-21bbc3cc4bf4')\"\n",
              "            title=\"Convert this dataframe to an interactive table.\"\n",
              "            style=\"display:none;\">\n",
              "\n",
              "  <svg xmlns=\"http://www.w3.org/2000/svg\" height=\"24px\" viewBox=\"0 -960 960 960\">\n",
              "    <path d=\"M120-120v-720h720v720H120Zm60-500h600v-160H180v160Zm220 220h160v-160H400v160Zm0 220h160v-160H400v160ZM180-400h160v-160H180v160Zm440 0h160v-160H620v160ZM180-180h160v-160H180v160Zm440 0h160v-160H620v160Z\"/>\n",
              "  </svg>\n",
              "    </button>\n",
              "\n",
              "  <style>\n",
              "    .colab-df-container {\n",
              "      display:flex;\n",
              "      gap: 12px;\n",
              "    }\n",
              "\n",
              "    .colab-df-convert {\n",
              "      background-color: #E8F0FE;\n",
              "      border: none;\n",
              "      border-radius: 50%;\n",
              "      cursor: pointer;\n",
              "      display: none;\n",
              "      fill: #1967D2;\n",
              "      height: 32px;\n",
              "      padding: 0 0 0 0;\n",
              "      width: 32px;\n",
              "    }\n",
              "\n",
              "    .colab-df-convert:hover {\n",
              "      background-color: #E2EBFA;\n",
              "      box-shadow: 0px 1px 2px rgba(60, 64, 67, 0.3), 0px 1px 3px 1px rgba(60, 64, 67, 0.15);\n",
              "      fill: #174EA6;\n",
              "    }\n",
              "\n",
              "    .colab-df-buttons div {\n",
              "      margin-bottom: 4px;\n",
              "    }\n",
              "\n",
              "    [theme=dark] .colab-df-convert {\n",
              "      background-color: #3B4455;\n",
              "      fill: #D2E3FC;\n",
              "    }\n",
              "\n",
              "    [theme=dark] .colab-df-convert:hover {\n",
              "      background-color: #434B5C;\n",
              "      box-shadow: 0px 1px 3px 1px rgba(0, 0, 0, 0.15);\n",
              "      filter: drop-shadow(0px 1px 2px rgba(0, 0, 0, 0.3));\n",
              "      fill: #FFFFFF;\n",
              "    }\n",
              "  </style>\n",
              "\n",
              "    <script>\n",
              "      const buttonEl =\n",
              "        document.querySelector('#df-4a5ae313-9bdb-4c6d-9524-21bbc3cc4bf4 button.colab-df-convert');\n",
              "      buttonEl.style.display =\n",
              "        google.colab.kernel.accessAllowed ? 'block' : 'none';\n",
              "\n",
              "      async function convertToInteractive(key) {\n",
              "        const element = document.querySelector('#df-4a5ae313-9bdb-4c6d-9524-21bbc3cc4bf4');\n",
              "        const dataTable =\n",
              "          await google.colab.kernel.invokeFunction('convertToInteractive',\n",
              "                                                    [key], {});\n",
              "        if (!dataTable) return;\n",
              "\n",
              "        const docLinkHtml = 'Like what you see? Visit the ' +\n",
              "          '<a target=\"_blank\" href=https://colab.research.google.com/notebooks/data_table.ipynb>data table notebook</a>'\n",
              "          + ' to learn more about interactive tables.';\n",
              "        element.innerHTML = '';\n",
              "        dataTable['output_type'] = 'display_data';\n",
              "        await google.colab.output.renderOutput(dataTable, element);\n",
              "        const docLink = document.createElement('div');\n",
              "        docLink.innerHTML = docLinkHtml;\n",
              "        element.appendChild(docLink);\n",
              "      }\n",
              "    </script>\n",
              "  </div>\n",
              "\n",
              "\n",
              "<div id=\"df-360ef0cb-4013-4cd5-865d-d4827be93375\">\n",
              "  <button class=\"colab-df-quickchart\" onclick=\"quickchart('df-360ef0cb-4013-4cd5-865d-d4827be93375')\"\n",
              "            title=\"Suggest charts.\"\n",
              "            style=\"display:none;\">\n",
              "\n",
              "<svg xmlns=\"http://www.w3.org/2000/svg\" height=\"24px\"viewBox=\"0 0 24 24\"\n",
              "     width=\"24px\">\n",
              "    <g>\n",
              "        <path d=\"M19 3H5c-1.1 0-2 .9-2 2v14c0 1.1.9 2 2 2h14c1.1 0 2-.9 2-2V5c0-1.1-.9-2-2-2zM9 17H7v-7h2v7zm4 0h-2V7h2v10zm4 0h-2v-4h2v4z\"/>\n",
              "    </g>\n",
              "</svg>\n",
              "  </button>\n",
              "\n",
              "<style>\n",
              "  .colab-df-quickchart {\n",
              "      --bg-color: #E8F0FE;\n",
              "      --fill-color: #1967D2;\n",
              "      --hover-bg-color: #E2EBFA;\n",
              "      --hover-fill-color: #174EA6;\n",
              "      --disabled-fill-color: #AAA;\n",
              "      --disabled-bg-color: #DDD;\n",
              "  }\n",
              "\n",
              "  [theme=dark] .colab-df-quickchart {\n",
              "      --bg-color: #3B4455;\n",
              "      --fill-color: #D2E3FC;\n",
              "      --hover-bg-color: #434B5C;\n",
              "      --hover-fill-color: #FFFFFF;\n",
              "      --disabled-bg-color: #3B4455;\n",
              "      --disabled-fill-color: #666;\n",
              "  }\n",
              "\n",
              "  .colab-df-quickchart {\n",
              "    background-color: var(--bg-color);\n",
              "    border: none;\n",
              "    border-radius: 50%;\n",
              "    cursor: pointer;\n",
              "    display: none;\n",
              "    fill: var(--fill-color);\n",
              "    height: 32px;\n",
              "    padding: 0;\n",
              "    width: 32px;\n",
              "  }\n",
              "\n",
              "  .colab-df-quickchart:hover {\n",
              "    background-color: var(--hover-bg-color);\n",
              "    box-shadow: 0 1px 2px rgba(60, 64, 67, 0.3), 0 1px 3px 1px rgba(60, 64, 67, 0.15);\n",
              "    fill: var(--button-hover-fill-color);\n",
              "  }\n",
              "\n",
              "  .colab-df-quickchart-complete:disabled,\n",
              "  .colab-df-quickchart-complete:disabled:hover {\n",
              "    background-color: var(--disabled-bg-color);\n",
              "    fill: var(--disabled-fill-color);\n",
              "    box-shadow: none;\n",
              "  }\n",
              "\n",
              "  .colab-df-spinner {\n",
              "    border: 2px solid var(--fill-color);\n",
              "    border-color: transparent;\n",
              "    border-bottom-color: var(--fill-color);\n",
              "    animation:\n",
              "      spin 1s steps(1) infinite;\n",
              "  }\n",
              "\n",
              "  @keyframes spin {\n",
              "    0% {\n",
              "      border-color: transparent;\n",
              "      border-bottom-color: var(--fill-color);\n",
              "      border-left-color: var(--fill-color);\n",
              "    }\n",
              "    20% {\n",
              "      border-color: transparent;\n",
              "      border-left-color: var(--fill-color);\n",
              "      border-top-color: var(--fill-color);\n",
              "    }\n",
              "    30% {\n",
              "      border-color: transparent;\n",
              "      border-left-color: var(--fill-color);\n",
              "      border-top-color: var(--fill-color);\n",
              "      border-right-color: var(--fill-color);\n",
              "    }\n",
              "    40% {\n",
              "      border-color: transparent;\n",
              "      border-right-color: var(--fill-color);\n",
              "      border-top-color: var(--fill-color);\n",
              "    }\n",
              "    60% {\n",
              "      border-color: transparent;\n",
              "      border-right-color: var(--fill-color);\n",
              "    }\n",
              "    80% {\n",
              "      border-color: transparent;\n",
              "      border-right-color: var(--fill-color);\n",
              "      border-bottom-color: var(--fill-color);\n",
              "    }\n",
              "    90% {\n",
              "      border-color: transparent;\n",
              "      border-bottom-color: var(--fill-color);\n",
              "    }\n",
              "  }\n",
              "</style>\n",
              "\n",
              "  <script>\n",
              "    async function quickchart(key) {\n",
              "      const quickchartButtonEl =\n",
              "        document.querySelector('#' + key + ' button');\n",
              "      quickchartButtonEl.disabled = true;  // To prevent multiple clicks.\n",
              "      quickchartButtonEl.classList.add('colab-df-spinner');\n",
              "      try {\n",
              "        const charts = await google.colab.kernel.invokeFunction(\n",
              "            'suggestCharts', [key], {});\n",
              "      } catch (error) {\n",
              "        console.error('Error during call to suggestCharts:', error);\n",
              "      }\n",
              "      quickchartButtonEl.classList.remove('colab-df-spinner');\n",
              "      quickchartButtonEl.classList.add('colab-df-quickchart-complete');\n",
              "    }\n",
              "    (() => {\n",
              "      let quickchartButtonEl =\n",
              "        document.querySelector('#df-360ef0cb-4013-4cd5-865d-d4827be93375 button');\n",
              "      quickchartButtonEl.style.display =\n",
              "        google.colab.kernel.accessAllowed ? 'block' : 'none';\n",
              "    })();\n",
              "  </script>\n",
              "</div>\n",
              "    </div>\n",
              "  </div>\n"
            ]
          },
          "metadata": {},
          "execution_count": 12
        }
      ]
    },
    {
      "cell_type": "markdown",
      "metadata": {
        "id": "7lAUes2dUY3h"
      },
      "source": [
        "### **2.3. Dados faltantes**"
      ]
    },
    {
      "cell_type": "markdown",
      "metadata": {
        "id": "XYnOkpsUHu08"
      },
      "source": [
        "Dados faltantes podem ser:\n",
        "\n",
        " - Vazios (`\"\"`);\n",
        " - Nulos (`None`);\n",
        " - Não disponíveis ou aplicaveis (`na`, `NA`, etc.);\n",
        " - Não numérico (`nan`, `NaN`, `NAN`, etc)."
      ]
    },
    {
      "cell_type": "code",
      "metadata": {
        "id": "8BEHOjzsUnai",
        "colab": {
          "base_uri": "https://localhost:8080/",
          "height": 278
        },
        "outputId": "63b7970e-7379-4f6d-c87e-794d17721cc9"
      },
      "source": [
        "df.head()"
      ],
      "execution_count": null,
      "outputs": [
        {
          "output_type": "execute_result",
          "data": {
            "text/plain": [
              "          id  default  idade sexo  dependentes         escolaridade  \\\n",
              "0  768805383        0     45    M            3         ensino medio   \n",
              "1  818770008        0     49    F            5             mestrado   \n",
              "2  713982108        0     51    M            3             mestrado   \n",
              "3  769911858        0     40    F            4         ensino medio   \n",
              "4  709106358        0     40    M            3  sem educacao formal   \n",
              "\n",
              "  estado_civil   salario_anual tipo_cartao  meses_de_relacionamento  \\\n",
              "0       casado     $60K - $80K        blue                       39   \n",
              "1     solteiro  menos que $40K        blue                       44   \n",
              "2       casado    $80K - $120K        blue                       36   \n",
              "3          NaN  menos que $40K        blue                       34   \n",
              "4       casado     $60K - $80K        blue                       21   \n",
              "\n",
              "   qtd_produtos  iteracoes_12m  meses_inativo_12m limite_credito  \\\n",
              "0             5              3                  1      12.691,51   \n",
              "1             6              2                  1       8.256,96   \n",
              "2             4              0                  1       3.418,56   \n",
              "3             3              1                  4       3.313,03   \n",
              "4             5              0                  1       4.716,22   \n",
              "\n",
              "  valor_transacoes_12m  qtd_transacoes_12m  \n",
              "0             1.144,90                  42  \n",
              "1             1.291,45                  33  \n",
              "2             1.887,72                  20  \n",
              "3             1.171,56                  20  \n",
              "4               816,08                  28  "
            ],
            "text/html": [
              "\n",
              "  <div id=\"df-70bdbfeb-9698-44f1-8b34-91ba134d87e2\" class=\"colab-df-container\">\n",
              "    <div>\n",
              "<style scoped>\n",
              "    .dataframe tbody tr th:only-of-type {\n",
              "        vertical-align: middle;\n",
              "    }\n",
              "\n",
              "    .dataframe tbody tr th {\n",
              "        vertical-align: top;\n",
              "    }\n",
              "\n",
              "    .dataframe thead th {\n",
              "        text-align: right;\n",
              "    }\n",
              "</style>\n",
              "<table border=\"1\" class=\"dataframe\">\n",
              "  <thead>\n",
              "    <tr style=\"text-align: right;\">\n",
              "      <th></th>\n",
              "      <th>id</th>\n",
              "      <th>default</th>\n",
              "      <th>idade</th>\n",
              "      <th>sexo</th>\n",
              "      <th>dependentes</th>\n",
              "      <th>escolaridade</th>\n",
              "      <th>estado_civil</th>\n",
              "      <th>salario_anual</th>\n",
              "      <th>tipo_cartao</th>\n",
              "      <th>meses_de_relacionamento</th>\n",
              "      <th>qtd_produtos</th>\n",
              "      <th>iteracoes_12m</th>\n",
              "      <th>meses_inativo_12m</th>\n",
              "      <th>limite_credito</th>\n",
              "      <th>valor_transacoes_12m</th>\n",
              "      <th>qtd_transacoes_12m</th>\n",
              "    </tr>\n",
              "  </thead>\n",
              "  <tbody>\n",
              "    <tr>\n",
              "      <th>0</th>\n",
              "      <td>768805383</td>\n",
              "      <td>0</td>\n",
              "      <td>45</td>\n",
              "      <td>M</td>\n",
              "      <td>3</td>\n",
              "      <td>ensino medio</td>\n",
              "      <td>casado</td>\n",
              "      <td>$60K - $80K</td>\n",
              "      <td>blue</td>\n",
              "      <td>39</td>\n",
              "      <td>5</td>\n",
              "      <td>3</td>\n",
              "      <td>1</td>\n",
              "      <td>12.691,51</td>\n",
              "      <td>1.144,90</td>\n",
              "      <td>42</td>\n",
              "    </tr>\n",
              "    <tr>\n",
              "      <th>1</th>\n",
              "      <td>818770008</td>\n",
              "      <td>0</td>\n",
              "      <td>49</td>\n",
              "      <td>F</td>\n",
              "      <td>5</td>\n",
              "      <td>mestrado</td>\n",
              "      <td>solteiro</td>\n",
              "      <td>menos que $40K</td>\n",
              "      <td>blue</td>\n",
              "      <td>44</td>\n",
              "      <td>6</td>\n",
              "      <td>2</td>\n",
              "      <td>1</td>\n",
              "      <td>8.256,96</td>\n",
              "      <td>1.291,45</td>\n",
              "      <td>33</td>\n",
              "    </tr>\n",
              "    <tr>\n",
              "      <th>2</th>\n",
              "      <td>713982108</td>\n",
              "      <td>0</td>\n",
              "      <td>51</td>\n",
              "      <td>M</td>\n",
              "      <td>3</td>\n",
              "      <td>mestrado</td>\n",
              "      <td>casado</td>\n",
              "      <td>$80K - $120K</td>\n",
              "      <td>blue</td>\n",
              "      <td>36</td>\n",
              "      <td>4</td>\n",
              "      <td>0</td>\n",
              "      <td>1</td>\n",
              "      <td>3.418,56</td>\n",
              "      <td>1.887,72</td>\n",
              "      <td>20</td>\n",
              "    </tr>\n",
              "    <tr>\n",
              "      <th>3</th>\n",
              "      <td>769911858</td>\n",
              "      <td>0</td>\n",
              "      <td>40</td>\n",
              "      <td>F</td>\n",
              "      <td>4</td>\n",
              "      <td>ensino medio</td>\n",
              "      <td>NaN</td>\n",
              "      <td>menos que $40K</td>\n",
              "      <td>blue</td>\n",
              "      <td>34</td>\n",
              "      <td>3</td>\n",
              "      <td>1</td>\n",
              "      <td>4</td>\n",
              "      <td>3.313,03</td>\n",
              "      <td>1.171,56</td>\n",
              "      <td>20</td>\n",
              "    </tr>\n",
              "    <tr>\n",
              "      <th>4</th>\n",
              "      <td>709106358</td>\n",
              "      <td>0</td>\n",
              "      <td>40</td>\n",
              "      <td>M</td>\n",
              "      <td>3</td>\n",
              "      <td>sem educacao formal</td>\n",
              "      <td>casado</td>\n",
              "      <td>$60K - $80K</td>\n",
              "      <td>blue</td>\n",
              "      <td>21</td>\n",
              "      <td>5</td>\n",
              "      <td>0</td>\n",
              "      <td>1</td>\n",
              "      <td>4.716,22</td>\n",
              "      <td>816,08</td>\n",
              "      <td>28</td>\n",
              "    </tr>\n",
              "  </tbody>\n",
              "</table>\n",
              "</div>\n",
              "    <div class=\"colab-df-buttons\">\n",
              "\n",
              "  <div class=\"colab-df-container\">\n",
              "    <button class=\"colab-df-convert\" onclick=\"convertToInteractive('df-70bdbfeb-9698-44f1-8b34-91ba134d87e2')\"\n",
              "            title=\"Convert this dataframe to an interactive table.\"\n",
              "            style=\"display:none;\">\n",
              "\n",
              "  <svg xmlns=\"http://www.w3.org/2000/svg\" height=\"24px\" viewBox=\"0 -960 960 960\">\n",
              "    <path d=\"M120-120v-720h720v720H120Zm60-500h600v-160H180v160Zm220 220h160v-160H400v160Zm0 220h160v-160H400v160ZM180-400h160v-160H180v160Zm440 0h160v-160H620v160ZM180-180h160v-160H180v160Zm440 0h160v-160H620v160Z\"/>\n",
              "  </svg>\n",
              "    </button>\n",
              "\n",
              "  <style>\n",
              "    .colab-df-container {\n",
              "      display:flex;\n",
              "      gap: 12px;\n",
              "    }\n",
              "\n",
              "    .colab-df-convert {\n",
              "      background-color: #E8F0FE;\n",
              "      border: none;\n",
              "      border-radius: 50%;\n",
              "      cursor: pointer;\n",
              "      display: none;\n",
              "      fill: #1967D2;\n",
              "      height: 32px;\n",
              "      padding: 0 0 0 0;\n",
              "      width: 32px;\n",
              "    }\n",
              "\n",
              "    .colab-df-convert:hover {\n",
              "      background-color: #E2EBFA;\n",
              "      box-shadow: 0px 1px 2px rgba(60, 64, 67, 0.3), 0px 1px 3px 1px rgba(60, 64, 67, 0.15);\n",
              "      fill: #174EA6;\n",
              "    }\n",
              "\n",
              "    .colab-df-buttons div {\n",
              "      margin-bottom: 4px;\n",
              "    }\n",
              "\n",
              "    [theme=dark] .colab-df-convert {\n",
              "      background-color: #3B4455;\n",
              "      fill: #D2E3FC;\n",
              "    }\n",
              "\n",
              "    [theme=dark] .colab-df-convert:hover {\n",
              "      background-color: #434B5C;\n",
              "      box-shadow: 0px 1px 3px 1px rgba(0, 0, 0, 0.15);\n",
              "      filter: drop-shadow(0px 1px 2px rgba(0, 0, 0, 0.3));\n",
              "      fill: #FFFFFF;\n",
              "    }\n",
              "  </style>\n",
              "\n",
              "    <script>\n",
              "      const buttonEl =\n",
              "        document.querySelector('#df-70bdbfeb-9698-44f1-8b34-91ba134d87e2 button.colab-df-convert');\n",
              "      buttonEl.style.display =\n",
              "        google.colab.kernel.accessAllowed ? 'block' : 'none';\n",
              "\n",
              "      async function convertToInteractive(key) {\n",
              "        const element = document.querySelector('#df-70bdbfeb-9698-44f1-8b34-91ba134d87e2');\n",
              "        const dataTable =\n",
              "          await google.colab.kernel.invokeFunction('convertToInteractive',\n",
              "                                                    [key], {});\n",
              "        if (!dataTable) return;\n",
              "\n",
              "        const docLinkHtml = 'Like what you see? Visit the ' +\n",
              "          '<a target=\"_blank\" href=https://colab.research.google.com/notebooks/data_table.ipynb>data table notebook</a>'\n",
              "          + ' to learn more about interactive tables.';\n",
              "        element.innerHTML = '';\n",
              "        dataTable['output_type'] = 'display_data';\n",
              "        await google.colab.output.renderOutput(dataTable, element);\n",
              "        const docLink = document.createElement('div');\n",
              "        docLink.innerHTML = docLinkHtml;\n",
              "        element.appendChild(docLink);\n",
              "      }\n",
              "    </script>\n",
              "  </div>\n",
              "\n",
              "\n",
              "<div id=\"df-a3f1ef85-5189-42cd-ac66-e3053d84b179\">\n",
              "  <button class=\"colab-df-quickchart\" onclick=\"quickchart('df-a3f1ef85-5189-42cd-ac66-e3053d84b179')\"\n",
              "            title=\"Suggest charts.\"\n",
              "            style=\"display:none;\">\n",
              "\n",
              "<svg xmlns=\"http://www.w3.org/2000/svg\" height=\"24px\"viewBox=\"0 0 24 24\"\n",
              "     width=\"24px\">\n",
              "    <g>\n",
              "        <path d=\"M19 3H5c-1.1 0-2 .9-2 2v14c0 1.1.9 2 2 2h14c1.1 0 2-.9 2-2V5c0-1.1-.9-2-2-2zM9 17H7v-7h2v7zm4 0h-2V7h2v10zm4 0h-2v-4h2v4z\"/>\n",
              "    </g>\n",
              "</svg>\n",
              "  </button>\n",
              "\n",
              "<style>\n",
              "  .colab-df-quickchart {\n",
              "      --bg-color: #E8F0FE;\n",
              "      --fill-color: #1967D2;\n",
              "      --hover-bg-color: #E2EBFA;\n",
              "      --hover-fill-color: #174EA6;\n",
              "      --disabled-fill-color: #AAA;\n",
              "      --disabled-bg-color: #DDD;\n",
              "  }\n",
              "\n",
              "  [theme=dark] .colab-df-quickchart {\n",
              "      --bg-color: #3B4455;\n",
              "      --fill-color: #D2E3FC;\n",
              "      --hover-bg-color: #434B5C;\n",
              "      --hover-fill-color: #FFFFFF;\n",
              "      --disabled-bg-color: #3B4455;\n",
              "      --disabled-fill-color: #666;\n",
              "  }\n",
              "\n",
              "  .colab-df-quickchart {\n",
              "    background-color: var(--bg-color);\n",
              "    border: none;\n",
              "    border-radius: 50%;\n",
              "    cursor: pointer;\n",
              "    display: none;\n",
              "    fill: var(--fill-color);\n",
              "    height: 32px;\n",
              "    padding: 0;\n",
              "    width: 32px;\n",
              "  }\n",
              "\n",
              "  .colab-df-quickchart:hover {\n",
              "    background-color: var(--hover-bg-color);\n",
              "    box-shadow: 0 1px 2px rgba(60, 64, 67, 0.3), 0 1px 3px 1px rgba(60, 64, 67, 0.15);\n",
              "    fill: var(--button-hover-fill-color);\n",
              "  }\n",
              "\n",
              "  .colab-df-quickchart-complete:disabled,\n",
              "  .colab-df-quickchart-complete:disabled:hover {\n",
              "    background-color: var(--disabled-bg-color);\n",
              "    fill: var(--disabled-fill-color);\n",
              "    box-shadow: none;\n",
              "  }\n",
              "\n",
              "  .colab-df-spinner {\n",
              "    border: 2px solid var(--fill-color);\n",
              "    border-color: transparent;\n",
              "    border-bottom-color: var(--fill-color);\n",
              "    animation:\n",
              "      spin 1s steps(1) infinite;\n",
              "  }\n",
              "\n",
              "  @keyframes spin {\n",
              "    0% {\n",
              "      border-color: transparent;\n",
              "      border-bottom-color: var(--fill-color);\n",
              "      border-left-color: var(--fill-color);\n",
              "    }\n",
              "    20% {\n",
              "      border-color: transparent;\n",
              "      border-left-color: var(--fill-color);\n",
              "      border-top-color: var(--fill-color);\n",
              "    }\n",
              "    30% {\n",
              "      border-color: transparent;\n",
              "      border-left-color: var(--fill-color);\n",
              "      border-top-color: var(--fill-color);\n",
              "      border-right-color: var(--fill-color);\n",
              "    }\n",
              "    40% {\n",
              "      border-color: transparent;\n",
              "      border-right-color: var(--fill-color);\n",
              "      border-top-color: var(--fill-color);\n",
              "    }\n",
              "    60% {\n",
              "      border-color: transparent;\n",
              "      border-right-color: var(--fill-color);\n",
              "    }\n",
              "    80% {\n",
              "      border-color: transparent;\n",
              "      border-right-color: var(--fill-color);\n",
              "      border-bottom-color: var(--fill-color);\n",
              "    }\n",
              "    90% {\n",
              "      border-color: transparent;\n",
              "      border-bottom-color: var(--fill-color);\n",
              "    }\n",
              "  }\n",
              "</style>\n",
              "\n",
              "  <script>\n",
              "    async function quickchart(key) {\n",
              "      const quickchartButtonEl =\n",
              "        document.querySelector('#' + key + ' button');\n",
              "      quickchartButtonEl.disabled = true;  // To prevent multiple clicks.\n",
              "      quickchartButtonEl.classList.add('colab-df-spinner');\n",
              "      try {\n",
              "        const charts = await google.colab.kernel.invokeFunction(\n",
              "            'suggestCharts', [key], {});\n",
              "      } catch (error) {\n",
              "        console.error('Error during call to suggestCharts:', error);\n",
              "      }\n",
              "      quickchartButtonEl.classList.remove('colab-df-spinner');\n",
              "      quickchartButtonEl.classList.add('colab-df-quickchart-complete');\n",
              "    }\n",
              "    (() => {\n",
              "      let quickchartButtonEl =\n",
              "        document.querySelector('#df-a3f1ef85-5189-42cd-ac66-e3053d84b179 button');\n",
              "      quickchartButtonEl.style.display =\n",
              "        google.colab.kernel.accessAllowed ? 'block' : 'none';\n",
              "    })();\n",
              "  </script>\n",
              "</div>\n",
              "    </div>\n",
              "  </div>\n"
            ]
          },
          "metadata": {},
          "execution_count": 13
        }
      ]
    },
    {
      "cell_type": "markdown",
      "metadata": {
        "id": "GafzLolPK4jy"
      },
      "source": [
        "Podemos verificar quais colunas possuem dados faltantes."
      ]
    },
    {
      "cell_type": "code",
      "metadata": {
        "id": "5dhwXuvgI3iF",
        "colab": {
          "base_uri": "https://localhost:8080/"
        },
        "outputId": "2a89923b-a7f7-48cb-903a-cfd69fafa2d1"
      },
      "source": [
        "df.isna().any()"
      ],
      "execution_count": null,
      "outputs": [
        {
          "output_type": "execute_result",
          "data": {
            "text/plain": [
              "id                         False\n",
              "default                    False\n",
              "idade                      False\n",
              "sexo                       False\n",
              "dependentes                False\n",
              "escolaridade                True\n",
              "estado_civil                True\n",
              "salario_anual               True\n",
              "tipo_cartao                False\n",
              "meses_de_relacionamento    False\n",
              "qtd_produtos               False\n",
              "iteracoes_12m              False\n",
              "meses_inativo_12m          False\n",
              "limite_credito             False\n",
              "valor_transacoes_12m       False\n",
              "qtd_transacoes_12m         False\n",
              "dtype: bool"
            ]
          },
          "metadata": {},
          "execution_count": 14
        }
      ]
    },
    {
      "cell_type": "markdown",
      "metadata": {
        "id": "iHFNmur_JQ0y"
      },
      "source": [
        " - A função abaixo levanta algumas estatisticas sobre as colunas dos dados faltantes."
      ]
    },
    {
      "cell_type": "code",
      "metadata": {
        "id": "UBeAIKidSMl9"
      },
      "source": [
        "def stats_dados_faltantes(df: pd.DataFrame) -> None:\n",
        "\n",
        "  stats_dados_faltantes = []\n",
        "  for col in df.columns:\n",
        "    if df[col].isna().any():\n",
        "      qtd, _ = df[df[col].isna()].shape\n",
        "      total, _ = df.shape\n",
        "      dict_dados_faltantes = {col: {'quantidade': qtd, \"porcentagem\": round(100 * qtd/total, 2)}}\n",
        "      stats_dados_faltantes.append(dict_dados_faltantes)\n",
        "\n",
        "  for stat in stats_dados_faltantes:\n",
        "    print(stat)"
      ],
      "execution_count": null,
      "outputs": []
    },
    {
      "cell_type": "code",
      "metadata": {
        "id": "yLcRKYv7Vcfo",
        "colab": {
          "base_uri": "https://localhost:8080/"
        },
        "outputId": "75ddd0e3-f069-4f50-fd7d-eabd3655e2ab"
      },
      "source": [
        "stats_dados_faltantes(df=df)"
      ],
      "execution_count": null,
      "outputs": [
        {
          "output_type": "stream",
          "name": "stdout",
          "text": [
            "{'escolaridade': {'quantidade': 1519, 'porcentagem': 15.0}}\n",
            "{'estado_civil': {'quantidade': 749, 'porcentagem': 7.4}}\n",
            "{'salario_anual': {'quantidade': 1112, 'porcentagem': 10.98}}\n"
          ]
        }
      ]
    },
    {
      "cell_type": "code",
      "metadata": {
        "id": "9HgN5wcQUyrE",
        "colab": {
          "base_uri": "https://localhost:8080/"
        },
        "outputId": "03c3ac72-65b4-4115-b9bb-0fb12837ce8b"
      },
      "source": [
        "stats_dados_faltantes(df=df[df['default'] == 0])"
      ],
      "execution_count": null,
      "outputs": [
        {
          "output_type": "stream",
          "name": "stdout",
          "text": [
            "{'escolaridade': {'quantidade': 1263, 'porcentagem': 14.86}}\n",
            "{'estado_civil': {'quantidade': 620, 'porcentagem': 7.29}}\n",
            "{'salario_anual': {'quantidade': 925, 'porcentagem': 10.88}}\n"
          ]
        }
      ]
    },
    {
      "cell_type": "code",
      "metadata": {
        "id": "o9GIwcSCVmjt",
        "colab": {
          "base_uri": "https://localhost:8080/"
        },
        "outputId": "743d656e-1e28-45fb-fef9-b214d8b2086d"
      },
      "source": [
        "stats_dados_faltantes(df=df[df['default'] == 1])"
      ],
      "execution_count": null,
      "outputs": [
        {
          "output_type": "stream",
          "name": "stdout",
          "text": [
            "{'escolaridade': {'quantidade': 256, 'porcentagem': 15.73}}\n",
            "{'estado_civil': {'quantidade': 129, 'porcentagem': 7.93}}\n",
            "{'salario_anual': {'quantidade': 187, 'porcentagem': 11.49}}\n"
          ]
        }
      ]
    },
    {
      "cell_type": "markdown",
      "metadata": {
        "id": "miYvjW9QPKJm"
      },
      "source": [
        "## 3\\. Transformação e limpeza de dados"
      ]
    },
    {
      "cell_type": "markdown",
      "metadata": {
        "id": "_JEcr6OBLjT9"
      },
      "source": [
        "Agora que conhecemos melhor a natureza do nosso conjunto de dados, vamos conduzir uma atividade conhecida como *data wrangling* que consiste na transformação e limpeza dos dados do conjunto para que possam ser melhor analisados. Em especial, vamos remover:\n",
        "\n",
        " - Corrigir o *schema* das nossas colunas;\n",
        " - Remover os dados faltantes."
      ]
    },
    {
      "cell_type": "markdown",
      "metadata": {
        "id": "YqEgik1OXVLR"
      },
      "source": [
        "### **3.1. Correção de schema**"
      ]
    },
    {
      "cell_type": "markdown",
      "metadata": {
        "id": "FWHWpcurMkiX"
      },
      "source": [
        "Na etapa de exploração, notamos que as colunas **limite_credito** e **valor_transacoes_12m** estavam sendo interpretadas como colunas categóricas (`dtype = object`)."
      ]
    },
    {
      "cell_type": "code",
      "metadata": {
        "id": "e_ToeVYcM7X3",
        "colab": {
          "base_uri": "https://localhost:8080/"
        },
        "outputId": "1f3dfa47-8ebb-44de-a4b9-90df0f87623d"
      },
      "source": [
        "df[['limite_credito', 'valor_transacoes_12m']].dtypes"
      ],
      "execution_count": null,
      "outputs": [
        {
          "output_type": "execute_result",
          "data": {
            "text/plain": [
              "limite_credito          object\n",
              "valor_transacoes_12m    object\n",
              "dtype: object"
            ]
          },
          "metadata": {},
          "execution_count": 19
        }
      ]
    },
    {
      "cell_type": "code",
      "metadata": {
        "id": "pkG33j5QNGLD",
        "colab": {
          "base_uri": "https://localhost:8080/",
          "height": 206
        },
        "outputId": "6e87dfb5-88fe-472a-9410-238e8030e023"
      },
      "source": [
        "df[['limite_credito', 'valor_transacoes_12m']].head(n=5)"
      ],
      "execution_count": null,
      "outputs": [
        {
          "output_type": "execute_result",
          "data": {
            "text/plain": [
              "  limite_credito valor_transacoes_12m\n",
              "0      12.691,51             1.144,90\n",
              "1       8.256,96             1.291,45\n",
              "2       3.418,56             1.887,72\n",
              "3       3.313,03             1.171,56\n",
              "4       4.716,22               816,08"
            ],
            "text/html": [
              "\n",
              "  <div id=\"df-eb99968e-30dc-45d8-a665-9656d61d19c7\" class=\"colab-df-container\">\n",
              "    <div>\n",
              "<style scoped>\n",
              "    .dataframe tbody tr th:only-of-type {\n",
              "        vertical-align: middle;\n",
              "    }\n",
              "\n",
              "    .dataframe tbody tr th {\n",
              "        vertical-align: top;\n",
              "    }\n",
              "\n",
              "    .dataframe thead th {\n",
              "        text-align: right;\n",
              "    }\n",
              "</style>\n",
              "<table border=\"1\" class=\"dataframe\">\n",
              "  <thead>\n",
              "    <tr style=\"text-align: right;\">\n",
              "      <th></th>\n",
              "      <th>limite_credito</th>\n",
              "      <th>valor_transacoes_12m</th>\n",
              "    </tr>\n",
              "  </thead>\n",
              "  <tbody>\n",
              "    <tr>\n",
              "      <th>0</th>\n",
              "      <td>12.691,51</td>\n",
              "      <td>1.144,90</td>\n",
              "    </tr>\n",
              "    <tr>\n",
              "      <th>1</th>\n",
              "      <td>8.256,96</td>\n",
              "      <td>1.291,45</td>\n",
              "    </tr>\n",
              "    <tr>\n",
              "      <th>2</th>\n",
              "      <td>3.418,56</td>\n",
              "      <td>1.887,72</td>\n",
              "    </tr>\n",
              "    <tr>\n",
              "      <th>3</th>\n",
              "      <td>3.313,03</td>\n",
              "      <td>1.171,56</td>\n",
              "    </tr>\n",
              "    <tr>\n",
              "      <th>4</th>\n",
              "      <td>4.716,22</td>\n",
              "      <td>816,08</td>\n",
              "    </tr>\n",
              "  </tbody>\n",
              "</table>\n",
              "</div>\n",
              "    <div class=\"colab-df-buttons\">\n",
              "\n",
              "  <div class=\"colab-df-container\">\n",
              "    <button class=\"colab-df-convert\" onclick=\"convertToInteractive('df-eb99968e-30dc-45d8-a665-9656d61d19c7')\"\n",
              "            title=\"Convert this dataframe to an interactive table.\"\n",
              "            style=\"display:none;\">\n",
              "\n",
              "  <svg xmlns=\"http://www.w3.org/2000/svg\" height=\"24px\" viewBox=\"0 -960 960 960\">\n",
              "    <path d=\"M120-120v-720h720v720H120Zm60-500h600v-160H180v160Zm220 220h160v-160H400v160Zm0 220h160v-160H400v160ZM180-400h160v-160H180v160Zm440 0h160v-160H620v160ZM180-180h160v-160H180v160Zm440 0h160v-160H620v160Z\"/>\n",
              "  </svg>\n",
              "    </button>\n",
              "\n",
              "  <style>\n",
              "    .colab-df-container {\n",
              "      display:flex;\n",
              "      gap: 12px;\n",
              "    }\n",
              "\n",
              "    .colab-df-convert {\n",
              "      background-color: #E8F0FE;\n",
              "      border: none;\n",
              "      border-radius: 50%;\n",
              "      cursor: pointer;\n",
              "      display: none;\n",
              "      fill: #1967D2;\n",
              "      height: 32px;\n",
              "      padding: 0 0 0 0;\n",
              "      width: 32px;\n",
              "    }\n",
              "\n",
              "    .colab-df-convert:hover {\n",
              "      background-color: #E2EBFA;\n",
              "      box-shadow: 0px 1px 2px rgba(60, 64, 67, 0.3), 0px 1px 3px 1px rgba(60, 64, 67, 0.15);\n",
              "      fill: #174EA6;\n",
              "    }\n",
              "\n",
              "    .colab-df-buttons div {\n",
              "      margin-bottom: 4px;\n",
              "    }\n",
              "\n",
              "    [theme=dark] .colab-df-convert {\n",
              "      background-color: #3B4455;\n",
              "      fill: #D2E3FC;\n",
              "    }\n",
              "\n",
              "    [theme=dark] .colab-df-convert:hover {\n",
              "      background-color: #434B5C;\n",
              "      box-shadow: 0px 1px 3px 1px rgba(0, 0, 0, 0.15);\n",
              "      filter: drop-shadow(0px 1px 2px rgba(0, 0, 0, 0.3));\n",
              "      fill: #FFFFFF;\n",
              "    }\n",
              "  </style>\n",
              "\n",
              "    <script>\n",
              "      const buttonEl =\n",
              "        document.querySelector('#df-eb99968e-30dc-45d8-a665-9656d61d19c7 button.colab-df-convert');\n",
              "      buttonEl.style.display =\n",
              "        google.colab.kernel.accessAllowed ? 'block' : 'none';\n",
              "\n",
              "      async function convertToInteractive(key) {\n",
              "        const element = document.querySelector('#df-eb99968e-30dc-45d8-a665-9656d61d19c7');\n",
              "        const dataTable =\n",
              "          await google.colab.kernel.invokeFunction('convertToInteractive',\n",
              "                                                    [key], {});\n",
              "        if (!dataTable) return;\n",
              "\n",
              "        const docLinkHtml = 'Like what you see? Visit the ' +\n",
              "          '<a target=\"_blank\" href=https://colab.research.google.com/notebooks/data_table.ipynb>data table notebook</a>'\n",
              "          + ' to learn more about interactive tables.';\n",
              "        element.innerHTML = '';\n",
              "        dataTable['output_type'] = 'display_data';\n",
              "        await google.colab.output.renderOutput(dataTable, element);\n",
              "        const docLink = document.createElement('div');\n",
              "        docLink.innerHTML = docLinkHtml;\n",
              "        element.appendChild(docLink);\n",
              "      }\n",
              "    </script>\n",
              "  </div>\n",
              "\n",
              "\n",
              "<div id=\"df-6fa3a723-9e36-4584-b501-d3c06791a7b2\">\n",
              "  <button class=\"colab-df-quickchart\" onclick=\"quickchart('df-6fa3a723-9e36-4584-b501-d3c06791a7b2')\"\n",
              "            title=\"Suggest charts.\"\n",
              "            style=\"display:none;\">\n",
              "\n",
              "<svg xmlns=\"http://www.w3.org/2000/svg\" height=\"24px\"viewBox=\"0 0 24 24\"\n",
              "     width=\"24px\">\n",
              "    <g>\n",
              "        <path d=\"M19 3H5c-1.1 0-2 .9-2 2v14c0 1.1.9 2 2 2h14c1.1 0 2-.9 2-2V5c0-1.1-.9-2-2-2zM9 17H7v-7h2v7zm4 0h-2V7h2v10zm4 0h-2v-4h2v4z\"/>\n",
              "    </g>\n",
              "</svg>\n",
              "  </button>\n",
              "\n",
              "<style>\n",
              "  .colab-df-quickchart {\n",
              "      --bg-color: #E8F0FE;\n",
              "      --fill-color: #1967D2;\n",
              "      --hover-bg-color: #E2EBFA;\n",
              "      --hover-fill-color: #174EA6;\n",
              "      --disabled-fill-color: #AAA;\n",
              "      --disabled-bg-color: #DDD;\n",
              "  }\n",
              "\n",
              "  [theme=dark] .colab-df-quickchart {\n",
              "      --bg-color: #3B4455;\n",
              "      --fill-color: #D2E3FC;\n",
              "      --hover-bg-color: #434B5C;\n",
              "      --hover-fill-color: #FFFFFF;\n",
              "      --disabled-bg-color: #3B4455;\n",
              "      --disabled-fill-color: #666;\n",
              "  }\n",
              "\n",
              "  .colab-df-quickchart {\n",
              "    background-color: var(--bg-color);\n",
              "    border: none;\n",
              "    border-radius: 50%;\n",
              "    cursor: pointer;\n",
              "    display: none;\n",
              "    fill: var(--fill-color);\n",
              "    height: 32px;\n",
              "    padding: 0;\n",
              "    width: 32px;\n",
              "  }\n",
              "\n",
              "  .colab-df-quickchart:hover {\n",
              "    background-color: var(--hover-bg-color);\n",
              "    box-shadow: 0 1px 2px rgba(60, 64, 67, 0.3), 0 1px 3px 1px rgba(60, 64, 67, 0.15);\n",
              "    fill: var(--button-hover-fill-color);\n",
              "  }\n",
              "\n",
              "  .colab-df-quickchart-complete:disabled,\n",
              "  .colab-df-quickchart-complete:disabled:hover {\n",
              "    background-color: var(--disabled-bg-color);\n",
              "    fill: var(--disabled-fill-color);\n",
              "    box-shadow: none;\n",
              "  }\n",
              "\n",
              "  .colab-df-spinner {\n",
              "    border: 2px solid var(--fill-color);\n",
              "    border-color: transparent;\n",
              "    border-bottom-color: var(--fill-color);\n",
              "    animation:\n",
              "      spin 1s steps(1) infinite;\n",
              "  }\n",
              "\n",
              "  @keyframes spin {\n",
              "    0% {\n",
              "      border-color: transparent;\n",
              "      border-bottom-color: var(--fill-color);\n",
              "      border-left-color: var(--fill-color);\n",
              "    }\n",
              "    20% {\n",
              "      border-color: transparent;\n",
              "      border-left-color: var(--fill-color);\n",
              "      border-top-color: var(--fill-color);\n",
              "    }\n",
              "    30% {\n",
              "      border-color: transparent;\n",
              "      border-left-color: var(--fill-color);\n",
              "      border-top-color: var(--fill-color);\n",
              "      border-right-color: var(--fill-color);\n",
              "    }\n",
              "    40% {\n",
              "      border-color: transparent;\n",
              "      border-right-color: var(--fill-color);\n",
              "      border-top-color: var(--fill-color);\n",
              "    }\n",
              "    60% {\n",
              "      border-color: transparent;\n",
              "      border-right-color: var(--fill-color);\n",
              "    }\n",
              "    80% {\n",
              "      border-color: transparent;\n",
              "      border-right-color: var(--fill-color);\n",
              "      border-bottom-color: var(--fill-color);\n",
              "    }\n",
              "    90% {\n",
              "      border-color: transparent;\n",
              "      border-bottom-color: var(--fill-color);\n",
              "    }\n",
              "  }\n",
              "</style>\n",
              "\n",
              "  <script>\n",
              "    async function quickchart(key) {\n",
              "      const quickchartButtonEl =\n",
              "        document.querySelector('#' + key + ' button');\n",
              "      quickchartButtonEl.disabled = true;  // To prevent multiple clicks.\n",
              "      quickchartButtonEl.classList.add('colab-df-spinner');\n",
              "      try {\n",
              "        const charts = await google.colab.kernel.invokeFunction(\n",
              "            'suggestCharts', [key], {});\n",
              "      } catch (error) {\n",
              "        console.error('Error during call to suggestCharts:', error);\n",
              "      }\n",
              "      quickchartButtonEl.classList.remove('colab-df-spinner');\n",
              "      quickchartButtonEl.classList.add('colab-df-quickchart-complete');\n",
              "    }\n",
              "    (() => {\n",
              "      let quickchartButtonEl =\n",
              "        document.querySelector('#df-6fa3a723-9e36-4584-b501-d3c06791a7b2 button');\n",
              "      quickchartButtonEl.style.display =\n",
              "        google.colab.kernel.accessAllowed ? 'block' : 'none';\n",
              "    })();\n",
              "  </script>\n",
              "</div>\n",
              "    </div>\n",
              "  </div>\n"
            ]
          },
          "metadata": {},
          "execution_count": 20
        }
      ]
    },
    {
      "cell_type": "markdown",
      "metadata": {
        "id": "b2AJxyYXNQhC"
      },
      "source": [
        "Vamos criar uma função `lambda` para limpar os dados. Mas antes, vamos testar sua aplicação através do método funcional `map`:"
      ]
    },
    {
      "cell_type": "code",
      "metadata": {
        "id": "P2cLfCZTOFJD",
        "colab": {
          "base_uri": "https://localhost:8080/"
        },
        "outputId": "bcff156d-847d-4af7-aa4d-46da4b5eefd2"
      },
      "source": [
        "fn = lambda valor: float(valor.replace(\".\", \"\").replace(\",\", \".\"))\n",
        "\n",
        "valores_originais = ['12.691,51', '8.256,96', '3.418,56', '3.313,03', '4.716,22']\n",
        "valores_limpos = list(map(fn, valores_originais))\n",
        "\n",
        "print(valores_originais)\n",
        "print(valores_limpos)"
      ],
      "execution_count": null,
      "outputs": [
        {
          "output_type": "stream",
          "name": "stdout",
          "text": [
            "['12.691,51', '8.256,96', '3.418,56', '3.313,03', '4.716,22']\n",
            "[12691.51, 8256.96, 3418.56, 3313.03, 4716.22]\n"
          ]
        }
      ]
    },
    {
      "cell_type": "markdown",
      "metadata": {
        "id": "oNx_M5ueNfj1"
      },
      "source": [
        "Com a função `lambda` de limpeza pronta, basta aplica-la nas colunas de interesse."
      ]
    },
    {
      "cell_type": "code",
      "metadata": {
        "id": "b1vsc75TN_ZA"
      },
      "source": [
        "df['valor_transacoes_12m'] = df['valor_transacoes_12m'].apply(fn)\n",
        "df['limite_credito'] = df['limite_credito'].apply(fn)"
      ],
      "execution_count": null,
      "outputs": []
    },
    {
      "cell_type": "markdown",
      "metadata": {
        "id": "44lO14qwOaGL"
      },
      "source": [
        "Vamos descrever novamente o *schema*:"
      ]
    },
    {
      "cell_type": "code",
      "metadata": {
        "id": "TOJoEfVxQpz3",
        "colab": {
          "base_uri": "https://localhost:8080/"
        },
        "outputId": "98e4f079-4a0c-483b-82cd-97439eeb2222"
      },
      "source": [
        "df.dtypes"
      ],
      "execution_count": null,
      "outputs": [
        {
          "output_type": "execute_result",
          "data": {
            "text/plain": [
              "id                           int64\n",
              "default                      int64\n",
              "idade                        int64\n",
              "sexo                        object\n",
              "dependentes                  int64\n",
              "escolaridade                object\n",
              "estado_civil                object\n",
              "salario_anual               object\n",
              "tipo_cartao                 object\n",
              "meses_de_relacionamento      int64\n",
              "qtd_produtos                 int64\n",
              "iteracoes_12m                int64\n",
              "meses_inativo_12m            int64\n",
              "limite_credito             float64\n",
              "valor_transacoes_12m       float64\n",
              "qtd_transacoes_12m           int64\n",
              "dtype: object"
            ]
          },
          "metadata": {},
          "execution_count": 23
        }
      ]
    },
    {
      "cell_type": "markdown",
      "metadata": {
        "id": "Jzst49MBOQux"
      },
      "source": [
        " - Atributos **categóricos**."
      ]
    },
    {
      "cell_type": "code",
      "metadata": {
        "id": "ul2cx2s6OQu5",
        "colab": {
          "base_uri": "https://localhost:8080/",
          "height": 206
        },
        "outputId": "7510c59d-57f2-4abf-cfe6-9deb59961770"
      },
      "source": [
        "df.select_dtypes('object').describe().transpose()"
      ],
      "execution_count": null,
      "outputs": [
        {
          "output_type": "execute_result",
          "data": {
            "text/plain": [
              "               count unique             top  freq\n",
              "sexo           10127      2               F  5358\n",
              "escolaridade    8608      5        mestrado  3128\n",
              "estado_civil    9378      3          casado  4687\n",
              "salario_anual   9015      5  menos que $40K  3561\n",
              "tipo_cartao    10127      4            blue  9436"
            ],
            "text/html": [
              "\n",
              "  <div id=\"df-584857d2-102c-46fd-b6c3-f5bab8be7918\" class=\"colab-df-container\">\n",
              "    <div>\n",
              "<style scoped>\n",
              "    .dataframe tbody tr th:only-of-type {\n",
              "        vertical-align: middle;\n",
              "    }\n",
              "\n",
              "    .dataframe tbody tr th {\n",
              "        vertical-align: top;\n",
              "    }\n",
              "\n",
              "    .dataframe thead th {\n",
              "        text-align: right;\n",
              "    }\n",
              "</style>\n",
              "<table border=\"1\" class=\"dataframe\">\n",
              "  <thead>\n",
              "    <tr style=\"text-align: right;\">\n",
              "      <th></th>\n",
              "      <th>count</th>\n",
              "      <th>unique</th>\n",
              "      <th>top</th>\n",
              "      <th>freq</th>\n",
              "    </tr>\n",
              "  </thead>\n",
              "  <tbody>\n",
              "    <tr>\n",
              "      <th>sexo</th>\n",
              "      <td>10127</td>\n",
              "      <td>2</td>\n",
              "      <td>F</td>\n",
              "      <td>5358</td>\n",
              "    </tr>\n",
              "    <tr>\n",
              "      <th>escolaridade</th>\n",
              "      <td>8608</td>\n",
              "      <td>5</td>\n",
              "      <td>mestrado</td>\n",
              "      <td>3128</td>\n",
              "    </tr>\n",
              "    <tr>\n",
              "      <th>estado_civil</th>\n",
              "      <td>9378</td>\n",
              "      <td>3</td>\n",
              "      <td>casado</td>\n",
              "      <td>4687</td>\n",
              "    </tr>\n",
              "    <tr>\n",
              "      <th>salario_anual</th>\n",
              "      <td>9015</td>\n",
              "      <td>5</td>\n",
              "      <td>menos que $40K</td>\n",
              "      <td>3561</td>\n",
              "    </tr>\n",
              "    <tr>\n",
              "      <th>tipo_cartao</th>\n",
              "      <td>10127</td>\n",
              "      <td>4</td>\n",
              "      <td>blue</td>\n",
              "      <td>9436</td>\n",
              "    </tr>\n",
              "  </tbody>\n",
              "</table>\n",
              "</div>\n",
              "    <div class=\"colab-df-buttons\">\n",
              "\n",
              "  <div class=\"colab-df-container\">\n",
              "    <button class=\"colab-df-convert\" onclick=\"convertToInteractive('df-584857d2-102c-46fd-b6c3-f5bab8be7918')\"\n",
              "            title=\"Convert this dataframe to an interactive table.\"\n",
              "            style=\"display:none;\">\n",
              "\n",
              "  <svg xmlns=\"http://www.w3.org/2000/svg\" height=\"24px\" viewBox=\"0 -960 960 960\">\n",
              "    <path d=\"M120-120v-720h720v720H120Zm60-500h600v-160H180v160Zm220 220h160v-160H400v160Zm0 220h160v-160H400v160ZM180-400h160v-160H180v160Zm440 0h160v-160H620v160ZM180-180h160v-160H180v160Zm440 0h160v-160H620v160Z\"/>\n",
              "  </svg>\n",
              "    </button>\n",
              "\n",
              "  <style>\n",
              "    .colab-df-container {\n",
              "      display:flex;\n",
              "      gap: 12px;\n",
              "    }\n",
              "\n",
              "    .colab-df-convert {\n",
              "      background-color: #E8F0FE;\n",
              "      border: none;\n",
              "      border-radius: 50%;\n",
              "      cursor: pointer;\n",
              "      display: none;\n",
              "      fill: #1967D2;\n",
              "      height: 32px;\n",
              "      padding: 0 0 0 0;\n",
              "      width: 32px;\n",
              "    }\n",
              "\n",
              "    .colab-df-convert:hover {\n",
              "      background-color: #E2EBFA;\n",
              "      box-shadow: 0px 1px 2px rgba(60, 64, 67, 0.3), 0px 1px 3px 1px rgba(60, 64, 67, 0.15);\n",
              "      fill: #174EA6;\n",
              "    }\n",
              "\n",
              "    .colab-df-buttons div {\n",
              "      margin-bottom: 4px;\n",
              "    }\n",
              "\n",
              "    [theme=dark] .colab-df-convert {\n",
              "      background-color: #3B4455;\n",
              "      fill: #D2E3FC;\n",
              "    }\n",
              "\n",
              "    [theme=dark] .colab-df-convert:hover {\n",
              "      background-color: #434B5C;\n",
              "      box-shadow: 0px 1px 3px 1px rgba(0, 0, 0, 0.15);\n",
              "      filter: drop-shadow(0px 1px 2px rgba(0, 0, 0, 0.3));\n",
              "      fill: #FFFFFF;\n",
              "    }\n",
              "  </style>\n",
              "\n",
              "    <script>\n",
              "      const buttonEl =\n",
              "        document.querySelector('#df-584857d2-102c-46fd-b6c3-f5bab8be7918 button.colab-df-convert');\n",
              "      buttonEl.style.display =\n",
              "        google.colab.kernel.accessAllowed ? 'block' : 'none';\n",
              "\n",
              "      async function convertToInteractive(key) {\n",
              "        const element = document.querySelector('#df-584857d2-102c-46fd-b6c3-f5bab8be7918');\n",
              "        const dataTable =\n",
              "          await google.colab.kernel.invokeFunction('convertToInteractive',\n",
              "                                                    [key], {});\n",
              "        if (!dataTable) return;\n",
              "\n",
              "        const docLinkHtml = 'Like what you see? Visit the ' +\n",
              "          '<a target=\"_blank\" href=https://colab.research.google.com/notebooks/data_table.ipynb>data table notebook</a>'\n",
              "          + ' to learn more about interactive tables.';\n",
              "        element.innerHTML = '';\n",
              "        dataTable['output_type'] = 'display_data';\n",
              "        await google.colab.output.renderOutput(dataTable, element);\n",
              "        const docLink = document.createElement('div');\n",
              "        docLink.innerHTML = docLinkHtml;\n",
              "        element.appendChild(docLink);\n",
              "      }\n",
              "    </script>\n",
              "  </div>\n",
              "\n",
              "\n",
              "<div id=\"df-99af2a0b-9792-4321-af15-4aec6d41d576\">\n",
              "  <button class=\"colab-df-quickchart\" onclick=\"quickchart('df-99af2a0b-9792-4321-af15-4aec6d41d576')\"\n",
              "            title=\"Suggest charts.\"\n",
              "            style=\"display:none;\">\n",
              "\n",
              "<svg xmlns=\"http://www.w3.org/2000/svg\" height=\"24px\"viewBox=\"0 0 24 24\"\n",
              "     width=\"24px\">\n",
              "    <g>\n",
              "        <path d=\"M19 3H5c-1.1 0-2 .9-2 2v14c0 1.1.9 2 2 2h14c1.1 0 2-.9 2-2V5c0-1.1-.9-2-2-2zM9 17H7v-7h2v7zm4 0h-2V7h2v10zm4 0h-2v-4h2v4z\"/>\n",
              "    </g>\n",
              "</svg>\n",
              "  </button>\n",
              "\n",
              "<style>\n",
              "  .colab-df-quickchart {\n",
              "      --bg-color: #E8F0FE;\n",
              "      --fill-color: #1967D2;\n",
              "      --hover-bg-color: #E2EBFA;\n",
              "      --hover-fill-color: #174EA6;\n",
              "      --disabled-fill-color: #AAA;\n",
              "      --disabled-bg-color: #DDD;\n",
              "  }\n",
              "\n",
              "  [theme=dark] .colab-df-quickchart {\n",
              "      --bg-color: #3B4455;\n",
              "      --fill-color: #D2E3FC;\n",
              "      --hover-bg-color: #434B5C;\n",
              "      --hover-fill-color: #FFFFFF;\n",
              "      --disabled-bg-color: #3B4455;\n",
              "      --disabled-fill-color: #666;\n",
              "  }\n",
              "\n",
              "  .colab-df-quickchart {\n",
              "    background-color: var(--bg-color);\n",
              "    border: none;\n",
              "    border-radius: 50%;\n",
              "    cursor: pointer;\n",
              "    display: none;\n",
              "    fill: var(--fill-color);\n",
              "    height: 32px;\n",
              "    padding: 0;\n",
              "    width: 32px;\n",
              "  }\n",
              "\n",
              "  .colab-df-quickchart:hover {\n",
              "    background-color: var(--hover-bg-color);\n",
              "    box-shadow: 0 1px 2px rgba(60, 64, 67, 0.3), 0 1px 3px 1px rgba(60, 64, 67, 0.15);\n",
              "    fill: var(--button-hover-fill-color);\n",
              "  }\n",
              "\n",
              "  .colab-df-quickchart-complete:disabled,\n",
              "  .colab-df-quickchart-complete:disabled:hover {\n",
              "    background-color: var(--disabled-bg-color);\n",
              "    fill: var(--disabled-fill-color);\n",
              "    box-shadow: none;\n",
              "  }\n",
              "\n",
              "  .colab-df-spinner {\n",
              "    border: 2px solid var(--fill-color);\n",
              "    border-color: transparent;\n",
              "    border-bottom-color: var(--fill-color);\n",
              "    animation:\n",
              "      spin 1s steps(1) infinite;\n",
              "  }\n",
              "\n",
              "  @keyframes spin {\n",
              "    0% {\n",
              "      border-color: transparent;\n",
              "      border-bottom-color: var(--fill-color);\n",
              "      border-left-color: var(--fill-color);\n",
              "    }\n",
              "    20% {\n",
              "      border-color: transparent;\n",
              "      border-left-color: var(--fill-color);\n",
              "      border-top-color: var(--fill-color);\n",
              "    }\n",
              "    30% {\n",
              "      border-color: transparent;\n",
              "      border-left-color: var(--fill-color);\n",
              "      border-top-color: var(--fill-color);\n",
              "      border-right-color: var(--fill-color);\n",
              "    }\n",
              "    40% {\n",
              "      border-color: transparent;\n",
              "      border-right-color: var(--fill-color);\n",
              "      border-top-color: var(--fill-color);\n",
              "    }\n",
              "    60% {\n",
              "      border-color: transparent;\n",
              "      border-right-color: var(--fill-color);\n",
              "    }\n",
              "    80% {\n",
              "      border-color: transparent;\n",
              "      border-right-color: var(--fill-color);\n",
              "      border-bottom-color: var(--fill-color);\n",
              "    }\n",
              "    90% {\n",
              "      border-color: transparent;\n",
              "      border-bottom-color: var(--fill-color);\n",
              "    }\n",
              "  }\n",
              "</style>\n",
              "\n",
              "  <script>\n",
              "    async function quickchart(key) {\n",
              "      const quickchartButtonEl =\n",
              "        document.querySelector('#' + key + ' button');\n",
              "      quickchartButtonEl.disabled = true;  // To prevent multiple clicks.\n",
              "      quickchartButtonEl.classList.add('colab-df-spinner');\n",
              "      try {\n",
              "        const charts = await google.colab.kernel.invokeFunction(\n",
              "            'suggestCharts', [key], {});\n",
              "      } catch (error) {\n",
              "        console.error('Error during call to suggestCharts:', error);\n",
              "      }\n",
              "      quickchartButtonEl.classList.remove('colab-df-spinner');\n",
              "      quickchartButtonEl.classList.add('colab-df-quickchart-complete');\n",
              "    }\n",
              "    (() => {\n",
              "      let quickchartButtonEl =\n",
              "        document.querySelector('#df-99af2a0b-9792-4321-af15-4aec6d41d576 button');\n",
              "      quickchartButtonEl.style.display =\n",
              "        google.colab.kernel.accessAllowed ? 'block' : 'none';\n",
              "    })();\n",
              "  </script>\n",
              "</div>\n",
              "    </div>\n",
              "  </div>\n"
            ]
          },
          "metadata": {},
          "execution_count": 24
        }
      ]
    },
    {
      "cell_type": "markdown",
      "metadata": {
        "id": "MOln7J02OQu7"
      },
      "source": [
        " - Atributos **numéricos**."
      ]
    },
    {
      "cell_type": "code",
      "metadata": {
        "id": "wcavrFtIOQu8",
        "colab": {
          "base_uri": "https://localhost:8080/",
          "height": 363
        },
        "outputId": "6a7c1c1e-c728-416c-d63a-1e722c8c3547"
      },
      "source": [
        "df.drop('id', axis=1).select_dtypes('number').describe().transpose()"
      ],
      "execution_count": null,
      "outputs": [
        {
          "output_type": "execute_result",
          "data": {
            "text/plain": [
              "                           count         mean          std      min       25%  \\\n",
              "default                  10127.0     0.160660     0.367235     0.00     0.000   \n",
              "idade                    10127.0    46.325960     8.016814    26.00    41.000   \n",
              "dependentes              10127.0     2.346203     1.298908     0.00     1.000   \n",
              "meses_de_relacionamento  10127.0    35.928409     7.986416    13.00    31.000   \n",
              "qtd_produtos             10127.0     3.812580     1.554408     1.00     3.000   \n",
              "iteracoes_12m            10127.0     2.455317     1.106225     0.00     2.000   \n",
              "meses_inativo_12m        10127.0     2.341167     1.010622     0.00     2.000   \n",
              "limite_credito           10127.0  8632.440165  9088.788041  1438.00  2555.355   \n",
              "valor_transacoes_12m     10127.0  4404.583047  3397.128078   510.16  2155.825   \n",
              "qtd_transacoes_12m       10127.0    64.858695    23.472570    10.00    45.000   \n",
              "\n",
              "                             50%        75%       max  \n",
              "default                     0.00      0.000      1.00  \n",
              "idade                      46.00     52.000     73.00  \n",
              "dependentes                 2.00      3.000      5.00  \n",
              "meses_de_relacionamento    36.00     40.000     56.00  \n",
              "qtd_produtos                4.00      5.000      6.00  \n",
              "iteracoes_12m               2.00      3.000      6.00  \n",
              "meses_inativo_12m           2.00      3.000      6.00  \n",
              "limite_credito           4549.42  11068.175  34516.99  \n",
              "valor_transacoes_12m     3899.59   4741.310  18484.93  \n",
              "qtd_transacoes_12m         67.00     81.000    139.00  "
            ],
            "text/html": [
              "\n",
              "  <div id=\"df-304804b5-9ba5-499f-a5fd-fc458bb94245\" class=\"colab-df-container\">\n",
              "    <div>\n",
              "<style scoped>\n",
              "    .dataframe tbody tr th:only-of-type {\n",
              "        vertical-align: middle;\n",
              "    }\n",
              "\n",
              "    .dataframe tbody tr th {\n",
              "        vertical-align: top;\n",
              "    }\n",
              "\n",
              "    .dataframe thead th {\n",
              "        text-align: right;\n",
              "    }\n",
              "</style>\n",
              "<table border=\"1\" class=\"dataframe\">\n",
              "  <thead>\n",
              "    <tr style=\"text-align: right;\">\n",
              "      <th></th>\n",
              "      <th>count</th>\n",
              "      <th>mean</th>\n",
              "      <th>std</th>\n",
              "      <th>min</th>\n",
              "      <th>25%</th>\n",
              "      <th>50%</th>\n",
              "      <th>75%</th>\n",
              "      <th>max</th>\n",
              "    </tr>\n",
              "  </thead>\n",
              "  <tbody>\n",
              "    <tr>\n",
              "      <th>default</th>\n",
              "      <td>10127.0</td>\n",
              "      <td>0.160660</td>\n",
              "      <td>0.367235</td>\n",
              "      <td>0.00</td>\n",
              "      <td>0.000</td>\n",
              "      <td>0.00</td>\n",
              "      <td>0.000</td>\n",
              "      <td>1.00</td>\n",
              "    </tr>\n",
              "    <tr>\n",
              "      <th>idade</th>\n",
              "      <td>10127.0</td>\n",
              "      <td>46.325960</td>\n",
              "      <td>8.016814</td>\n",
              "      <td>26.00</td>\n",
              "      <td>41.000</td>\n",
              "      <td>46.00</td>\n",
              "      <td>52.000</td>\n",
              "      <td>73.00</td>\n",
              "    </tr>\n",
              "    <tr>\n",
              "      <th>dependentes</th>\n",
              "      <td>10127.0</td>\n",
              "      <td>2.346203</td>\n",
              "      <td>1.298908</td>\n",
              "      <td>0.00</td>\n",
              "      <td>1.000</td>\n",
              "      <td>2.00</td>\n",
              "      <td>3.000</td>\n",
              "      <td>5.00</td>\n",
              "    </tr>\n",
              "    <tr>\n",
              "      <th>meses_de_relacionamento</th>\n",
              "      <td>10127.0</td>\n",
              "      <td>35.928409</td>\n",
              "      <td>7.986416</td>\n",
              "      <td>13.00</td>\n",
              "      <td>31.000</td>\n",
              "      <td>36.00</td>\n",
              "      <td>40.000</td>\n",
              "      <td>56.00</td>\n",
              "    </tr>\n",
              "    <tr>\n",
              "      <th>qtd_produtos</th>\n",
              "      <td>10127.0</td>\n",
              "      <td>3.812580</td>\n",
              "      <td>1.554408</td>\n",
              "      <td>1.00</td>\n",
              "      <td>3.000</td>\n",
              "      <td>4.00</td>\n",
              "      <td>5.000</td>\n",
              "      <td>6.00</td>\n",
              "    </tr>\n",
              "    <tr>\n",
              "      <th>iteracoes_12m</th>\n",
              "      <td>10127.0</td>\n",
              "      <td>2.455317</td>\n",
              "      <td>1.106225</td>\n",
              "      <td>0.00</td>\n",
              "      <td>2.000</td>\n",
              "      <td>2.00</td>\n",
              "      <td>3.000</td>\n",
              "      <td>6.00</td>\n",
              "    </tr>\n",
              "    <tr>\n",
              "      <th>meses_inativo_12m</th>\n",
              "      <td>10127.0</td>\n",
              "      <td>2.341167</td>\n",
              "      <td>1.010622</td>\n",
              "      <td>0.00</td>\n",
              "      <td>2.000</td>\n",
              "      <td>2.00</td>\n",
              "      <td>3.000</td>\n",
              "      <td>6.00</td>\n",
              "    </tr>\n",
              "    <tr>\n",
              "      <th>limite_credito</th>\n",
              "      <td>10127.0</td>\n",
              "      <td>8632.440165</td>\n",
              "      <td>9088.788041</td>\n",
              "      <td>1438.00</td>\n",
              "      <td>2555.355</td>\n",
              "      <td>4549.42</td>\n",
              "      <td>11068.175</td>\n",
              "      <td>34516.99</td>\n",
              "    </tr>\n",
              "    <tr>\n",
              "      <th>valor_transacoes_12m</th>\n",
              "      <td>10127.0</td>\n",
              "      <td>4404.583047</td>\n",
              "      <td>3397.128078</td>\n",
              "      <td>510.16</td>\n",
              "      <td>2155.825</td>\n",
              "      <td>3899.59</td>\n",
              "      <td>4741.310</td>\n",
              "      <td>18484.93</td>\n",
              "    </tr>\n",
              "    <tr>\n",
              "      <th>qtd_transacoes_12m</th>\n",
              "      <td>10127.0</td>\n",
              "      <td>64.858695</td>\n",
              "      <td>23.472570</td>\n",
              "      <td>10.00</td>\n",
              "      <td>45.000</td>\n",
              "      <td>67.00</td>\n",
              "      <td>81.000</td>\n",
              "      <td>139.00</td>\n",
              "    </tr>\n",
              "  </tbody>\n",
              "</table>\n",
              "</div>\n",
              "    <div class=\"colab-df-buttons\">\n",
              "\n",
              "  <div class=\"colab-df-container\">\n",
              "    <button class=\"colab-df-convert\" onclick=\"convertToInteractive('df-304804b5-9ba5-499f-a5fd-fc458bb94245')\"\n",
              "            title=\"Convert this dataframe to an interactive table.\"\n",
              "            style=\"display:none;\">\n",
              "\n",
              "  <svg xmlns=\"http://www.w3.org/2000/svg\" height=\"24px\" viewBox=\"0 -960 960 960\">\n",
              "    <path d=\"M120-120v-720h720v720H120Zm60-500h600v-160H180v160Zm220 220h160v-160H400v160Zm0 220h160v-160H400v160ZM180-400h160v-160H180v160Zm440 0h160v-160H620v160ZM180-180h160v-160H180v160Zm440 0h160v-160H620v160Z\"/>\n",
              "  </svg>\n",
              "    </button>\n",
              "\n",
              "  <style>\n",
              "    .colab-df-container {\n",
              "      display:flex;\n",
              "      gap: 12px;\n",
              "    }\n",
              "\n",
              "    .colab-df-convert {\n",
              "      background-color: #E8F0FE;\n",
              "      border: none;\n",
              "      border-radius: 50%;\n",
              "      cursor: pointer;\n",
              "      display: none;\n",
              "      fill: #1967D2;\n",
              "      height: 32px;\n",
              "      padding: 0 0 0 0;\n",
              "      width: 32px;\n",
              "    }\n",
              "\n",
              "    .colab-df-convert:hover {\n",
              "      background-color: #E2EBFA;\n",
              "      box-shadow: 0px 1px 2px rgba(60, 64, 67, 0.3), 0px 1px 3px 1px rgba(60, 64, 67, 0.15);\n",
              "      fill: #174EA6;\n",
              "    }\n",
              "\n",
              "    .colab-df-buttons div {\n",
              "      margin-bottom: 4px;\n",
              "    }\n",
              "\n",
              "    [theme=dark] .colab-df-convert {\n",
              "      background-color: #3B4455;\n",
              "      fill: #D2E3FC;\n",
              "    }\n",
              "\n",
              "    [theme=dark] .colab-df-convert:hover {\n",
              "      background-color: #434B5C;\n",
              "      box-shadow: 0px 1px 3px 1px rgba(0, 0, 0, 0.15);\n",
              "      filter: drop-shadow(0px 1px 2px rgba(0, 0, 0, 0.3));\n",
              "      fill: #FFFFFF;\n",
              "    }\n",
              "  </style>\n",
              "\n",
              "    <script>\n",
              "      const buttonEl =\n",
              "        document.querySelector('#df-304804b5-9ba5-499f-a5fd-fc458bb94245 button.colab-df-convert');\n",
              "      buttonEl.style.display =\n",
              "        google.colab.kernel.accessAllowed ? 'block' : 'none';\n",
              "\n",
              "      async function convertToInteractive(key) {\n",
              "        const element = document.querySelector('#df-304804b5-9ba5-499f-a5fd-fc458bb94245');\n",
              "        const dataTable =\n",
              "          await google.colab.kernel.invokeFunction('convertToInteractive',\n",
              "                                                    [key], {});\n",
              "        if (!dataTable) return;\n",
              "\n",
              "        const docLinkHtml = 'Like what you see? Visit the ' +\n",
              "          '<a target=\"_blank\" href=https://colab.research.google.com/notebooks/data_table.ipynb>data table notebook</a>'\n",
              "          + ' to learn more about interactive tables.';\n",
              "        element.innerHTML = '';\n",
              "        dataTable['output_type'] = 'display_data';\n",
              "        await google.colab.output.renderOutput(dataTable, element);\n",
              "        const docLink = document.createElement('div');\n",
              "        docLink.innerHTML = docLinkHtml;\n",
              "        element.appendChild(docLink);\n",
              "      }\n",
              "    </script>\n",
              "  </div>\n",
              "\n",
              "\n",
              "<div id=\"df-d5c0ee2b-0b39-4fb2-9ff6-872acb07da80\">\n",
              "  <button class=\"colab-df-quickchart\" onclick=\"quickchart('df-d5c0ee2b-0b39-4fb2-9ff6-872acb07da80')\"\n",
              "            title=\"Suggest charts.\"\n",
              "            style=\"display:none;\">\n",
              "\n",
              "<svg xmlns=\"http://www.w3.org/2000/svg\" height=\"24px\"viewBox=\"0 0 24 24\"\n",
              "     width=\"24px\">\n",
              "    <g>\n",
              "        <path d=\"M19 3H5c-1.1 0-2 .9-2 2v14c0 1.1.9 2 2 2h14c1.1 0 2-.9 2-2V5c0-1.1-.9-2-2-2zM9 17H7v-7h2v7zm4 0h-2V7h2v10zm4 0h-2v-4h2v4z\"/>\n",
              "    </g>\n",
              "</svg>\n",
              "  </button>\n",
              "\n",
              "<style>\n",
              "  .colab-df-quickchart {\n",
              "      --bg-color: #E8F0FE;\n",
              "      --fill-color: #1967D2;\n",
              "      --hover-bg-color: #E2EBFA;\n",
              "      --hover-fill-color: #174EA6;\n",
              "      --disabled-fill-color: #AAA;\n",
              "      --disabled-bg-color: #DDD;\n",
              "  }\n",
              "\n",
              "  [theme=dark] .colab-df-quickchart {\n",
              "      --bg-color: #3B4455;\n",
              "      --fill-color: #D2E3FC;\n",
              "      --hover-bg-color: #434B5C;\n",
              "      --hover-fill-color: #FFFFFF;\n",
              "      --disabled-bg-color: #3B4455;\n",
              "      --disabled-fill-color: #666;\n",
              "  }\n",
              "\n",
              "  .colab-df-quickchart {\n",
              "    background-color: var(--bg-color);\n",
              "    border: none;\n",
              "    border-radius: 50%;\n",
              "    cursor: pointer;\n",
              "    display: none;\n",
              "    fill: var(--fill-color);\n",
              "    height: 32px;\n",
              "    padding: 0;\n",
              "    width: 32px;\n",
              "  }\n",
              "\n",
              "  .colab-df-quickchart:hover {\n",
              "    background-color: var(--hover-bg-color);\n",
              "    box-shadow: 0 1px 2px rgba(60, 64, 67, 0.3), 0 1px 3px 1px rgba(60, 64, 67, 0.15);\n",
              "    fill: var(--button-hover-fill-color);\n",
              "  }\n",
              "\n",
              "  .colab-df-quickchart-complete:disabled,\n",
              "  .colab-df-quickchart-complete:disabled:hover {\n",
              "    background-color: var(--disabled-bg-color);\n",
              "    fill: var(--disabled-fill-color);\n",
              "    box-shadow: none;\n",
              "  }\n",
              "\n",
              "  .colab-df-spinner {\n",
              "    border: 2px solid var(--fill-color);\n",
              "    border-color: transparent;\n",
              "    border-bottom-color: var(--fill-color);\n",
              "    animation:\n",
              "      spin 1s steps(1) infinite;\n",
              "  }\n",
              "\n",
              "  @keyframes spin {\n",
              "    0% {\n",
              "      border-color: transparent;\n",
              "      border-bottom-color: var(--fill-color);\n",
              "      border-left-color: var(--fill-color);\n",
              "    }\n",
              "    20% {\n",
              "      border-color: transparent;\n",
              "      border-left-color: var(--fill-color);\n",
              "      border-top-color: var(--fill-color);\n",
              "    }\n",
              "    30% {\n",
              "      border-color: transparent;\n",
              "      border-left-color: var(--fill-color);\n",
              "      border-top-color: var(--fill-color);\n",
              "      border-right-color: var(--fill-color);\n",
              "    }\n",
              "    40% {\n",
              "      border-color: transparent;\n",
              "      border-right-color: var(--fill-color);\n",
              "      border-top-color: var(--fill-color);\n",
              "    }\n",
              "    60% {\n",
              "      border-color: transparent;\n",
              "      border-right-color: var(--fill-color);\n",
              "    }\n",
              "    80% {\n",
              "      border-color: transparent;\n",
              "      border-right-color: var(--fill-color);\n",
              "      border-bottom-color: var(--fill-color);\n",
              "    }\n",
              "    90% {\n",
              "      border-color: transparent;\n",
              "      border-bottom-color: var(--fill-color);\n",
              "    }\n",
              "  }\n",
              "</style>\n",
              "\n",
              "  <script>\n",
              "    async function quickchart(key) {\n",
              "      const quickchartButtonEl =\n",
              "        document.querySelector('#' + key + ' button');\n",
              "      quickchartButtonEl.disabled = true;  // To prevent multiple clicks.\n",
              "      quickchartButtonEl.classList.add('colab-df-spinner');\n",
              "      try {\n",
              "        const charts = await google.colab.kernel.invokeFunction(\n",
              "            'suggestCharts', [key], {});\n",
              "      } catch (error) {\n",
              "        console.error('Error during call to suggestCharts:', error);\n",
              "      }\n",
              "      quickchartButtonEl.classList.remove('colab-df-spinner');\n",
              "      quickchartButtonEl.classList.add('colab-df-quickchart-complete');\n",
              "    }\n",
              "    (() => {\n",
              "      let quickchartButtonEl =\n",
              "        document.querySelector('#df-d5c0ee2b-0b39-4fb2-9ff6-872acb07da80 button');\n",
              "      quickchartButtonEl.style.display =\n",
              "        google.colab.kernel.accessAllowed ? 'block' : 'none';\n",
              "    })();\n",
              "  </script>\n",
              "</div>\n",
              "    </div>\n",
              "  </div>\n"
            ]
          },
          "metadata": {},
          "execution_count": 25
        }
      ]
    },
    {
      "cell_type": "markdown",
      "metadata": {
        "id": "FfSrJNGPLgaE"
      },
      "source": [
        "### **3.2. Remoção de dados faltantes**"
      ]
    },
    {
      "cell_type": "markdown",
      "metadata": {
        "id": "C9-LfUrxPk26"
      },
      "source": [
        "Como o pandas está ciente do que é um dados faltante, a remoção das linhas problemáticas é trivial."
      ]
    },
    {
      "cell_type": "code",
      "metadata": {
        "id": "PACLJJnsLgak"
      },
      "source": [
        "df.dropna(inplace=True)"
      ],
      "execution_count": null,
      "outputs": []
    },
    {
      "cell_type": "markdown",
      "metadata": {
        "id": "tJhhutM7Phq9"
      },
      "source": [
        "Vamos analisar a estrutura dos dados novamente."
      ]
    },
    {
      "cell_type": "code",
      "metadata": {
        "id": "5Fo7S-COP0Lf",
        "colab": {
          "base_uri": "https://localhost:8080/"
        },
        "outputId": "2ca1d3b1-afc9-4943-8009-968fb387f847"
      },
      "source": [
        "df.shape"
      ],
      "execution_count": null,
      "outputs": [
        {
          "output_type": "execute_result",
          "data": {
            "text/plain": [
              "(7081, 16)"
            ]
          },
          "metadata": {},
          "execution_count": 27
        }
      ]
    },
    {
      "cell_type": "code",
      "metadata": {
        "id": "jbp-6NaXP0Lh",
        "colab": {
          "base_uri": "https://localhost:8080/"
        },
        "outputId": "9de1dfe7-0cb3-4939-e24a-d4521e171280"
      },
      "source": [
        "df[df['default'] == 0].shape"
      ],
      "execution_count": null,
      "outputs": [
        {
          "output_type": "execute_result",
          "data": {
            "text/plain": [
              "(5968, 16)"
            ]
          },
          "metadata": {},
          "execution_count": 28
        }
      ]
    },
    {
      "cell_type": "code",
      "metadata": {
        "id": "XJHQihfUP0Li",
        "colab": {
          "base_uri": "https://localhost:8080/"
        },
        "outputId": "8e72c181-1860-4cf1-fec3-00c52b5204cc"
      },
      "source": [
        "df[df['default'] == 1].shape"
      ],
      "execution_count": null,
      "outputs": [
        {
          "output_type": "execute_result",
          "data": {
            "text/plain": [
              "(1113, 16)"
            ]
          },
          "metadata": {},
          "execution_count": 29
        }
      ]
    },
    {
      "cell_type": "code",
      "metadata": {
        "id": "IGFZmtReP0Lk"
      },
      "source": [
        "qtd_total_novo, _ = df.shape\n",
        "qtd_adimplentes_novo, _ = df[df['default'] == 0].shape\n",
        "qtd_inadimplentes_novo, _ = df[df['default'] == 1].shape"
      ],
      "execution_count": null,
      "outputs": []
    },
    {
      "cell_type": "code",
      "metadata": {
        "id": "BU35ZXaKP_6h",
        "colab": {
          "base_uri": "https://localhost:8080/"
        },
        "outputId": "be94e2cb-d7a3-4710-aa46-d3de27f33eb9"
      },
      "source": [
        "print(f\"A proporcão adimplentes ativos é de {round(100 * qtd_adimplentes / qtd_total, 2)}%\")\n",
        "print(f\"A nova proporcão de clientes adimplentes é de {round(100 * qtd_adimplentes_novo / qtd_total_novo, 2)}%\")\n",
        "print(\"\")\n",
        "print(f\"A proporcão clientes inadimplentes é de {round(100 * qtd_inadimplentes / qtd_total, 2)}%\")\n",
        "print(f\"A nova proporcão de clientes inadimplentes é de {round(100 * qtd_inadimplentes_novo / qtd_total_novo, 2)}%\")"
      ],
      "execution_count": null,
      "outputs": [
        {
          "output_type": "stream",
          "name": "stdout",
          "text": [
            "A proporcão adimplentes ativos é de 83.93%\n",
            "A nova proporcão de clientes adimplentes é de 84.28%\n",
            "\n",
            "A proporcão clientes inadimplentes é de 16.07%\n",
            "A nova proporcão de clientes inadimplentes é de 15.72%\n"
          ]
        }
      ]
    },
    {
      "cell_type": "markdown",
      "metadata": {
        "id": "iJTgUJqpPKJ3"
      },
      "source": [
        "## 4\\. Visualização de dados"
      ]
    },
    {
      "cell_type": "markdown",
      "metadata": {
        "id": "sJpXNT77pPig"
      },
      "source": [
        "Os dados estão prontos, vamos criar diversas visualizações para correlacionar variáveis explicativas com a variável resposta para buscar entender qual fator leva um cliente a inadimplencia. E para isso, vamos sempre comparar a base com todos os clientes com a base de adimplentes e inadimplentes."
      ]
    },
    {
      "cell_type": "markdown",
      "metadata": {
        "id": "36p-sjU3qPnG"
      },
      "source": [
        "Começamos então importando os pacotes de visualização e separando os clientes adimplentes e inadimplentes"
      ]
    },
    {
      "cell_type": "code",
      "metadata": {
        "id": "NkN4P1tGSlFI"
      },
      "source": [
        "import seaborn as sns\n",
        "import matplotlib.pyplot as plt\n",
        "\n",
        "sns.set_style(\"whitegrid\")"
      ],
      "execution_count": null,
      "outputs": []
    },
    {
      "cell_type": "code",
      "metadata": {
        "id": "duYfStSTSs4f"
      },
      "source": [
        "df_adimplente = df[df['default'] == 0]"
      ],
      "execution_count": null,
      "outputs": []
    },
    {
      "cell_type": "code",
      "metadata": {
        "id": "ldEBuNiiSxVE"
      },
      "source": [
        "df_inadimplente = df[df['default'] == 1]"
      ],
      "execution_count": null,
      "outputs": []
    },
    {
      "cell_type": "markdown",
      "metadata": {
        "id": "u9kFH-ADSEVO"
      },
      "source": [
        "### **4.1. Visualizações categóricas**"
      ]
    },
    {
      "cell_type": "markdown",
      "metadata": {
        "id": "AAKovEBSqSVu"
      },
      "source": [
        "Nesta seção, vamos visualizar a relação entre a variável resposta **default** com os atributos categóricos."
      ]
    },
    {
      "cell_type": "code",
      "metadata": {
        "id": "O2bBTZ2PS85K",
        "colab": {
          "base_uri": "https://localhost:8080/",
          "height": 206
        },
        "outputId": "5be764f7-756f-4a04-8213-3684c7028e6e"
      },
      "source": [
        "df.select_dtypes('object').head(n=5)"
      ],
      "execution_count": null,
      "outputs": [
        {
          "output_type": "execute_result",
          "data": {
            "text/plain": [
              "  sexo         escolaridade estado_civil   salario_anual tipo_cartao\n",
              "0    M         ensino medio       casado     $60K - $80K        blue\n",
              "1    F             mestrado     solteiro  menos que $40K        blue\n",
              "2    M             mestrado       casado    $80K - $120K        blue\n",
              "4    M  sem educacao formal       casado     $60K - $80K        blue\n",
              "5    M             mestrado       casado     $40K - $60K        blue"
            ],
            "text/html": [
              "\n",
              "  <div id=\"df-9ba00c85-b11d-4fea-ae01-759d0a350cbb\" class=\"colab-df-container\">\n",
              "    <div>\n",
              "<style scoped>\n",
              "    .dataframe tbody tr th:only-of-type {\n",
              "        vertical-align: middle;\n",
              "    }\n",
              "\n",
              "    .dataframe tbody tr th {\n",
              "        vertical-align: top;\n",
              "    }\n",
              "\n",
              "    .dataframe thead th {\n",
              "        text-align: right;\n",
              "    }\n",
              "</style>\n",
              "<table border=\"1\" class=\"dataframe\">\n",
              "  <thead>\n",
              "    <tr style=\"text-align: right;\">\n",
              "      <th></th>\n",
              "      <th>sexo</th>\n",
              "      <th>escolaridade</th>\n",
              "      <th>estado_civil</th>\n",
              "      <th>salario_anual</th>\n",
              "      <th>tipo_cartao</th>\n",
              "    </tr>\n",
              "  </thead>\n",
              "  <tbody>\n",
              "    <tr>\n",
              "      <th>0</th>\n",
              "      <td>M</td>\n",
              "      <td>ensino medio</td>\n",
              "      <td>casado</td>\n",
              "      <td>$60K - $80K</td>\n",
              "      <td>blue</td>\n",
              "    </tr>\n",
              "    <tr>\n",
              "      <th>1</th>\n",
              "      <td>F</td>\n",
              "      <td>mestrado</td>\n",
              "      <td>solteiro</td>\n",
              "      <td>menos que $40K</td>\n",
              "      <td>blue</td>\n",
              "    </tr>\n",
              "    <tr>\n",
              "      <th>2</th>\n",
              "      <td>M</td>\n",
              "      <td>mestrado</td>\n",
              "      <td>casado</td>\n",
              "      <td>$80K - $120K</td>\n",
              "      <td>blue</td>\n",
              "    </tr>\n",
              "    <tr>\n",
              "      <th>4</th>\n",
              "      <td>M</td>\n",
              "      <td>sem educacao formal</td>\n",
              "      <td>casado</td>\n",
              "      <td>$60K - $80K</td>\n",
              "      <td>blue</td>\n",
              "    </tr>\n",
              "    <tr>\n",
              "      <th>5</th>\n",
              "      <td>M</td>\n",
              "      <td>mestrado</td>\n",
              "      <td>casado</td>\n",
              "      <td>$40K - $60K</td>\n",
              "      <td>blue</td>\n",
              "    </tr>\n",
              "  </tbody>\n",
              "</table>\n",
              "</div>\n",
              "    <div class=\"colab-df-buttons\">\n",
              "\n",
              "  <div class=\"colab-df-container\">\n",
              "    <button class=\"colab-df-convert\" onclick=\"convertToInteractive('df-9ba00c85-b11d-4fea-ae01-759d0a350cbb')\"\n",
              "            title=\"Convert this dataframe to an interactive table.\"\n",
              "            style=\"display:none;\">\n",
              "\n",
              "  <svg xmlns=\"http://www.w3.org/2000/svg\" height=\"24px\" viewBox=\"0 -960 960 960\">\n",
              "    <path d=\"M120-120v-720h720v720H120Zm60-500h600v-160H180v160Zm220 220h160v-160H400v160Zm0 220h160v-160H400v160ZM180-400h160v-160H180v160Zm440 0h160v-160H620v160ZM180-180h160v-160H180v160Zm440 0h160v-160H620v160Z\"/>\n",
              "  </svg>\n",
              "    </button>\n",
              "\n",
              "  <style>\n",
              "    .colab-df-container {\n",
              "      display:flex;\n",
              "      gap: 12px;\n",
              "    }\n",
              "\n",
              "    .colab-df-convert {\n",
              "      background-color: #E8F0FE;\n",
              "      border: none;\n",
              "      border-radius: 50%;\n",
              "      cursor: pointer;\n",
              "      display: none;\n",
              "      fill: #1967D2;\n",
              "      height: 32px;\n",
              "      padding: 0 0 0 0;\n",
              "      width: 32px;\n",
              "    }\n",
              "\n",
              "    .colab-df-convert:hover {\n",
              "      background-color: #E2EBFA;\n",
              "      box-shadow: 0px 1px 2px rgba(60, 64, 67, 0.3), 0px 1px 3px 1px rgba(60, 64, 67, 0.15);\n",
              "      fill: #174EA6;\n",
              "    }\n",
              "\n",
              "    .colab-df-buttons div {\n",
              "      margin-bottom: 4px;\n",
              "    }\n",
              "\n",
              "    [theme=dark] .colab-df-convert {\n",
              "      background-color: #3B4455;\n",
              "      fill: #D2E3FC;\n",
              "    }\n",
              "\n",
              "    [theme=dark] .colab-df-convert:hover {\n",
              "      background-color: #434B5C;\n",
              "      box-shadow: 0px 1px 3px 1px rgba(0, 0, 0, 0.15);\n",
              "      filter: drop-shadow(0px 1px 2px rgba(0, 0, 0, 0.3));\n",
              "      fill: #FFFFFF;\n",
              "    }\n",
              "  </style>\n",
              "\n",
              "    <script>\n",
              "      const buttonEl =\n",
              "        document.querySelector('#df-9ba00c85-b11d-4fea-ae01-759d0a350cbb button.colab-df-convert');\n",
              "      buttonEl.style.display =\n",
              "        google.colab.kernel.accessAllowed ? 'block' : 'none';\n",
              "\n",
              "      async function convertToInteractive(key) {\n",
              "        const element = document.querySelector('#df-9ba00c85-b11d-4fea-ae01-759d0a350cbb');\n",
              "        const dataTable =\n",
              "          await google.colab.kernel.invokeFunction('convertToInteractive',\n",
              "                                                    [key], {});\n",
              "        if (!dataTable) return;\n",
              "\n",
              "        const docLinkHtml = 'Like what you see? Visit the ' +\n",
              "          '<a target=\"_blank\" href=https://colab.research.google.com/notebooks/data_table.ipynb>data table notebook</a>'\n",
              "          + ' to learn more about interactive tables.';\n",
              "        element.innerHTML = '';\n",
              "        dataTable['output_type'] = 'display_data';\n",
              "        await google.colab.output.renderOutput(dataTable, element);\n",
              "        const docLink = document.createElement('div');\n",
              "        docLink.innerHTML = docLinkHtml;\n",
              "        element.appendChild(docLink);\n",
              "      }\n",
              "    </script>\n",
              "  </div>\n",
              "\n",
              "\n",
              "<div id=\"df-7b826058-d386-4de4-9566-32e4cba351f1\">\n",
              "  <button class=\"colab-df-quickchart\" onclick=\"quickchart('df-7b826058-d386-4de4-9566-32e4cba351f1')\"\n",
              "            title=\"Suggest charts.\"\n",
              "            style=\"display:none;\">\n",
              "\n",
              "<svg xmlns=\"http://www.w3.org/2000/svg\" height=\"24px\"viewBox=\"0 0 24 24\"\n",
              "     width=\"24px\">\n",
              "    <g>\n",
              "        <path d=\"M19 3H5c-1.1 0-2 .9-2 2v14c0 1.1.9 2 2 2h14c1.1 0 2-.9 2-2V5c0-1.1-.9-2-2-2zM9 17H7v-7h2v7zm4 0h-2V7h2v10zm4 0h-2v-4h2v4z\"/>\n",
              "    </g>\n",
              "</svg>\n",
              "  </button>\n",
              "\n",
              "<style>\n",
              "  .colab-df-quickchart {\n",
              "      --bg-color: #E8F0FE;\n",
              "      --fill-color: #1967D2;\n",
              "      --hover-bg-color: #E2EBFA;\n",
              "      --hover-fill-color: #174EA6;\n",
              "      --disabled-fill-color: #AAA;\n",
              "      --disabled-bg-color: #DDD;\n",
              "  }\n",
              "\n",
              "  [theme=dark] .colab-df-quickchart {\n",
              "      --bg-color: #3B4455;\n",
              "      --fill-color: #D2E3FC;\n",
              "      --hover-bg-color: #434B5C;\n",
              "      --hover-fill-color: #FFFFFF;\n",
              "      --disabled-bg-color: #3B4455;\n",
              "      --disabled-fill-color: #666;\n",
              "  }\n",
              "\n",
              "  .colab-df-quickchart {\n",
              "    background-color: var(--bg-color);\n",
              "    border: none;\n",
              "    border-radius: 50%;\n",
              "    cursor: pointer;\n",
              "    display: none;\n",
              "    fill: var(--fill-color);\n",
              "    height: 32px;\n",
              "    padding: 0;\n",
              "    width: 32px;\n",
              "  }\n",
              "\n",
              "  .colab-df-quickchart:hover {\n",
              "    background-color: var(--hover-bg-color);\n",
              "    box-shadow: 0 1px 2px rgba(60, 64, 67, 0.3), 0 1px 3px 1px rgba(60, 64, 67, 0.15);\n",
              "    fill: var(--button-hover-fill-color);\n",
              "  }\n",
              "\n",
              "  .colab-df-quickchart-complete:disabled,\n",
              "  .colab-df-quickchart-complete:disabled:hover {\n",
              "    background-color: var(--disabled-bg-color);\n",
              "    fill: var(--disabled-fill-color);\n",
              "    box-shadow: none;\n",
              "  }\n",
              "\n",
              "  .colab-df-spinner {\n",
              "    border: 2px solid var(--fill-color);\n",
              "    border-color: transparent;\n",
              "    border-bottom-color: var(--fill-color);\n",
              "    animation:\n",
              "      spin 1s steps(1) infinite;\n",
              "  }\n",
              "\n",
              "  @keyframes spin {\n",
              "    0% {\n",
              "      border-color: transparent;\n",
              "      border-bottom-color: var(--fill-color);\n",
              "      border-left-color: var(--fill-color);\n",
              "    }\n",
              "    20% {\n",
              "      border-color: transparent;\n",
              "      border-left-color: var(--fill-color);\n",
              "      border-top-color: var(--fill-color);\n",
              "    }\n",
              "    30% {\n",
              "      border-color: transparent;\n",
              "      border-left-color: var(--fill-color);\n",
              "      border-top-color: var(--fill-color);\n",
              "      border-right-color: var(--fill-color);\n",
              "    }\n",
              "    40% {\n",
              "      border-color: transparent;\n",
              "      border-right-color: var(--fill-color);\n",
              "      border-top-color: var(--fill-color);\n",
              "    }\n",
              "    60% {\n",
              "      border-color: transparent;\n",
              "      border-right-color: var(--fill-color);\n",
              "    }\n",
              "    80% {\n",
              "      border-color: transparent;\n",
              "      border-right-color: var(--fill-color);\n",
              "      border-bottom-color: var(--fill-color);\n",
              "    }\n",
              "    90% {\n",
              "      border-color: transparent;\n",
              "      border-bottom-color: var(--fill-color);\n",
              "    }\n",
              "  }\n",
              "</style>\n",
              "\n",
              "  <script>\n",
              "    async function quickchart(key) {\n",
              "      const quickchartButtonEl =\n",
              "        document.querySelector('#' + key + ' button');\n",
              "      quickchartButtonEl.disabled = true;  // To prevent multiple clicks.\n",
              "      quickchartButtonEl.classList.add('colab-df-spinner');\n",
              "      try {\n",
              "        const charts = await google.colab.kernel.invokeFunction(\n",
              "            'suggestCharts', [key], {});\n",
              "      } catch (error) {\n",
              "        console.error('Error during call to suggestCharts:', error);\n",
              "      }\n",
              "      quickchartButtonEl.classList.remove('colab-df-spinner');\n",
              "      quickchartButtonEl.classList.add('colab-df-quickchart-complete');\n",
              "    }\n",
              "    (() => {\n",
              "      let quickchartButtonEl =\n",
              "        document.querySelector('#df-7b826058-d386-4de4-9566-32e4cba351f1 button');\n",
              "      quickchartButtonEl.style.display =\n",
              "        google.colab.kernel.accessAllowed ? 'block' : 'none';\n",
              "    })();\n",
              "  </script>\n",
              "</div>\n",
              "    </div>\n",
              "  </div>\n"
            ]
          },
          "metadata": {},
          "execution_count": 35
        }
      ]
    },
    {
      "cell_type": "markdown",
      "metadata": {
        "id": "v0oeXqxsTO2o"
      },
      "source": [
        " - Escolaridade"
      ]
    },
    {
      "cell_type": "code",
      "metadata": {
        "id": "oJ9rNBPuTT5i",
        "colab": {
          "base_uri": "https://localhost:8080/",
          "height": 436
        },
        "outputId": "1fce4b83-4b27-438f-e950-3a4cb4ea4c10"
      },
      "source": [
        "fig, axs = plt.subplots(1, 3, figsize=(20, 5), sharey=True)\n",
        "\n",
        "axs[0].hist(df['escolaridade'])\n",
        "\n",
        "axs[1].hist(df_adimplente['escolaridade'])\n",
        "\n",
        "axs[2].hist(df_inadimplente['escolaridade'])\n",
        "\n",
        "fig.supxlabel('Valor')\n",
        "fig.supylabel('Frequência')\n",
        "fig.suptitle('Escolaridade: Todos, Adimplentes e Inadimplentes')"
      ],
      "execution_count": null,
      "outputs": [
        {
          "output_type": "execute_result",
          "data": {
            "text/plain": [
              "Text(0.5, 0.98, 'Escolaridade: Todos, Adimplentes e Inadimplentes')"
            ]
          },
          "metadata": {},
          "execution_count": 36
        },
        {
          "output_type": "display_data",
          "data": {
            "text/plain": [
              "<Figure size 2000x500 with 3 Axes>"
            ],
            "image/png": "[encoded data removed]"
          },
          "metadata": {}
        }
      ]
    },
    {
      "cell_type": "markdown",
      "metadata": {
        "id": "0h1s5odlgHbY"
      },
      "source": [
        " - Salário Anual"
      ]
    },
    {
      "cell_type": "code",
      "metadata": {
        "id": "7Lf-X12wgLvJ",
        "colab": {
          "base_uri": "https://localhost:8080/",
          "height": 436
        },
        "outputId": "bf9c0c6f-3b45-4325-9757-cb54e359b7b2"
      },
      "source": [
        "fig, axs = plt.subplots(1, 3, figsize=(20, 5), sharey=True)\n",
        "\n",
        "axs[0].hist(df['salario_anual'])\n",
        "\n",
        "axs[1].hist(df_adimplente['salario_anual'])\n",
        "\n",
        "axs[2].hist(df_inadimplente['salario_anual'])\n",
        "\n",
        "fig.supxlabel('Valor')\n",
        "fig.supylabel('Frequência')\n",
        "fig.suptitle('Salario Anual: Todos, Adimplentes e Inadimplentes')"
      ],
      "execution_count": null,
      "outputs": [
        {
          "output_type": "execute_result",
          "data": {
            "text/plain": [
              "Text(0.5, 0.98, 'Salario Anual: Todos, Adimplentes e Inadimplentes')"
            ]
          },
          "metadata": {},
          "execution_count": 39
        },
        {
          "output_type": "display_data",
          "data": {
            "text/plain": [
              "<Figure size 2000x500 with 3 Axes>"
            ],
            "image/png": "[encoded data removed]"
          },
          "metadata": {}
        }
      ]
    },
    {
      "cell_type": "markdown",
      "source": [
        " - Sexo"
      ],
      "metadata": {
        "id": "taMHRE3go-jI"
      }
    },
    {
      "cell_type": "code",
      "source": [
        "fig, axs = plt.subplots(1, 3, figsize=(20, 5), sharey=True)\n",
        "\n",
        "axs[0].hist(df['sexo'])\n",
        "\n",
        "axs[1].hist(df_adimplente['sexo'])\n",
        "\n",
        "axs[2].hist(df_inadimplente['sexo'])\n",
        "\n",
        "fig.supxlabel('Valor')\n",
        "fig.supylabel('Frequência')\n",
        "fig.suptitle('Sexo: Todos, Adimplentes e Inadimplentes')"
      ],
      "metadata": {
        "colab": {
          "base_uri": "https://localhost:8080/",
          "height": 439
        },
        "id": "dGmbr-eApFcw",
        "outputId": "c5cc3b68-a0b5-47c8-e0bb-188df2eeec56"
      },
      "execution_count": null,
      "outputs": [
        {
          "output_type": "execute_result",
          "data": {
            "text/plain": [
              "Text(0.5, 0.98, 'Sexo: Todos, Adimplentes e Inadimplentes')"
            ]
          },
          "metadata": {},
          "execution_count": 40
        },
        {
          "output_type": "display_data",
          "data": {
            "text/plain": [
              "<Figure size 2000x500 with 3 Axes>"
            ],
            "image/png": "[encoded data removed]"
          },
          "metadata": {}
        }
      ]
    },
    {
      "cell_type": "markdown",
      "source": [
        " - Estado Civil"
      ],
      "metadata": {
        "id": "5Ni05C-8p3_i"
      }
    },
    {
      "cell_type": "code",
      "source": [
        "fig, axs = plt.subplots(1, 3, figsize=(20, 5), sharey=True)\n",
        "\n",
        "axs[0].hist(df['estado_civil'])\n",
        "\n",
        "axs[1].hist(df_adimplente['estado_civil'])\n",
        "\n",
        "axs[2].hist(df_inadimplente['estado_civil'])\n",
        "\n",
        "fig.supxlabel('Valor')\n",
        "fig.supylabel('Frequência')\n",
        "fig.suptitle('Estado Civil: Todos, Adimplentes e Inadimplentes')"
      ],
      "metadata": {
        "colab": {
          "base_uri": "https://localhost:8080/",
          "height": 436
        },
        "id": "_-Pq-bFpp9o0",
        "outputId": "443e59a5-4bed-4578-fad8-0969a107645b"
      },
      "execution_count": null,
      "outputs": [
        {
          "output_type": "execute_result",
          "data": {
            "text/plain": [
              "Text(0.5, 0.98, 'Estado Civil: Todos, Adimplentes e Inadimplentes')"
            ]
          },
          "metadata": {},
          "execution_count": 42
        },
        {
          "output_type": "display_data",
          "data": {
            "text/plain": [
              "<Figure size 2000x500 with 3 Axes>"
            ],
            "image/png": "[encoded data removed]"
          },
          "metadata": {}
        }
      ]
    },
    {
      "cell_type": "markdown",
      "source": [
        " - Tipo de Cartão"
      ],
      "metadata": {
        "id": "pSXCOObxro_U"
      }
    },
    {
      "cell_type": "code",
      "source": [
        "fig, axs = plt.subplots(1, 3, figsize=(20, 5), sharey=True)\n",
        "\n",
        "axs[0].hist(df['tipo_cartao'])\n",
        "\n",
        "axs[1].hist(df_adimplente['tipo_cartao'])\n",
        "\n",
        "axs[2].hist(df_inadimplente['tipo_cartao'])\n",
        "\n",
        "fig.supxlabel('Valor')\n",
        "fig.supylabel('Frequência')\n",
        "fig.suptitle('Tipo de Cartão: Todos, Adimplentes e Inadimplentes')"
      ],
      "metadata": {
        "colab": {
          "base_uri": "https://localhost:8080/",
          "height": 439
        },
        "id": "ZD2hFnyQruFJ",
        "outputId": "4bb19361-bfe4-414f-fa20-dad6780d5359"
      },
      "execution_count": null,
      "outputs": [
        {
          "output_type": "execute_result",
          "data": {
            "text/plain": [
              "Text(0.5, 0.98, 'Tipo de Cartão: Todos, Adimplentes e Inadimplentes')"
            ]
          },
          "metadata": {},
          "execution_count": 44
        },
        {
          "output_type": "display_data",
          "data": {
            "text/plain": [
              "<Figure size 2000x500 with 3 Axes>"
            ],
            "image/png": "[encoded data removed]"
          },
          "metadata": {}
        }
      ]
    },
    {
      "cell_type": "markdown",
      "metadata": {
        "id": "cBIWU4zISIqR"
      },
      "source": [
        "### **4.2. Visualizações numéricas**"
      ]
    },
    {
      "cell_type": "markdown",
      "metadata": {
        "id": "DWKf-t4iqpFK"
      },
      "source": [
        "Nesta seção, vamos visualizar a relação entre a variável resposta **default** com os atributos numéricos."
      ]
    },
    {
      "cell_type": "code",
      "metadata": {
        "id": "NEEhLdj0qoUd",
        "colab": {
          "base_uri": "https://localhost:8080/",
          "height": 206
        },
        "outputId": "4b971a48-2e5d-4144-c0ce-bb2d1cf287d0"
      },
      "source": [
        "df.drop(['id', 'default'], axis=1).select_dtypes('number').head(n=5)"
      ],
      "execution_count": null,
      "outputs": [
        {
          "output_type": "execute_result",
          "data": {
            "text/plain": [
              "   idade  dependentes  meses_de_relacionamento  qtd_produtos  iteracoes_12m  \\\n",
              "0     45            3                       39             5              3   \n",
              "1     49            5                       44             6              2   \n",
              "2     51            3                       36             4              0   \n",
              "4     40            3                       21             5              0   \n",
              "5     44            2                       36             3              2   \n",
              "\n",
              "   meses_inativo_12m  limite_credito  valor_transacoes_12m  qtd_transacoes_12m  \n",
              "0                  1        12691.51               1144.90                  42  \n",
              "1                  1         8256.96               1291.45                  33  \n",
              "2                  1         3418.56               1887.72                  20  \n",
              "4                  1         4716.22                816.08                  28  \n",
              "5                  1         4010.69               1088.07                  24  "
            ],
            "text/html": [
              "\n",
              "  <div id=\"df-6827cf4b-746c-4c77-86b1-3bde05bc674a\" class=\"colab-df-container\">\n",
              "    <div>\n",
              "<style scoped>\n",
              "    .dataframe tbody tr th:only-of-type {\n",
              "        vertical-align: middle;\n",
              "    }\n",
              "\n",
              "    .dataframe tbody tr th {\n",
              "        vertical-align: top;\n",
              "    }\n",
              "\n",
              "    .dataframe thead th {\n",
              "        text-align: right;\n",
              "    }\n",
              "</style>\n",
              "<table border=\"1\" class=\"dataframe\">\n",
              "  <thead>\n",
              "    <tr style=\"text-align: right;\">\n",
              "      <th></th>\n",
              "      <th>idade</th>\n",
              "      <th>dependentes</th>\n",
              "      <th>meses_de_relacionamento</th>\n",
              "      <th>qtd_produtos</th>\n",
              "      <th>iteracoes_12m</th>\n",
              "      <th>meses_inativo_12m</th>\n",
              "      <th>limite_credito</th>\n",
              "      <th>valor_transacoes_12m</th>\n",
              "      <th>qtd_transacoes_12m</th>\n",
              "    </tr>\n",
              "  </thead>\n",
              "  <tbody>\n",
              "    <tr>\n",
              "      <th>0</th>\n",
              "      <td>45</td>\n",
              "      <td>3</td>\n",
              "      <td>39</td>\n",
              "      <td>5</td>\n",
              "      <td>3</td>\n",
              "      <td>1</td>\n",
              "      <td>12691.51</td>\n",
              "      <td>1144.90</td>\n",
              "      <td>42</td>\n",
              "    </tr>\n",
              "    <tr>\n",
              "      <th>1</th>\n",
              "      <td>49</td>\n",
              "      <td>5</td>\n",
              "      <td>44</td>\n",
              "      <td>6</td>\n",
              "      <td>2</td>\n",
              "      <td>1</td>\n",
              "      <td>8256.96</td>\n",
              "      <td>1291.45</td>\n",
              "      <td>33</td>\n",
              "    </tr>\n",
              "    <tr>\n",
              "      <th>2</th>\n",
              "      <td>51</td>\n",
              "      <td>3</td>\n",
              "      <td>36</td>\n",
              "      <td>4</td>\n",
              "      <td>0</td>\n",
              "      <td>1</td>\n",
              "      <td>3418.56</td>\n",
              "      <td>1887.72</td>\n",
              "      <td>20</td>\n",
              "    </tr>\n",
              "    <tr>\n",
              "      <th>4</th>\n",
              "      <td>40</td>\n",
              "      <td>3</td>\n",
              "      <td>21</td>\n",
              "      <td>5</td>\n",
              "      <td>0</td>\n",
              "      <td>1</td>\n",
              "      <td>4716.22</td>\n",
              "      <td>816.08</td>\n",
              "      <td>28</td>\n",
              "    </tr>\n",
              "    <tr>\n",
              "      <th>5</th>\n",
              "      <td>44</td>\n",
              "      <td>2</td>\n",
              "      <td>36</td>\n",
              "      <td>3</td>\n",
              "      <td>2</td>\n",
              "      <td>1</td>\n",
              "      <td>4010.69</td>\n",
              "      <td>1088.07</td>\n",
              "      <td>24</td>\n",
              "    </tr>\n",
              "  </tbody>\n",
              "</table>\n",
              "</div>\n",
              "    <div class=\"colab-df-buttons\">\n",
              "\n",
              "  <div class=\"colab-df-container\">\n",
              "    <button class=\"colab-df-convert\" onclick=\"convertToInteractive('df-6827cf4b-746c-4c77-86b1-3bde05bc674a')\"\n",
              "            title=\"Convert this dataframe to an interactive table.\"\n",
              "            style=\"display:none;\">\n",
              "\n",
              "  <svg xmlns=\"http://www.w3.org/2000/svg\" height=\"24px\" viewBox=\"0 -960 960 960\">\n",
              "    <path d=\"M120-120v-720h720v720H120Zm60-500h600v-160H180v160Zm220 220h160v-160H400v160Zm0 220h160v-160H400v160ZM180-400h160v-160H180v160Zm440 0h160v-160H620v160ZM180-180h160v-160H180v160Zm440 0h160v-160H620v160Z\"/>\n",
              "  </svg>\n",
              "    </button>\n",
              "\n",
              "  <style>\n",
              "    .colab-df-container {\n",
              "      display:flex;\n",
              "      gap: 12px;\n",
              "    }\n",
              "\n",
              "    .colab-df-convert {\n",
              "      background-color: #E8F0FE;\n",
              "      border: none;\n",
              "      border-radius: 50%;\n",
              "      cursor: pointer;\n",
              "      display: none;\n",
              "      fill: #1967D2;\n",
              "      height: 32px;\n",
              "      padding: 0 0 0 0;\n",
              "      width: 32px;\n",
              "    }\n",
              "\n",
              "    .colab-df-convert:hover {\n",
              "      background-color: #E2EBFA;\n",
              "      box-shadow: 0px 1px 2px rgba(60, 64, 67, 0.3), 0px 1px 3px 1px rgba(60, 64, 67, 0.15);\n",
              "      fill: #174EA6;\n",
              "    }\n",
              "\n",
              "    .colab-df-buttons div {\n",
              "      margin-bottom: 4px;\n",
              "    }\n",
              "\n",
              "    [theme=dark] .colab-df-convert {\n",
              "      background-color: #3B4455;\n",
              "      fill: #D2E3FC;\n",
              "    }\n",
              "\n",
              "    [theme=dark] .colab-df-convert:hover {\n",
              "      background-color: #434B5C;\n",
              "      box-shadow: 0px 1px 3px 1px rgba(0, 0, 0, 0.15);\n",
              "      filter: drop-shadow(0px 1px 2px rgba(0, 0, 0, 0.3));\n",
              "      fill: #FFFFFF;\n",
              "    }\n",
              "  </style>\n",
              "\n",
              "    <script>\n",
              "      const buttonEl =\n",
              "        document.querySelector('#df-6827cf4b-746c-4c77-86b1-3bde05bc674a button.colab-df-convert');\n",
              "      buttonEl.style.display =\n",
              "        google.colab.kernel.accessAllowed ? 'block' : 'none';\n",
              "\n",
              "      async function convertToInteractive(key) {\n",
              "        const element = document.querySelector('#df-6827cf4b-746c-4c77-86b1-3bde05bc674a');\n",
              "        const dataTable =\n",
              "          await google.colab.kernel.invokeFunction('convertToInteractive',\n",
              "                                                    [key], {});\n",
              "        if (!dataTable) return;\n",
              "\n",
              "        const docLinkHtml = 'Like what you see? Visit the ' +\n",
              "          '<a target=\"_blank\" href=https://colab.research.google.com/notebooks/data_table.ipynb>data table notebook</a>'\n",
              "          + ' to learn more about interactive tables.';\n",
              "        element.innerHTML = '';\n",
              "        dataTable['output_type'] = 'display_data';\n",
              "        await google.colab.output.renderOutput(dataTable, element);\n",
              "        const docLink = document.createElement('div');\n",
              "        docLink.innerHTML = docLinkHtml;\n",
              "        element.appendChild(docLink);\n",
              "      }\n",
              "    </script>\n",
              "  </div>\n",
              "\n",
              "\n",
              "<div id=\"df-61f1ee1e-e254-4740-ac97-c46346b41203\">\n",
              "  <button class=\"colab-df-quickchart\" onclick=\"quickchart('df-61f1ee1e-e254-4740-ac97-c46346b41203')\"\n",
              "            title=\"Suggest charts.\"\n",
              "            style=\"display:none;\">\n",
              "\n",
              "<svg xmlns=\"http://www.w3.org/2000/svg\" height=\"24px\"viewBox=\"0 0 24 24\"\n",
              "     width=\"24px\">\n",
              "    <g>\n",
              "        <path d=\"M19 3H5c-1.1 0-2 .9-2 2v14c0 1.1.9 2 2 2h14c1.1 0 2-.9 2-2V5c0-1.1-.9-2-2-2zM9 17H7v-7h2v7zm4 0h-2V7h2v10zm4 0h-2v-4h2v4z\"/>\n",
              "    </g>\n",
              "</svg>\n",
              "  </button>\n",
              "\n",
              "<style>\n",
              "  .colab-df-quickchart {\n",
              "      --bg-color: #E8F0FE;\n",
              "      --fill-color: #1967D2;\n",
              "      --hover-bg-color: #E2EBFA;\n",
              "      --hover-fill-color: #174EA6;\n",
              "      --disabled-fill-color: #AAA;\n",
              "      --disabled-bg-color: #DDD;\n",
              "  }\n",
              "\n",
              "  [theme=dark] .colab-df-quickchart {\n",
              "      --bg-color: #3B4455;\n",
              "      --fill-color: #D2E3FC;\n",
              "      --hover-bg-color: #434B5C;\n",
              "      --hover-fill-color: #FFFFFF;\n",
              "      --disabled-bg-color: #3B4455;\n",
              "      --disabled-fill-color: #666;\n",
              "  }\n",
              "\n",
              "  .colab-df-quickchart {\n",
              "    background-color: var(--bg-color);\n",
              "    border: none;\n",
              "    border-radius: 50%;\n",
              "    cursor: pointer;\n",
              "    display: none;\n",
              "    fill: var(--fill-color);\n",
              "    height: 32px;\n",
              "    padding: 0;\n",
              "    width: 32px;\n",
              "  }\n",
              "\n",
              "  .colab-df-quickchart:hover {\n",
              "    background-color: var(--hover-bg-color);\n",
              "    box-shadow: 0 1px 2px rgba(60, 64, 67, 0.3), 0 1px 3px 1px rgba(60, 64, 67, 0.15);\n",
              "    fill: var(--button-hover-fill-color);\n",
              "  }\n",
              "\n",
              "  .colab-df-quickchart-complete:disabled,\n",
              "  .colab-df-quickchart-complete:disabled:hover {\n",
              "    background-color: var(--disabled-bg-color);\n",
              "    fill: var(--disabled-fill-color);\n",
              "    box-shadow: none;\n",
              "  }\n",
              "\n",
              "  .colab-df-spinner {\n",
              "    border: 2px solid var(--fill-color);\n",
              "    border-color: transparent;\n",
              "    border-bottom-color: var(--fill-color);\n",
              "    animation:\n",
              "      spin 1s steps(1) infinite;\n",
              "  }\n",
              "\n",
              "  @keyframes spin {\n",
              "    0% {\n",
              "      border-color: transparent;\n",
              "      border-bottom-color: var(--fill-color);\n",
              "      border-left-color: var(--fill-color);\n",
              "    }\n",
              "    20% {\n",
              "      border-color: transparent;\n",
              "      border-left-color: var(--fill-color);\n",
              "      border-top-color: var(--fill-color);\n",
              "    }\n",
              "    30% {\n",
              "      border-color: transparent;\n",
              "      border-left-color: var(--fill-color);\n",
              "      border-top-color: var(--fill-color);\n",
              "      border-right-color: var(--fill-color);\n",
              "    }\n",
              "    40% {\n",
              "      border-color: transparent;\n",
              "      border-right-color: var(--fill-color);\n",
              "      border-top-color: var(--fill-color);\n",
              "    }\n",
              "    60% {\n",
              "      border-color: transparent;\n",
              "      border-right-color: var(--fill-color);\n",
              "    }\n",
              "    80% {\n",
              "      border-color: transparent;\n",
              "      border-right-color: var(--fill-color);\n",
              "      border-bottom-color: var(--fill-color);\n",
              "    }\n",
              "    90% {\n",
              "      border-color: transparent;\n",
              "      border-bottom-color: var(--fill-color);\n",
              "    }\n",
              "  }\n",
              "</style>\n",
              "\n",
              "  <script>\n",
              "    async function quickchart(key) {\n",
              "      const quickchartButtonEl =\n",
              "        document.querySelector('#' + key + ' button');\n",
              "      quickchartButtonEl.disabled = true;  // To prevent multiple clicks.\n",
              "      quickchartButtonEl.classList.add('colab-df-spinner');\n",
              "      try {\n",
              "        const charts = await google.colab.kernel.invokeFunction(\n",
              "            'suggestCharts', [key], {});\n",
              "      } catch (error) {\n",
              "        console.error('Error during call to suggestCharts:', error);\n",
              "      }\n",
              "      quickchartButtonEl.classList.remove('colab-df-spinner');\n",
              "      quickchartButtonEl.classList.add('colab-df-quickchart-complete');\n",
              "    }\n",
              "    (() => {\n",
              "      let quickchartButtonEl =\n",
              "        document.querySelector('#df-61f1ee1e-e254-4740-ac97-c46346b41203 button');\n",
              "      quickchartButtonEl.style.display =\n",
              "        google.colab.kernel.accessAllowed ? 'block' : 'none';\n",
              "    })();\n",
              "  </script>\n",
              "</div>\n",
              "    </div>\n",
              "  </div>\n"
            ]
          },
          "metadata": {},
          "execution_count": 45
        }
      ]
    },
    {
      "cell_type": "markdown",
      "metadata": {
        "id": "G7YNmSRQq6fp"
      },
      "source": [
        " - Quantidade de Transações nos Últimos 12 Meses"
      ]
    },
    {
      "cell_type": "code",
      "metadata": {
        "id": "A3O0oQ9sq8XQ",
        "colab": {
          "base_uri": "https://localhost:8080/",
          "height": 429
        },
        "outputId": "822855d4-3921-4bac-897f-45e0b90ee4d9"
      },
      "source": [
        "coluna = 'qtd_transacoes_12m'\n",
        "titulos = ['Qtd. de Transações no Último Ano', 'Qtd. de Transações no Último Ano de Adimplentes', 'Qtd. de Transações no Último Ano de Inadimplentes']\n",
        "\n",
        "eixo = 0\n",
        "max_y = 0\n",
        "figura, eixos = plt.subplots(1,3, figsize=(20, 5), sharex=True)\n",
        "\n",
        "for dataframe in [df, df_adimplente, df_inadimplente]:\n",
        "\n",
        "  f = sns.histplot(x=coluna, data=dataframe, stat='count', ax=eixos[eixo])\n",
        "  f.set(title=titulos[eixo], xlabel=coluna.capitalize(), ylabel='Frequência Absoluta')\n",
        "\n",
        "  _, max_y_f = f.get_ylim()\n",
        "  max_y = max_y_f if max_y_f > max_y else max_y\n",
        "  f.set(ylim=(0, max_y))\n",
        "\n",
        "  eixo += 1\n",
        "\n",
        "figura.show()"
      ],
      "execution_count": null,
      "outputs": [
        {
          "output_type": "display_data",
          "data": {
            "text/plain": [
              "<Figure size 2000x500 with 3 Axes>"
            ],
            "image/png": "[encoded data removed]"
          },
          "metadata": {}
        }
      ]
    },
    {
      "cell_type": "markdown",
      "metadata": {
        "id": "6YqLIvyXtIuN"
      },
      "source": [
        " - Valor das Transações nos Últimos 12 Meses"
      ]
    },
    {
      "cell_type": "code",
      "metadata": {
        "id": "-tHIbYcetH0J",
        "colab": {
          "base_uri": "https://localhost:8080/",
          "height": 432
        },
        "outputId": "d54245b0-9390-4a9a-a7ea-d944f78b4bea"
      },
      "source": [
        "coluna = 'valor_transacoes_12m'\n",
        "titulos = ['Valor das Transações no Último Ano', 'Valor das Transações no Último Ano de Adimplentes', 'Valor das Transações no Último Ano de Inadimplentes']\n",
        "\n",
        "eixo = 0\n",
        "max_y = 0\n",
        "figura, eixos = plt.subplots(1,3, figsize=(20, 5), sharex=True)\n",
        "\n",
        "for dataframe in [df, df_adimplente, df_inadimplente]:\n",
        "\n",
        "  f = sns.histplot(x=coluna, data=dataframe, stat='count', ax=eixos[eixo])\n",
        "  f.set(title=titulos[eixo], xlabel=coluna.capitalize(), ylabel='Frequência Absoluta')\n",
        "\n",
        "  _, max_y_f = f.get_ylim()\n",
        "  max_y = max_y_f if max_y_f > max_y else max_y\n",
        "  f.set(ylim=(0, max_y))\n",
        "\n",
        "  eixo += 1\n",
        "\n",
        "figura.show()"
      ],
      "execution_count": null,
      "outputs": [
        {
          "output_type": "display_data",
          "data": {
            "text/plain": [
              "<Figure size 2000x500 with 3 Axes>"
            ],
            "image/png": "[encoded data removed]"
          },
          "metadata": {}
        }
      ]
    },
    {
      "cell_type": "markdown",
      "source": [
        " - Quantidade de meses de relacionamento"
      ],
      "metadata": {
        "id": "QpdZSQ8cnoKn"
      }
    },
    {
      "cell_type": "code",
      "source": [
        "coluna = 'meses_de_relacionamento'\n",
        "titulos = ['Meses de Relacionamento', 'Meses de Relacionamento de Adimplentes', 'Meses de Relacionamento de Inadimplentes']\n",
        "\n",
        "eixo = 0\n",
        "max_y = 0\n",
        "figura, eixos = plt.subplots(1,3, figsize=(20, 5), sharex=True)\n",
        "\n",
        "for dataframe in [df, df_adimplente, df_inadimplente]:\n",
        "\n",
        "  f = sns.histplot(x=coluna, data=dataframe, stat='count', ax=eixos[eixo])\n",
        "  f.set(title=titulos[eixo], xlabel=coluna.capitalize(), ylabel='Frequência Absoluta')\n",
        "\n",
        "  _, max_y_f = f.get_ylim()\n",
        "  max_y = max_y_f if max_y_f > max_y else max_y\n",
        "  f.set(ylim=(0, max_y))\n",
        "\n",
        "  eixo += 1\n",
        "\n",
        "figura.show()"
      ],
      "metadata": {
        "colab": {
          "base_uri": "https://localhost:8080/",
          "height": 427
        },
        "id": "5Q2Oe5NKnxXA",
        "outputId": "d198348f-2925-4bc5-e2b4-6e45707c678b"
      },
      "execution_count": null,
      "outputs": [
        {
          "output_type": "display_data",
          "data": {
            "text/plain": [
              "<Figure size 2000x500 with 3 Axes>"
            ],
            "image/png": "[encoded data removed]"
          },
          "metadata": {}
        }
      ]
    },
    {
      "cell_type": "markdown",
      "source": [
        " - Quantidade de produtos"
      ],
      "metadata": {
        "id": "CyTl6b0Rj-f8"
      }
    },
    {
      "cell_type": "code",
      "source": [
        "coluna = 'qtd_produtos'\n",
        "titulos = ['Número de Produtos', 'Número de Produtos de Adimplentes', 'Número de Produtos de Inadimplentes']\n",
        "\n",
        "eixo = 0\n",
        "max_y = 0\n",
        "figura, eixos = plt.subplots(1,3, figsize=(20, 5), sharex=True)\n",
        "\n",
        "for dataframe in [df, df_adimplente, df_inadimplente]:\n",
        "\n",
        "  f = sns.histplot(x=coluna, data=dataframe, stat='count', ax=eixos[eixo])\n",
        "  f.set(title=titulos[eixo], xlabel=coluna.capitalize(), ylabel='Frequência Absoluta')\n",
        "\n",
        "  _, max_y_f = f.get_ylim()\n",
        "  max_y = max_y_f if max_y_f > max_y else max_y\n",
        "  f.set(ylim=(0, max_y))\n",
        "\n",
        "  eixo += 1\n",
        "\n",
        "figura.show()"
      ],
      "metadata": {
        "colab": {
          "base_uri": "https://localhost:8080/",
          "height": 428
        },
        "id": "hqapg9o9kJ5b",
        "outputId": "b8b8fbee-b824-4ea6-d945-7f3fdd0f87f7"
      },
      "execution_count": null,
      "outputs": [
        {
          "output_type": "display_data",
          "data": {
            "text/plain": [
              "<Figure size 2000x500 with 3 Axes>"
            ],
            "image/png": "[encoded data removed]"
          },
          "metadata": {}
        }
      ]
    },
    {
      "cell_type": "markdown",
      "source": [
        " - Quantidade de iterações nos últimos 12 meses"
      ],
      "metadata": {
        "id": "KiqmMTWhpm9B"
      }
    },
    {
      "cell_type": "code",
      "source": [
        "coluna = 'iteracoes_12m'\n",
        "titulos = ['Número de Iterações 12m', 'Número de Iterações 12m de Adimplentes', 'Número de Iterações 12m de Inadimplentes']\n",
        "\n",
        "eixo = 0\n",
        "max_y = 0\n",
        "figura, eixos = plt.subplots(1,3, figsize=(20, 5), sharex=True)\n",
        "\n",
        "for dataframe in [df, df_adimplente, df_inadimplente]:\n",
        "\n",
        "  f = sns.histplot(x=coluna, data=dataframe, stat='count', ax=eixos[eixo])\n",
        "  f.set(title=titulos[eixo], xlabel=coluna.capitalize(), ylabel='Frequência Absoluta')\n",
        "\n",
        "  _, max_y_f = f.get_ylim()\n",
        "  max_y = max_y_f if max_y_f > max_y else max_y\n",
        "  f.set(ylim=(0, max_y))\n",
        "\n",
        "  eixo += 1\n",
        "\n",
        "figura.show()"
      ],
      "metadata": {
        "colab": {
          "base_uri": "https://localhost:8080/",
          "height": 428
        },
        "id": "5ZJTpUHBpvyT",
        "outputId": "4024225e-9df9-4e23-cd94-c56263bbabf8"
      },
      "execution_count": null,
      "outputs": [
        {
          "output_type": "display_data",
          "data": {
            "text/plain": [
              "<Figure size 2000x500 with 3 Axes>"
            ],
            "image/png": "[encoded data removed]"
          },
          "metadata": {}
        }
      ]
    },
    {
      "cell_type": "markdown",
      "source": [
        " - Quantidade de meses inativos nos últimos 12 meses"
      ],
      "metadata": {
        "id": "wnP_r7dQ8KBx"
      }
    },
    {
      "cell_type": "code",
      "source": [
        "coluna = 'meses_inativo_12m'\n",
        "titulos = ['Meses inativo 12m', 'Meses inativo 12m de Adimplentes', 'Meses inativo 12m de Inadimplentes']\n",
        "\n",
        "eixo = 0\n",
        "max_y = 0\n",
        "figura, eixos = plt.subplots(1,3, figsize=(20, 5), sharex=True)\n",
        "\n",
        "for dataframe in [df, df_adimplente, df_inadimplente]:\n",
        "\n",
        "  f = sns.histplot(x=coluna, data=dataframe, stat='count', ax=eixos[eixo])\n",
        "  f.set(title=titulos[eixo], xlabel=coluna.capitalize(), ylabel='Frequência Absoluta')\n",
        "\n",
        "  _, max_y_f = f.get_ylim()\n",
        "  max_y = max_y_f if max_y_f > max_y else max_y\n",
        "  f.set(ylim=(0, max_y))\n",
        "\n",
        "  eixo += 1\n",
        "\n",
        "figura.show()"
      ],
      "metadata": {
        "colab": {
          "base_uri": "https://localhost:8080/",
          "height": 427
        },
        "id": "ViJXlQ2P8Qhf",
        "outputId": "9cced212-6bc1-4bf7-eaa4-572cd92db18d"
      },
      "execution_count": null,
      "outputs": [
        {
          "output_type": "display_data",
          "data": {
            "text/plain": [
              "<Figure size 2000x500 with 3 Axes>"
            ],
            "image/png": "[encoded data removed]"
          },
          "metadata": {}
        }
      ]
    },
    {
      "cell_type": "markdown",
      "source": [
        " - Valor do Limite do cartão de crédio"
      ],
      "metadata": {
        "id": "558IieYV4bj4"
      }
    },
    {
      "cell_type": "code",
      "source": [
        "coluna = 'limite_credito'\n",
        "titulos = ['Limite de Crédito', 'Limite de Crédito de Adimplentes', 'Limite de Crédito de Inadimplentes']\n",
        "\n",
        "eixo = 0\n",
        "max_y = 0\n",
        "figura, eixos = plt.subplots(1,3, figsize=(20, 5), sharex=True)\n",
        "\n",
        "for dataframe in [df, df_adimplente, df_inadimplente]:\n",
        "\n",
        "  f = sns.histplot(x=coluna, data=dataframe, stat='count', ax=eixos[eixo])\n",
        "  f.set(title=titulos[eixo], xlabel=coluna.capitalize(), ylabel='Frequência Absoluta')\n",
        "\n",
        "  _, max_y_f = f.get_ylim()\n",
        "  max_y = max_y_f if max_y_f > max_y else max_y\n",
        "  f.set(ylim=(0, max_y))\n",
        "\n",
        "  eixo += 1\n",
        "\n",
        "figura.show()"
      ],
      "metadata": {
        "colab": {
          "base_uri": "https://localhost:8080/",
          "height": 426
        },
        "id": "chrV3FAX4lyu",
        "outputId": "52266e48-e1aa-44e1-e5d7-55f56664906c"
      },
      "execution_count": null,
      "outputs": [
        {
          "output_type": "display_data",
          "data": {
            "text/plain": [
              "<Figure size 2000x500 with 3 Axes>"
            ],
            "image/png": "[encoded data removed]"
          },
          "metadata": {}
        }
      ]
    },
    {
      "cell_type": "markdown",
      "metadata": {
        "id": "10ud8vxqzqjI"
      },
      "source": [
        " - Valor de Transações nos Últimos 12 Meses x Quantidade de Transações nos Últimos 12 Meses"
      ]
    },
    {
      "cell_type": "code",
      "metadata": {
        "id": "SjqqF940x-lL",
        "colab": {
          "base_uri": "https://localhost:8080/",
          "height": 529
        },
        "outputId": "984a67a5-394c-491c-867f-ab1d53f7fcd5"
      },
      "source": [
        "f = sns.relplot(x='valor_transacoes_12m', y='qtd_transacoes_12m', data=df, hue='default')\n",
        "_ = f.set(\n",
        "    title='Relação entre Valor e Quantidade de Transações no Último Ano',\n",
        "    xlabel='Valor das Transações no Último Ano',\n",
        "    ylabel='Quantidade das Transações no Último Ano'\n",
        "  )"
      ],
      "execution_count": null,
      "outputs": [
        {
          "output_type": "display_data",
          "data": {
            "text/plain": [
              "<Figure size 560.236x500 with 1 Axes>"
            ],
            "image/png": "[encoded data removed]"
          },
          "metadata": {}
        }
      ]
    },
    {
      "cell_type": "markdown",
      "source": [
        " - Valor de Transações nos Últimos 12 Meses x Limite de Crédito"
      ],
      "metadata": {
        "id": "4mnfv4-70nrS"
      }
    },
    {
      "cell_type": "code",
      "source": [
        "f = sns.relplot(x='iteracoes_12m', y='meses_inativo_12m', data=df, hue='default')\n",
        "_ = f.set(\n",
        "    title='Relação entre Iterações e Meses inativo',\n",
        "    xlabel='Quantidade de iterações 12m',\n",
        "    ylabel='Quantidade de meses inativo'\n",
        "  )"
      ],
      "metadata": {
        "id": "f1ZIZIzj0_dW",
        "colab": {
          "base_uri": "https://localhost:8080/",
          "height": 529
        },
        "outputId": "ade7a8a8-980e-42ee-fe4b-eab00065c744"
      },
      "execution_count": null,
      "outputs": [
        {
          "output_type": "display_data",
          "data": {
            "text/plain": [
              "<Figure size 560.236x500 with 1 Axes>"
            ],
            "image/png": "[encoded data removed]"
          },
          "metadata": {}
        }
      ]
    },
    {
      "cell_type": "markdown",
      "source": [
        " - Estado Civil x Sexo"
      ],
      "metadata": {
        "id": "b-B-KjJZVkFR"
      }
    },
    {
      "cell_type": "code",
      "source": [
        "f = sns.relplot(x='estado_civil', y='sexo', data=df, hue='default')\n",
        "_ = f.set(\n",
        "    title='Relação entre Estado Civil e Sexo',\n",
        "    xlabel='Estado Civil',\n",
        "    ylabel='Sexo'\n",
        "  )"
      ],
      "metadata": {
        "colab": {
          "base_uri": "https://localhost:8080/",
          "height": 529
        },
        "id": "SlncRa9eVu2b",
        "outputId": "1bf068fc-3a0f-4832-dea8-385b6aed9d8f"
      },
      "execution_count": null,
      "outputs": [
        {
          "output_type": "display_data",
          "data": {
            "text/plain": [
              "<Figure size 560.236x500 with 1 Axes>"
            ],
            "image/png": "[encoded data removed]"
          },
          "metadata": {}
        }
      ]
    },
    {
      "cell_type": "markdown",
      "metadata": {
        "id": "jtCp7A-6PP28"
      },
      "source": [
        "## 5\\. Resumo dos *insights* gerados"
      ]
    },
    {
      "cell_type": "markdown",
      "metadata": {
        "id": "h9XpS6Vi1DYz"
      },
      "source": [
        "O *storytelling* no contexto de dados é um técnica de apresentação de resultados orientado a dados, ou seja, contar uma história baseada nos *insights* que foram gerados através da análise dos dados. Notebooks como este do Google Colab e os do Kaggle são excelentes ferramentas para conduzir e compartilhar *storytelling* de dados devido a natureza texto-código de suas céluas."
      ]
    },
    {
      "cell_type": "markdown",
      "metadata": {
        "id": "T0H9WWGr17ZI"
      },
      "source": [
        "Resumo dos *Insights*:\n",
        "\n",
        " 1. 'Relação entre Valor e Quantidade de Transações no Último Ano'<br>\n",
        " O Professor André Perez já demonstrou a importância dessa correlação.\n",
        "\n",
        " 2. 'Relação entre Iterações e Meses inativo'<br>\n",
        "A) A quantidade de meses inativos tende a ser desproporcional entre adimplentes e inadimplentes a partir do 4º mês. Será?<br>\n",
        "B) A quantidade de itereações tende tende a ser desproporcional entre adimplentes e inadimplentes a partir do 3º mês. Será?<br>\n",
        "Conclusão:<br>\n",
        "O Gráfico \"Relação entre Iterações e Meses inativo\" revela que:\n",
        "Há maior chance de realizar o default quando há muitas iterações ao mesmo tempo em que há um aumento gradativo de meses inativo.\n",
        "\n",
        " 3. 'Estado Civil e Sexo'<br>\n",
        "C) Solteiro tem mais predisposição a ser inadimplente do que o casado. Será?<br>\n",
        "D) Mulher tem mais predisposição a ser inadimplente. Será?<br>\n",
        "Conclusão:<br>\n",
        "O Gráfico \"Estado Civil x Sexo\" revela que:\n",
        "Uma mulher casada tende a realizar o default, da mesma forma que um homem divorciado. Solteiros, homens e mulheres, tendem a não realizar o default.\n",
        "\n",
        "\n"
      ]
    },
    {
      "cell_type": "markdown",
      "metadata": {
        "id": "RyRpZU-R3OOy"
      },
      "source": [
        "Espero ter contribuído para a realização de mais *insights*."
      ]
    },
    {
      "cell_type": "markdown",
      "metadata": {
        "id": "s4yGtBF2pKG0"
      },
      "source": [
        "____"
      ]
    },
    {
      "cell_type": "markdown",
      "metadata": {
        "id": "rr6WbbcQo0hS"
      },
      "source": [
        "Parabéns a EBAC pela estrutura do curso.\n",
        "\n",
        "Atencisamente,"
      ]
    }
  ]
}